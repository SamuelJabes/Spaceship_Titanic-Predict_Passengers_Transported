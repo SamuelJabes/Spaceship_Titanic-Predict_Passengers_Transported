{
 "cells": [
  {
   "cell_type": "markdown",
   "metadata": {},
   "source": [
    "# Spaceship Titanic\n",
    "\n",
    "## Which passengers were transported to another dimension?"
   ]
  },
  {
   "cell_type": "markdown",
   "metadata": {},
   "source": [
    "In this lab, we will predict which passengers were transported to another dimension during the Spaceship Titanic's collision with the spacetime anomaly. \n",
    "\n",
    "#### Dataset description\n",
    "\n",
    "- `PassengerId` - A unique Id for each passenger. Each Id takes the form gggg_pp where gggg indicates a group the passenger is travelling with and pp is their number within the group. People in a group are often family members, but not always.\n",
    "- `HomePlanet` - The planet the passenger departed from, typically their planet of permanent residence.\n",
    "- `CryoSleep` - Indicates whether the passenger elected to be put into suspended animation for the duration of the voyage. Passengers in cryosleep are confined to their cabins.\n",
    "- `Cabin` - The cabin number where the passenger is staying. Takes the form deck/num/side, where side can be either P for Port or S for Starboard.\n",
    "- `Destination` - The planet the passenger will be debarking to.\n",
    "- `Age` - The age of the passenger.\n",
    "- `VIP` - Whether the passenger has paid for special VIP service during the voyage.\n",
    "- `RoomService, FoodCourt, ShoppingMall, Spa, VRDeck` - Amount the passenger has billed at each of the Spaceship Titanic's many luxury amenities.\n",
    "- `Name` - The first and last names of the passenger.\n",
    "- `Transported` - Whether the passenger was transported to another dimension. This is the target, the column you are trying to predict."
   ]
  },
  {
   "cell_type": "markdown",
   "metadata": {},
   "source": [
    "<div id=\"outline\"></div>\n",
    "\n",
    "## Outline\n",
    "\n",
    "1. [Packages;](#packages)\n",
    "2. [Viewing The Data;](#view)\n",
    "3. [Exploratory Analysis;](#explorat-analysis)\n",
    "    - [3.1. Viewing our target;](#view-target)\n",
    "    - [3.2. Bar relations;](#bar-rel)\n",
    "    - [3.3. Boxplot's;](#boxplot)\n",
    "\n",
    "\n",
    "4. [Feature Engineering;](#feat-eng)\n",
    "    - [4.1. Column \"Surname\";](#surname)\n",
    "    - [4.2. Column \"GroupNumber\";](#group-num)\n",
    "    - [4.3. Column \"TotalSpend\";](#totalspend)\n",
    "\n",
    "\n",
    "5. [Treatment of Null Values;](#treatment)\n",
    "\n",
    "    \n",
    "6. [Data Prepocessing;](#data-pp)\n",
    "    - [6.1. Spliting the dataframe `df_train` in `X` and `y` dataframes;](#x-y)\n",
    "    - [6.2. Preprocessing numerical data;](#pp-num)\n",
    "    - [6.3. Preprocessing categorical data;](#pp-cat)\n",
    "    - [6.4. Concatenating the dataframes;](#concat)\n",
    "    \n",
    "\n",
    "7. [Model Creation & Evaluation;](#model-ce)\n",
    "    - [7.1. Spliting the data;](#split)\n",
    "    - [7.2. Models;](#models)\n",
    "        - [7.2.1. CatBoostClassifier;](#catboost)\n",
    "        - [7.2.2. Neural Network;](#nerual-net)\n",
    "    - [7.3. Evaluation;](#evaluation)\n",
    "        - [7.3.1. Acuraccy score (CB);](#acc1)\n",
    "        - [7.3.2. Confusion Matrix (CB);](#cm)\n",
    "        - [7.3.3. Treating overfitting and tunning hyperparameters;](#overfit)\n",
    "        - [7.3.4. Precision, Recall and F1 Score (CB);](#prf1)\n",
    "        - [7.3.5. ROC and AUC curves;](#roc-auc)\n",
    "        - [7.3.6. Ideal decision boundary;](#threshold)\n",
    "        - [7.3.7. Acuraccy score (CB);](#acc2)\n",
    "        - [7.3.2. Confusion Matrix (NN);](#cm2)\n",
    "        - [7.3.4. Precision, Recall and F1 Score (NN);](#prf2)\n",
    "        \n",
    "\n",
    "8. [Others Evaluation Models;](#eva-models)\n",
    "    - [8.1. Logistic Regression model;](#lr)\n",
    "    - [8.2. Decision Tree model;](#dt)\n",
    "    - [8.3. Random Forest model;](#rf)\n",
    "    - [8.4. XGBoostClassifier model;](#xgb)\n",
    "    - [8.5. LGBMClassifier model;](#lgb)\n",
    "    - [8.6. Viewing the metrics;](#view-metrics)\n",
    "    \n",
    "\n",
    "9. [Submission;](#submission)\n",
    "    - [9.1. Handling the test set;](#test-set)\n",
    "    - [9.2. Predictions with the CatBoostClassifier;](#predict)"
   ]
  },
  {
   "cell_type": "markdown",
   "metadata": {},
   "source": [
    "<div id='packages'></div>\n",
    "\n",
    "## 1. Packages\n",
    "\n",
    "First, let's run the cell below to import all the packages that we will need during this assignment."
   ]
  },
  {
   "cell_type": "code",
   "execution_count": 1,
   "metadata": {},
   "outputs": [],
   "source": [
    "import numpy as np\n",
    "import pandas as pd\n",
    "import matplotlib.pyplot as plt\n",
    "import seaborn as sns\n",
    "\n",
    "from sklearn.preprocessing import StandardScaler, OneHotEncoder, QuantileTransformer, OrdinalEncoder\n",
    "from sklearn.impute import SimpleImputer\n",
    "from sklearn.model_selection import train_test_split\n",
    "\n",
    "from sklearn.linear_model import LogisticRegression\n",
    "from sklearn.tree import DecisionTreeClassifier\n",
    "from sklearn.ensemble import RandomForestClassifier\n",
    "from xgboost import XGBClassifier\n",
    "from catboost import CatBoostClassifier\n",
    "from lightgbm import LGBMClassifier\n",
    "\n",
    "import tensorflow as tf\n",
    "from tensorflow.keras.models import Sequential\n",
    "from tensorflow.keras.layers import Dense\n",
    "\n",
    "from sklearn.metrics import accuracy_score, precision_score, recall_score, f1_score, confusion_matrix, log_loss, roc_curve, roc_auc_score, precision_recall_curve, average_precision_score\n",
    "from sklearn.model_selection import GridSearchCV"
   ]
  },
  {
   "cell_type": "markdown",
   "metadata": {},
   "source": [
    "<div id='view'></div>\n",
    "\n",
    "## 2. Viewing The Data\n",
    "\n",
    "Taking a look in our training dataset and getting more familiar with it. Remember that the training dataset and test dataset are already separated."
   ]
  },
  {
   "cell_type": "code",
   "execution_count": 2,
   "metadata": {},
   "outputs": [],
   "source": [
    "df_train = pd.read_csv('train.csv')\n",
    "df_test = pd.read_csv('test.csv')"
   ]
  },
  {
   "cell_type": "markdown",
   "metadata": {},
   "source": [
    "Looking at the first five examples of the dataset."
   ]
  },
  {
   "cell_type": "code",
   "execution_count": 3,
   "metadata": {
    "scrolled": true
   },
   "outputs": [
    {
     "data": {
      "text/html": [
       "<div>\n",
       "<style scoped>\n",
       "    .dataframe tbody tr th:only-of-type {\n",
       "        vertical-align: middle;\n",
       "    }\n",
       "\n",
       "    .dataframe tbody tr th {\n",
       "        vertical-align: top;\n",
       "    }\n",
       "\n",
       "    .dataframe thead th {\n",
       "        text-align: right;\n",
       "    }\n",
       "</style>\n",
       "<table border=\"1\" class=\"dataframe\">\n",
       "  <thead>\n",
       "    <tr style=\"text-align: right;\">\n",
       "      <th></th>\n",
       "      <th>PassengerId</th>\n",
       "      <th>HomePlanet</th>\n",
       "      <th>CryoSleep</th>\n",
       "      <th>Cabin</th>\n",
       "      <th>Destination</th>\n",
       "      <th>Age</th>\n",
       "      <th>VIP</th>\n",
       "      <th>RoomService</th>\n",
       "      <th>FoodCourt</th>\n",
       "      <th>ShoppingMall</th>\n",
       "      <th>Spa</th>\n",
       "      <th>VRDeck</th>\n",
       "      <th>Name</th>\n",
       "      <th>Transported</th>\n",
       "    </tr>\n",
       "  </thead>\n",
       "  <tbody>\n",
       "    <tr>\n",
       "      <th>0</th>\n",
       "      <td>0001_01</td>\n",
       "      <td>Europa</td>\n",
       "      <td>False</td>\n",
       "      <td>B/0/P</td>\n",
       "      <td>TRAPPIST-1e</td>\n",
       "      <td>39.0</td>\n",
       "      <td>False</td>\n",
       "      <td>0.0</td>\n",
       "      <td>0.0</td>\n",
       "      <td>0.0</td>\n",
       "      <td>0.0</td>\n",
       "      <td>0.0</td>\n",
       "      <td>Maham Ofracculy</td>\n",
       "      <td>False</td>\n",
       "    </tr>\n",
       "    <tr>\n",
       "      <th>1</th>\n",
       "      <td>0002_01</td>\n",
       "      <td>Earth</td>\n",
       "      <td>False</td>\n",
       "      <td>F/0/S</td>\n",
       "      <td>TRAPPIST-1e</td>\n",
       "      <td>24.0</td>\n",
       "      <td>False</td>\n",
       "      <td>109.0</td>\n",
       "      <td>9.0</td>\n",
       "      <td>25.0</td>\n",
       "      <td>549.0</td>\n",
       "      <td>44.0</td>\n",
       "      <td>Juanna Vines</td>\n",
       "      <td>True</td>\n",
       "    </tr>\n",
       "    <tr>\n",
       "      <th>2</th>\n",
       "      <td>0003_01</td>\n",
       "      <td>Europa</td>\n",
       "      <td>False</td>\n",
       "      <td>A/0/S</td>\n",
       "      <td>TRAPPIST-1e</td>\n",
       "      <td>58.0</td>\n",
       "      <td>True</td>\n",
       "      <td>43.0</td>\n",
       "      <td>3576.0</td>\n",
       "      <td>0.0</td>\n",
       "      <td>6715.0</td>\n",
       "      <td>49.0</td>\n",
       "      <td>Altark Susent</td>\n",
       "      <td>False</td>\n",
       "    </tr>\n",
       "    <tr>\n",
       "      <th>3</th>\n",
       "      <td>0003_02</td>\n",
       "      <td>Europa</td>\n",
       "      <td>False</td>\n",
       "      <td>A/0/S</td>\n",
       "      <td>TRAPPIST-1e</td>\n",
       "      <td>33.0</td>\n",
       "      <td>False</td>\n",
       "      <td>0.0</td>\n",
       "      <td>1283.0</td>\n",
       "      <td>371.0</td>\n",
       "      <td>3329.0</td>\n",
       "      <td>193.0</td>\n",
       "      <td>Solam Susent</td>\n",
       "      <td>False</td>\n",
       "    </tr>\n",
       "    <tr>\n",
       "      <th>4</th>\n",
       "      <td>0004_01</td>\n",
       "      <td>Earth</td>\n",
       "      <td>False</td>\n",
       "      <td>F/1/S</td>\n",
       "      <td>TRAPPIST-1e</td>\n",
       "      <td>16.0</td>\n",
       "      <td>False</td>\n",
       "      <td>303.0</td>\n",
       "      <td>70.0</td>\n",
       "      <td>151.0</td>\n",
       "      <td>565.0</td>\n",
       "      <td>2.0</td>\n",
       "      <td>Willy Santantines</td>\n",
       "      <td>True</td>\n",
       "    </tr>\n",
       "  </tbody>\n",
       "</table>\n",
       "</div>"
      ],
      "text/plain": [
       "  PassengerId HomePlanet CryoSleep  Cabin  Destination   Age    VIP  \\\n",
       "0     0001_01     Europa     False  B/0/P  TRAPPIST-1e  39.0  False   \n",
       "1     0002_01      Earth     False  F/0/S  TRAPPIST-1e  24.0  False   \n",
       "2     0003_01     Europa     False  A/0/S  TRAPPIST-1e  58.0   True   \n",
       "3     0003_02     Europa     False  A/0/S  TRAPPIST-1e  33.0  False   \n",
       "4     0004_01      Earth     False  F/1/S  TRAPPIST-1e  16.0  False   \n",
       "\n",
       "   RoomService  FoodCourt  ShoppingMall     Spa  VRDeck               Name  \\\n",
       "0          0.0        0.0           0.0     0.0     0.0    Maham Ofracculy   \n",
       "1        109.0        9.0          25.0   549.0    44.0       Juanna Vines   \n",
       "2         43.0     3576.0           0.0  6715.0    49.0      Altark Susent   \n",
       "3          0.0     1283.0         371.0  3329.0   193.0       Solam Susent   \n",
       "4        303.0       70.0         151.0   565.0     2.0  Willy Santantines   \n",
       "\n",
       "   Transported  \n",
       "0        False  \n",
       "1         True  \n",
       "2        False  \n",
       "3        False  \n",
       "4         True  "
      ]
     },
     "execution_count": 3,
     "metadata": {},
     "output_type": "execute_result"
    }
   ],
   "source": [
    "df_train.head()"
   ]
  },
  {
   "cell_type": "markdown",
   "metadata": {},
   "source": [
    "Seeing the shape of our dataset."
   ]
  },
  {
   "cell_type": "code",
   "execution_count": 4,
   "metadata": {},
   "outputs": [
    {
     "name": "stdout",
     "output_type": "stream",
     "text": [
      "The number of rows is: 8693\n",
      "The number of columns is: 14\n"
     ]
    }
   ],
   "source": [
    "n_rows = df_train.shape[0]\n",
    "n_columns = df_train.shape[1]\n",
    "\n",
    "print(f\"The number of rows is: {n_rows}\")\n",
    "print(f\"The number of columns is: {n_columns}\")"
   ]
  },
  {
   "cell_type": "code",
   "execution_count": 5,
   "metadata": {
    "scrolled": true
   },
   "outputs": [
    {
     "data": {
      "text/plain": [
       "PassengerId      object\n",
       "HomePlanet       object\n",
       "CryoSleep        object\n",
       "Cabin            object\n",
       "Destination      object\n",
       "Age             float64\n",
       "VIP              object\n",
       "RoomService     float64\n",
       "FoodCourt       float64\n",
       "ShoppingMall    float64\n",
       "Spa             float64\n",
       "VRDeck          float64\n",
       "Name             object\n",
       "Transported        bool\n",
       "dtype: object"
      ]
     },
     "execution_count": 5,
     "metadata": {},
     "output_type": "execute_result"
    }
   ],
   "source": [
    "df_train.dtypes"
   ]
  },
  {
   "cell_type": "markdown",
   "metadata": {},
   "source": [
    "Checking if the dataframe has some null value."
   ]
  },
  {
   "cell_type": "code",
   "execution_count": 6,
   "metadata": {
    "scrolled": true
   },
   "outputs": [
    {
     "data": {
      "text/plain": [
       "PassengerId       0\n",
       "HomePlanet      201\n",
       "CryoSleep       217\n",
       "Cabin           199\n",
       "Destination     182\n",
       "Age             179\n",
       "VIP             203\n",
       "RoomService     181\n",
       "FoodCourt       183\n",
       "ShoppingMall    208\n",
       "Spa             183\n",
       "VRDeck          188\n",
       "Name            200\n",
       "Transported       0\n",
       "dtype: int64"
      ]
     },
     "execution_count": 6,
     "metadata": {},
     "output_type": "execute_result"
    }
   ],
   "source": [
    "df_train.isnull().sum()"
   ]
  },
  {
   "cell_type": "markdown",
   "metadata": {},
   "source": [
    "Notice that we have some columns with null values, then, posteriorly, we have we will have to treat these columns."
   ]
  },
  {
   "cell_type": "markdown",
   "metadata": {},
   "source": [
    "#### Summary of each categorical feature"
   ]
  },
  {
   "cell_type": "code",
   "execution_count": 7,
   "metadata": {},
   "outputs": [
    {
     "data": {
      "text/html": [
       "<div>\n",
       "<style scoped>\n",
       "    .dataframe tbody tr th:only-of-type {\n",
       "        vertical-align: middle;\n",
       "    }\n",
       "\n",
       "    .dataframe tbody tr th {\n",
       "        vertical-align: top;\n",
       "    }\n",
       "\n",
       "    .dataframe thead th {\n",
       "        text-align: right;\n",
       "    }\n",
       "</style>\n",
       "<table border=\"1\" class=\"dataframe\">\n",
       "  <thead>\n",
       "    <tr style=\"text-align: right;\">\n",
       "      <th></th>\n",
       "      <th>PassengerId</th>\n",
       "      <th>HomePlanet</th>\n",
       "      <th>CryoSleep</th>\n",
       "      <th>Cabin</th>\n",
       "      <th>Destination</th>\n",
       "      <th>VIP</th>\n",
       "      <th>Name</th>\n",
       "    </tr>\n",
       "  </thead>\n",
       "  <tbody>\n",
       "    <tr>\n",
       "      <th>count</th>\n",
       "      <td>8693</td>\n",
       "      <td>8492</td>\n",
       "      <td>8476</td>\n",
       "      <td>8494</td>\n",
       "      <td>8511</td>\n",
       "      <td>8490</td>\n",
       "      <td>8493</td>\n",
       "    </tr>\n",
       "    <tr>\n",
       "      <th>unique</th>\n",
       "      <td>8693</td>\n",
       "      <td>3</td>\n",
       "      <td>2</td>\n",
       "      <td>6560</td>\n",
       "      <td>3</td>\n",
       "      <td>2</td>\n",
       "      <td>8473</td>\n",
       "    </tr>\n",
       "    <tr>\n",
       "      <th>top</th>\n",
       "      <td>0001_01</td>\n",
       "      <td>Earth</td>\n",
       "      <td>False</td>\n",
       "      <td>G/734/S</td>\n",
       "      <td>TRAPPIST-1e</td>\n",
       "      <td>False</td>\n",
       "      <td>Gollux Reedall</td>\n",
       "    </tr>\n",
       "    <tr>\n",
       "      <th>freq</th>\n",
       "      <td>1</td>\n",
       "      <td>4602</td>\n",
       "      <td>5439</td>\n",
       "      <td>8</td>\n",
       "      <td>5915</td>\n",
       "      <td>8291</td>\n",
       "      <td>2</td>\n",
       "    </tr>\n",
       "  </tbody>\n",
       "</table>\n",
       "</div>"
      ],
      "text/plain": [
       "       PassengerId HomePlanet CryoSleep    Cabin  Destination    VIP  \\\n",
       "count         8693       8492      8476     8494         8511   8490   \n",
       "unique        8693          3         2     6560            3      2   \n",
       "top        0001_01      Earth     False  G/734/S  TRAPPIST-1e  False   \n",
       "freq             1       4602      5439        8         5915   8291   \n",
       "\n",
       "                  Name  \n",
       "count             8493  \n",
       "unique            8473  \n",
       "top     Gollux Reedall  \n",
       "freq                 2  "
      ]
     },
     "execution_count": 7,
     "metadata": {},
     "output_type": "execute_result"
    }
   ],
   "source": [
    "df_train.describe(include=object)"
   ]
  },
  {
   "cell_type": "markdown",
   "metadata": {},
   "source": [
    "#### Summary measures of each numerical feature"
   ]
  },
  {
   "cell_type": "code",
   "execution_count": 8,
   "metadata": {
    "scrolled": true
   },
   "outputs": [
    {
     "data": {
      "text/html": [
       "<div>\n",
       "<style scoped>\n",
       "    .dataframe tbody tr th:only-of-type {\n",
       "        vertical-align: middle;\n",
       "    }\n",
       "\n",
       "    .dataframe tbody tr th {\n",
       "        vertical-align: top;\n",
       "    }\n",
       "\n",
       "    .dataframe thead th {\n",
       "        text-align: right;\n",
       "    }\n",
       "</style>\n",
       "<table border=\"1\" class=\"dataframe\">\n",
       "  <thead>\n",
       "    <tr style=\"text-align: right;\">\n",
       "      <th></th>\n",
       "      <th>Age</th>\n",
       "      <th>RoomService</th>\n",
       "      <th>FoodCourt</th>\n",
       "      <th>ShoppingMall</th>\n",
       "      <th>Spa</th>\n",
       "      <th>VRDeck</th>\n",
       "    </tr>\n",
       "  </thead>\n",
       "  <tbody>\n",
       "    <tr>\n",
       "      <th>count</th>\n",
       "      <td>8514.000000</td>\n",
       "      <td>8512.000000</td>\n",
       "      <td>8510.000000</td>\n",
       "      <td>8485.000000</td>\n",
       "      <td>8510.000000</td>\n",
       "      <td>8505.000000</td>\n",
       "    </tr>\n",
       "    <tr>\n",
       "      <th>mean</th>\n",
       "      <td>28.827930</td>\n",
       "      <td>224.687617</td>\n",
       "      <td>458.077203</td>\n",
       "      <td>173.729169</td>\n",
       "      <td>311.138778</td>\n",
       "      <td>304.854791</td>\n",
       "    </tr>\n",
       "    <tr>\n",
       "      <th>std</th>\n",
       "      <td>14.489021</td>\n",
       "      <td>666.717663</td>\n",
       "      <td>1611.489240</td>\n",
       "      <td>604.696458</td>\n",
       "      <td>1136.705535</td>\n",
       "      <td>1145.717189</td>\n",
       "    </tr>\n",
       "    <tr>\n",
       "      <th>min</th>\n",
       "      <td>0.000000</td>\n",
       "      <td>0.000000</td>\n",
       "      <td>0.000000</td>\n",
       "      <td>0.000000</td>\n",
       "      <td>0.000000</td>\n",
       "      <td>0.000000</td>\n",
       "    </tr>\n",
       "    <tr>\n",
       "      <th>25%</th>\n",
       "      <td>19.000000</td>\n",
       "      <td>0.000000</td>\n",
       "      <td>0.000000</td>\n",
       "      <td>0.000000</td>\n",
       "      <td>0.000000</td>\n",
       "      <td>0.000000</td>\n",
       "    </tr>\n",
       "    <tr>\n",
       "      <th>50%</th>\n",
       "      <td>27.000000</td>\n",
       "      <td>0.000000</td>\n",
       "      <td>0.000000</td>\n",
       "      <td>0.000000</td>\n",
       "      <td>0.000000</td>\n",
       "      <td>0.000000</td>\n",
       "    </tr>\n",
       "    <tr>\n",
       "      <th>75%</th>\n",
       "      <td>38.000000</td>\n",
       "      <td>47.000000</td>\n",
       "      <td>76.000000</td>\n",
       "      <td>27.000000</td>\n",
       "      <td>59.000000</td>\n",
       "      <td>46.000000</td>\n",
       "    </tr>\n",
       "    <tr>\n",
       "      <th>max</th>\n",
       "      <td>79.000000</td>\n",
       "      <td>14327.000000</td>\n",
       "      <td>29813.000000</td>\n",
       "      <td>23492.000000</td>\n",
       "      <td>22408.000000</td>\n",
       "      <td>24133.000000</td>\n",
       "    </tr>\n",
       "  </tbody>\n",
       "</table>\n",
       "</div>"
      ],
      "text/plain": [
       "               Age   RoomService     FoodCourt  ShoppingMall           Spa  \\\n",
       "count  8514.000000   8512.000000   8510.000000   8485.000000   8510.000000   \n",
       "mean     28.827930    224.687617    458.077203    173.729169    311.138778   \n",
       "std      14.489021    666.717663   1611.489240    604.696458   1136.705535   \n",
       "min       0.000000      0.000000      0.000000      0.000000      0.000000   \n",
       "25%      19.000000      0.000000      0.000000      0.000000      0.000000   \n",
       "50%      27.000000      0.000000      0.000000      0.000000      0.000000   \n",
       "75%      38.000000     47.000000     76.000000     27.000000     59.000000   \n",
       "max      79.000000  14327.000000  29813.000000  23492.000000  22408.000000   \n",
       "\n",
       "             VRDeck  \n",
       "count   8505.000000  \n",
       "mean     304.854791  \n",
       "std     1145.717189  \n",
       "min        0.000000  \n",
       "25%        0.000000  \n",
       "50%        0.000000  \n",
       "75%       46.000000  \n",
       "max    24133.000000  "
      ]
     },
     "execution_count": 8,
     "metadata": {},
     "output_type": "execute_result"
    }
   ],
   "source": [
    "df_train.describe(include=[int, float])"
   ]
  },
  {
   "cell_type": "markdown",
   "metadata": {},
   "source": [
    "<div id='explorat_analysis'></div>\n",
    "\n",
    "## 3. Exploratory Analysis"
   ]
  },
  {
   "cell_type": "markdown",
   "metadata": {},
   "source": [
    "<div id='view_target'></div>\n",
    "\n",
    "### 3.1. Viewing our `target`"
   ]
  },
  {
   "cell_type": "markdown",
   "metadata": {},
   "source": [
    "Our target is the column `Transported`, which tell us if a passenger were transported to another dimension or not. We can see that with the values of this column, that are:\n",
    "\n",
    "- `False`: The passenger were not transported.\n",
    "- `True`: The passenger were transported.\n",
    "\n",
    "Let's take a look in the proportion of the values."
   ]
  },
  {
   "cell_type": "code",
   "execution_count": 9,
   "metadata": {},
   "outputs": [
    {
     "data": {
      "text/plain": [
       "True     0.504\n",
       "False    0.496\n",
       "Name: Transported, dtype: float64"
      ]
     },
     "execution_count": 9,
     "metadata": {},
     "output_type": "execute_result"
    }
   ],
   "source": [
    "df_train['Transported'].value_counts(normalize=True).round(3)"
   ]
  },
  {
   "cell_type": "markdown",
   "metadata": {},
   "source": [
    "That is great, this showns that the proportion between the two possibilities it's practically the same. This mean that the dataset is balanced, which avoids **overffiting**, is able to **not overestimate performance and generalize more**."
   ]
  },
  {
   "cell_type": "markdown",
   "metadata": {},
   "source": [
    "<div id='bar_rel'></div>\n",
    "\n",
    "### 3.2.  Bar relations\n",
    "\n",
    "Let's try verify some relations that the others columns have with our target."
   ]
  },
  {
   "cell_type": "code",
   "execution_count": 10,
   "metadata": {
    "scrolled": false
   },
   "outputs": [
    {
     "data": {
      "image/png": "[encoded data removed]",
      "text/plain": [
       "<Figure size 720x432 with 1 Axes>"
      ]
     },
     "metadata": {
      "needs_background": "light"
     },
     "output_type": "display_data"
    },
    {
     "data": {
      "image/png": "[encoded data removed]",
      "text/plain": [
       "<Figure size 720x432 with 1 Axes>"
      ]
     },
     "metadata": {
      "needs_background": "light"
     },
     "output_type": "display_data"
    }
   ],
   "source": [
    "# ploting bar of CryoSleep and VIP (only two values)\n",
    "colors1 = ['lightblue','darkblue']\n",
    "\n",
    "relation = pd.crosstab(df_train['CryoSleep'], df_train['Transported'])\n",
    "relation.plot.bar(color = colors1, figsize=(10,6))\n",
    "plt.ylabel('Count')\n",
    "plt.legend(loc='center')\n",
    "plt.legend(bbox_to_anchor=(1.3, 0.95)); # Coloca legenda para fora da janela gráfica\n",
    "plt.title('Transported x CryoSleep')\n",
    "plt.show()\n",
    "\n",
    "relation = pd.crosstab(df_train['VIP'], df_train['Transported'])\n",
    "relation.plot.bar(color = colors1, figsize=(10,6))\n",
    "plt.ylabel('Count')\n",
    "plt.legend(loc='center')\n",
    "plt.legend(bbox_to_anchor=(1.3, 0.95)); # Coloca legenda para fora da janela gráfica\n",
    "plt.title('Transported x VIP')\n",
    "plt.show()"
   ]
  },
  {
   "cell_type": "code",
   "execution_count": 11,
   "metadata": {},
   "outputs": [
    {
     "data": {
      "image/png": "[encoded data removed]",
      "text/plain": [
       "<Figure size 720x432 with 1 Axes>"
      ]
     },
     "metadata": {
      "needs_background": "light"
     },
     "output_type": "display_data"
    },
    {
     "data": {
      "image/png": "[encoded data removed]",
      "text/plain": [
       "<Figure size 720x432 with 1 Axes>"
      ]
     },
     "metadata": {
      "needs_background": "light"
     },
     "output_type": "display_data"
    }
   ],
   "source": [
    "# ploting bar of CryoSleep and VIP (only three values)\n",
    "colors2 = ['pink','darkred']\n",
    "\n",
    "relation = pd.crosstab(df_train['Destination'], df_train['Transported'])\n",
    "relation.plot.bar(color = colors2, figsize=(10,6))\n",
    "plt.ylabel('Count')\n",
    "plt.legend(loc='center')\n",
    "plt.legend(bbox_to_anchor=(1.3, 0.95)); # Coloca legenda para fora da janela gráfica\n",
    "plt.title('Transported x CryoSleep')\n",
    "plt.show()\n",
    "\n",
    "relation = pd.crosstab(df_train['HomePlanet'], df_train['Transported'])\n",
    "relation.plot.bar(color = colors2, figsize=(10,6))\n",
    "plt.ylabel('Count')\n",
    "plt.legend(loc='center')\n",
    "plt.legend(bbox_to_anchor=(1.3, 0.95)); # Coloca legenda para fora da janela gráfica\n",
    "plt.title('Transported x VIP')\n",
    "plt.show()"
   ]
  },
  {
   "cell_type": "markdown",
   "metadata": {},
   "source": [
    "<div id='boxplot'></div>\n",
    "\n",
    "### 3.3. Boxplot's"
   ]
  },
  {
   "cell_type": "code",
   "execution_count": 12,
   "metadata": {},
   "outputs": [
    {
     "data": {
      "image/png": "[encoded data removed]",
      "text/plain": [
       "<Figure size 1080x504 with 1 Axes>"
      ]
     },
     "metadata": {
      "needs_background": "light"
     },
     "output_type": "display_data"
    }
   ],
   "source": [
    "# taking numerical columns without age \n",
    "num_columns = ['RoomService', 'FoodCourt', 'ShoppingMall', 'Spa', 'VRDeck']\n",
    "numerical = df_train.loc[:, num_columns]\n",
    "\n",
    "# figure size\n",
    "plt.figure(figsize=(15, 7))\n",
    "\n",
    "# Create simultaneous boxplot with Seaborn\n",
    "sns.boxplot(data=numerical)\n",
    "plt.xlabel('Ways to spend')\n",
    "plt.ylabel('Expenses')\n",
    "plt.title('Boxplot of expenses',loc=\"center\", fontsize=18)\n",
    "\n",
    "# Show the figure\n",
    "plt.show()"
   ]
  },
  {
   "cell_type": "markdown",
   "metadata": {},
   "source": [
    "Although we observe that there are extreme and different values in each of the types of expenses, we can say that these values **make sense**, since:\n",
    "\n",
    "- For example, by bar graphs, in this case in relation to \"Transported x VIP\", the overwhelming majority does not adhere to the VIP service, which can demonstrate that **the vast majority either do not need or are not able to pay for it**.\n",
    "\n",
    "- If we analyze the bar graph of \"Transported x CryoSleep\", a reasonable proportion of people were placed in cryogenic cabins, which we can **infer that basically people in a cryogenic state will not have expenses during the trip**.\n",
    "\n",
    "\n",
    "Thus, it is really intuitive that these values ​​make sense, since the vast majority are not interested in, do not need or cannot pay for the VIP service, in addition to the fact that a reasonable number of passengers are in a cryogenic state.\n",
    "\n",
    "\n",
    "therefore, we **will not** remove the outliers."
   ]
  },
  {
   "cell_type": "markdown",
   "metadata": {},
   "source": [
    "<div id='feat_eng'></div>\n",
    "\n",
    "## 4. Feature Engineering"
   ]
  },
  {
   "cell_type": "markdown",
   "metadata": {},
   "source": [
    "<div id='surname'></div>\n",
    "\n",
    "### 4.1. Column \"Surname\"\n",
    "\n",
    "We can observe that passengers of the same group, tends to have the same last name. So, we will create the column \"Surname\" for keep this information."
   ]
  },
  {
   "cell_type": "code",
   "execution_count": 13,
   "metadata": {},
   "outputs": [],
   "source": [
    "df_train['Surname'] = df_train.loc[df_train['Name'].notnull(), 'Name'].apply(lambda x: x.split()[1])"
   ]
  },
  {
   "cell_type": "markdown",
   "metadata": {},
   "source": [
    "<div id='group-num'></div>\n",
    "\n",
    "### 4.2. Column \"GroupNumber\"\n",
    "\n",
    "Let's assume that for the sake of simplification, the part that really contains important information is just the number that refers to the group with which the passenger is traveling in `PassengerId`.  If you noticed too, **there are no null values** ​​for the `PassengerId` column, which can help filtering out null values."
   ]
  },
  {
   "cell_type": "code",
   "execution_count": 14,
   "metadata": {},
   "outputs": [],
   "source": [
    "df_train['GroupNumber'] = df_train.PassengerId.str.split('_').str[0].astype(int)"
   ]
  },
  {
   "cell_type": "markdown",
   "metadata": {},
   "source": [
    "<div id='totalspend'></div>\n",
    "\n",
    "### 4.3. Column \"TotalSpend\"\n",
    "\n",
    "This column will keep the sum of all expenses of each passenger."
   ]
  },
  {
   "cell_type": "code",
   "execution_count": 15,
   "metadata": {},
   "outputs": [],
   "source": [
    "df_train['TotalSpend'] = df_train[num_columns].sum(axis=1)\n",
    "\n",
    "# Assume that if passenger didn't spend any money in non-missing expense columns then he popably didn't in a missing columns (most often there is only 1 column missing so propability of that is high)\n",
    "df_train.loc[df_train['TotalSpend'] == 0, num_columns] = 0"
   ]
  },
  {
   "cell_type": "markdown",
   "metadata": {},
   "source": [
    "<div id='treatment'></div>\n",
    "\n",
    "## 5. Treatment of Null Values\n",
    "\n",
    "Firstly, let's fill missing values of `Cabin`, `Surname`, `HomePlanet` and `Destination` based on `GroupNumber`. We will assume that passengers in one room have the same cabin, destination, surname and home planet."
   ]
  },
  {
   "cell_type": "code",
   "execution_count": 16,
   "metadata": {},
   "outputs": [],
   "source": [
    "room_related_columns = ['Cabin', 'Surname', 'Destination', 'HomePlanet']\n",
    "\n",
    "for col in room_related_columns:\n",
    "    room_to_col = df_train[['GroupNumber', col]].dropna().groupby('GroupNumber')[col].apply(lambda x: x.mode()[0]) # without dropna mode for single person rooms with nan col would be empty and mode()[0] will raise an error\n",
    "    df_train[col] = df_train.apply(lambda row: room_to_col[row['GroupNumber']] if pd.isna(row[col]) and row['GroupNumber'] in room_to_col.index else row[col], axis=1)\n",
    "    df_train[col] = df_train.groupby('GroupNumber')[col].ffill().bfill()"
   ]
  },
  {
   "cell_type": "markdown",
   "metadata": {},
   "source": [
    "Let's split the column `Cabin` in 3 new columns:\n",
    "\n",
    "- `CabDeck`\n",
    "- `CabNum`\n",
    "- `CabSide`"
   ]
  },
  {
   "cell_type": "code",
   "execution_count": 17,
   "metadata": {},
   "outputs": [],
   "source": [
    "df_train[['CabDeck', 'CabNum', 'CabSide']] = df_train['Cabin'].str.split('/', expand=True)\n",
    "\n",
    "# After Cabin split, CabNumber is a object type column so we will convert it to int \n",
    "df_train['CabNum'] = pd.to_numeric(df_train['CabNum']).astype(int)"
   ]
  },
  {
   "cell_type": "markdown",
   "metadata": {},
   "source": [
    "Now, remembering the intuition acquired in 3.3., let's consider 3 cases:\n",
    "\n",
    "- If the passenger is in a cryogenic sleep, his total spending should be 0 and any expense.\n",
    "\n",
    "- If the passenger has spent a certain amount of money, then he is not in cryogenic sleep.\n",
    "\n",
    "- If the passenger has not spent, then he will most likely be in cryogenic sleep."
   ]
  },
  {
   "cell_type": "code",
   "execution_count": 18,
   "metadata": {},
   "outputs": [],
   "source": [
    "# first case\n",
    "df_train.loc[df_train['CryoSleep'] == True, ['TotalSpend'] + num_columns] = 0\n",
    "\n",
    "# second case\n",
    "df_train.loc[(df_train['CryoSleep'].isnull()) & (df_train['TotalSpend'] > 0), 'CryoSleep'] = False\n",
    "\n",
    "# third case \n",
    "df_train.loc[(df_train['CryoSleep'].isnull()) & (df_train['TotalSpend'] == 0), 'CryoSleep'] = True"
   ]
  },
  {
   "cell_type": "markdown",
   "metadata": {},
   "source": [
    "**Drop Columns**\n",
    "\n",
    "Now that we've managed to extract important information, the `Name` and `Cabin` columns are no longer relevant. Let's drop them."
   ]
  },
  {
   "cell_type": "code",
   "execution_count": 19,
   "metadata": {},
   "outputs": [],
   "source": [
    "df_train.drop(columns=['Cabin', 'Name'], inplace=True)"
   ]
  },
  {
   "cell_type": "markdown",
   "metadata": {},
   "source": [
    "Let's see which null values still have."
   ]
  },
  {
   "cell_type": "code",
   "execution_count": 20,
   "metadata": {},
   "outputs": [
    {
     "data": {
      "text/plain": [
       "PassengerId       0\n",
       "HomePlanet        0\n",
       "CryoSleep         0\n",
       "Destination       0\n",
       "Age             179\n",
       "VIP             203\n",
       "RoomService     103\n",
       "FoodCourt       102\n",
       "ShoppingMall    100\n",
       "Spa             112\n",
       "VRDeck          102\n",
       "Transported       0\n",
       "Surname           0\n",
       "GroupNumber       0\n",
       "TotalSpend        0\n",
       "CabDeck           0\n",
       "CabNum            0\n",
       "CabSide           0\n",
       "dtype: int64"
      ]
     },
     "execution_count": 20,
     "metadata": {},
     "output_type": "execute_result"
    }
   ],
   "source": [
    "df_train.isnull().sum()"
   ]
  },
  {
   "cell_type": "markdown",
   "metadata": {},
   "source": [
    "Apparently, what's left is to filter out null values ​​from numeric columns."
   ]
  },
  {
   "cell_type": "markdown",
   "metadata": {},
   "source": [
    "<div id='data-pp'></div>\n",
    "\n",
    "## 6. Data Preprocessing"
   ]
  },
  {
   "cell_type": "markdown",
   "metadata": {},
   "source": [
    "<div id='x-y'></div>\n",
    "\n",
    "### 6.1. Spliting the dataframe `df_train` in `X` and `y` dataframes."
   ]
  },
  {
   "cell_type": "code",
   "execution_count": 21,
   "metadata": {},
   "outputs": [],
   "source": [
    "X = df_train.drop(columns='Transported', inplace=False)\n",
    "y = df_train.loc[:, 'Transported']"
   ]
  },
  {
   "cell_type": "markdown",
   "metadata": {},
   "source": [
    "<div id=\"pp-num\"></div>\n",
    "\n",
    "### 6.2. Preprocessing numerical data\n",
    "\n",
    "**Numerical columns**\n",
    "- `StandardImputer()` fills missing values with mean\n",
    "- `QuantileTransformer()` is used so the data follows normal distribution\n",
    "- `StandartScaler()` normalizes the data, mean = 0, std = 1\n"
   ]
  },
  {
   "cell_type": "markdown",
   "metadata": {},
   "source": [
    "First, let's start separating the numerical features of our `X` dataframe."
   ]
  },
  {
   "cell_type": "code",
   "execution_count": 22,
   "metadata": {},
   "outputs": [],
   "source": [
    "numerical_features = []\n",
    "for column in X.columns:\n",
    "    if X[column].dtypes == 'float64' or X[column].dtypes == 'int32':\n",
    "        numerical_features.append(column)\n",
    "\n",
    "df_num = X.loc[:, numerical_features]"
   ]
  },
  {
   "cell_type": "markdown",
   "metadata": {},
   "source": [
    "With the `SimpleImputer`, let's fill the missing values by the strategy `mean`."
   ]
  },
  {
   "cell_type": "code",
   "execution_count": 23,
   "metadata": {},
   "outputs": [],
   "source": [
    "# Create a instance of SimpleImputer with strategy of mean\n",
    "imputer = SimpleImputer(strategy='mean')\n",
    "\n",
    "# Apply the SimpleImputer\n",
    "df_impute = imputer.fit_transform(df_num)"
   ]
  },
  {
   "cell_type": "markdown",
   "metadata": {},
   "source": [
    "Now, we will make the features follow a normal distribution with the transformer `QuantileTransformer`."
   ]
  },
  {
   "cell_type": "code",
   "execution_count": 24,
   "metadata": {},
   "outputs": [],
   "source": [
    "# Create a instance of QuantileTransformer\n",
    "transformer = QuantileTransformer(output_distribution='normal', random_state=2137)\n",
    "\n",
    "# Apply the QuantileTransformer to df_impute\n",
    "df_transf = transformer.fit_transform(df_impute)"
   ]
  },
  {
   "cell_type": "markdown",
   "metadata": {},
   "source": [
    "Finally, we will scale the values ​​obtained with `StandardScaler`."
   ]
  },
  {
   "cell_type": "code",
   "execution_count": 25,
   "metadata": {},
   "outputs": [],
   "source": [
    "# Create a instance of StandardScaler\n",
    "scaler = StandardScaler()\n",
    "\n",
    "# apply the StandardScaler to df_transf\n",
    "df_scaler = scaler.fit_transform(df_transf)"
   ]
  },
  {
   "cell_type": "code",
   "execution_count": 26,
   "metadata": {},
   "outputs": [],
   "source": [
    "df_num = pd.DataFrame(df_scaler, columns=numerical_features)"
   ]
  },
  {
   "cell_type": "code",
   "execution_count": 27,
   "metadata": {},
   "outputs": [
    {
     "data": {
      "text/html": [
       "<div>\n",
       "<style scoped>\n",
       "    .dataframe tbody tr th:only-of-type {\n",
       "        vertical-align: middle;\n",
       "    }\n",
       "\n",
       "    .dataframe tbody tr th {\n",
       "        vertical-align: top;\n",
       "    }\n",
       "\n",
       "    .dataframe thead th {\n",
       "        text-align: right;\n",
       "    }\n",
       "</style>\n",
       "<table border=\"1\" class=\"dataframe\">\n",
       "  <thead>\n",
       "    <tr style=\"text-align: right;\">\n",
       "      <th></th>\n",
       "      <th>Age</th>\n",
       "      <th>RoomService</th>\n",
       "      <th>FoodCourt</th>\n",
       "      <th>ShoppingMall</th>\n",
       "      <th>Spa</th>\n",
       "      <th>VRDeck</th>\n",
       "      <th>GroupNumber</th>\n",
       "      <th>TotalSpend</th>\n",
       "      <th>CabNum</th>\n",
       "    </tr>\n",
       "  </thead>\n",
       "  <tbody>\n",
       "    <tr>\n",
       "      <th>0</th>\n",
       "      <td>0.687314</td>\n",
       "      <td>-0.728833</td>\n",
       "      <td>-0.750479</td>\n",
       "      <td>-0.721543</td>\n",
       "      <td>-0.776926</td>\n",
       "      <td>-0.742384</td>\n",
       "      <td>-5.184648</td>\n",
       "      <td>-1.158301</td>\n",
       "      <td>-5.099170</td>\n",
       "    </tr>\n",
       "    <tr>\n",
       "      <th>1</th>\n",
       "      <td>-0.161416</td>\n",
       "      <td>1.251290</td>\n",
       "      <td>1.134122</td>\n",
       "      <td>1.231545</td>\n",
       "      <td>1.309369</td>\n",
       "      <td>1.201219</td>\n",
       "      <td>-3.606217</td>\n",
       "      <td>0.621619</td>\n",
       "      <td>-5.099170</td>\n",
       "    </tr>\n",
       "    <tr>\n",
       "      <th>2</th>\n",
       "      <td>1.549540</td>\n",
       "      <td>1.218752</td>\n",
       "      <td>1.569770</td>\n",
       "      <td>-0.721543</td>\n",
       "      <td>1.765332</td>\n",
       "      <td>1.204310</td>\n",
       "      <td>-3.423109</td>\n",
       "      <td>1.309495</td>\n",
       "      <td>-5.099170</td>\n",
       "    </tr>\n",
       "    <tr>\n",
       "      <th>3</th>\n",
       "      <td>0.401203</td>\n",
       "      <td>-0.728833</td>\n",
       "      <td>1.426241</td>\n",
       "      <td>1.383480</td>\n",
       "      <td>1.598274</td>\n",
       "      <td>1.266890</td>\n",
       "      <td>-3.423109</td>\n",
       "      <td>1.113858</td>\n",
       "      <td>-5.099170</td>\n",
       "    </tr>\n",
       "    <tr>\n",
       "      <th>4</th>\n",
       "      <td>-0.814420</td>\n",
       "      <td>1.319495</td>\n",
       "      <td>1.188760</td>\n",
       "      <td>1.309119</td>\n",
       "      <td>1.314234</td>\n",
       "      <td>1.123672</td>\n",
       "      <td>-3.311901</td>\n",
       "      <td>0.782533</td>\n",
       "      <td>-2.692718</td>\n",
       "    </tr>\n",
       "  </tbody>\n",
       "</table>\n",
       "</div>"
      ],
      "text/plain": [
       "        Age  RoomService  FoodCourt  ShoppingMall       Spa    VRDeck  \\\n",
       "0  0.687314    -0.728833  -0.750479     -0.721543 -0.776926 -0.742384   \n",
       "1 -0.161416     1.251290   1.134122      1.231545  1.309369  1.201219   \n",
       "2  1.549540     1.218752   1.569770     -0.721543  1.765332  1.204310   \n",
       "3  0.401203    -0.728833   1.426241      1.383480  1.598274  1.266890   \n",
       "4 -0.814420     1.319495   1.188760      1.309119  1.314234  1.123672   \n",
       "\n",
       "   GroupNumber  TotalSpend    CabNum  \n",
       "0    -5.184648   -1.158301 -5.099170  \n",
       "1    -3.606217    0.621619 -5.099170  \n",
       "2    -3.423109    1.309495 -5.099170  \n",
       "3    -3.423109    1.113858 -5.099170  \n",
       "4    -3.311901    0.782533 -2.692718  "
      ]
     },
     "execution_count": 27,
     "metadata": {},
     "output_type": "execute_result"
    }
   ],
   "source": [
    "df_num.head()"
   ]
  },
  {
   "cell_type": "markdown",
   "metadata": {},
   "source": [
    "<div id=\"pp-cat\"></div>\n",
    "\n",
    "### 6.3. Preprocessing categorical data\n",
    "\n",
    "**Categorical columns**\n",
    "- `StandardImputer()` fills missing values with most frequent ones\n",
    "- `OneHotEncoder()` one-hot encodes the data\n",
    "- Categorical one-hot encoded columns are already binary so performing `QuantileTransformer()` and `StandartScaler()` won't change much"
   ]
  },
  {
   "cell_type": "markdown",
   "metadata": {},
   "source": [
    "First, let's start separating the numerical features of our `X` dataframe."
   ]
  },
  {
   "cell_type": "code",
   "execution_count": 28,
   "metadata": {},
   "outputs": [],
   "source": [
    "categorical_features = ['HomePlanet', 'CryoSleep', 'Destination', 'VIP', 'CabDeck', 'CabSide']\n",
    "\n",
    "df_cat = X.loc[:, categorical_features]"
   ]
  },
  {
   "cell_type": "markdown",
   "metadata": {},
   "source": [
    "With the `SimpleImputer`, let's fill the missing values by the strategy `most_frequenty`."
   ]
  },
  {
   "cell_type": "code",
   "execution_count": 29,
   "metadata": {},
   "outputs": [],
   "source": [
    "# Create a instance of SimpleImputer with the strategy of \"most_frequent\"\n",
    "imputer_cat = SimpleImputer(strategy='most_frequent')\n",
    "\n",
    "# Apply the SimpleImputer to categorical data\n",
    "df_cat_imput = imputer_cat.fit_transform(df_cat)\n",
    "\n",
    "# Convert the imputed data to a DataFrame\n",
    "df_imput = pd.DataFrame(df_cat_imput, columns=categorical_features)"
   ]
  },
  {
   "cell_type": "markdown",
   "metadata": {},
   "source": [
    "Now, we will apply the `OneHotEncoder` to impute data."
   ]
  },
  {
   "cell_type": "code",
   "execution_count": 30,
   "metadata": {},
   "outputs": [
    {
     "name": "stderr",
     "output_type": "stream",
     "text": [
      "C:\\Users\\samue\\anaconda3\\lib\\site-packages\\sklearn\\utils\\deprecation.py:87: FutureWarning: Function get_feature_names is deprecated; get_feature_names is deprecated in 1.0 and will be removed in 1.2. Please use get_feature_names_out instead.\n",
      "  warnings.warn(msg, category=FutureWarning)\n"
     ]
    },
    {
     "data": {
      "text/html": [
       "<div>\n",
       "<style scoped>\n",
       "    .dataframe tbody tr th:only-of-type {\n",
       "        vertical-align: middle;\n",
       "    }\n",
       "\n",
       "    .dataframe tbody tr th {\n",
       "        vertical-align: top;\n",
       "    }\n",
       "\n",
       "    .dataframe thead th {\n",
       "        text-align: right;\n",
       "    }\n",
       "</style>\n",
       "<table border=\"1\" class=\"dataframe\">\n",
       "  <thead>\n",
       "    <tr style=\"text-align: right;\">\n",
       "      <th></th>\n",
       "      <th>HomePlanet_Earth</th>\n",
       "      <th>HomePlanet_Europa</th>\n",
       "      <th>HomePlanet_Mars</th>\n",
       "      <th>CryoSleep_False</th>\n",
       "      <th>CryoSleep_True</th>\n",
       "      <th>Destination_55 Cancri e</th>\n",
       "      <th>Destination_PSO J318.5-22</th>\n",
       "      <th>Destination_TRAPPIST-1e</th>\n",
       "      <th>VIP_False</th>\n",
       "      <th>VIP_True</th>\n",
       "      <th>CabDeck_A</th>\n",
       "      <th>CabDeck_B</th>\n",
       "      <th>CabDeck_C</th>\n",
       "      <th>CabDeck_D</th>\n",
       "      <th>CabDeck_E</th>\n",
       "      <th>CabDeck_F</th>\n",
       "      <th>CabDeck_G</th>\n",
       "      <th>CabDeck_T</th>\n",
       "      <th>CabSide_P</th>\n",
       "      <th>CabSide_S</th>\n",
       "    </tr>\n",
       "  </thead>\n",
       "  <tbody>\n",
       "    <tr>\n",
       "      <th>0</th>\n",
       "      <td>0.0</td>\n",
       "      <td>1.0</td>\n",
       "      <td>0.0</td>\n",
       "      <td>1.0</td>\n",
       "      <td>0.0</td>\n",
       "      <td>0.0</td>\n",
       "      <td>0.0</td>\n",
       "      <td>1.0</td>\n",
       "      <td>1.0</td>\n",
       "      <td>0.0</td>\n",
       "      <td>0.0</td>\n",
       "      <td>1.0</td>\n",
       "      <td>0.0</td>\n",
       "      <td>0.0</td>\n",
       "      <td>0.0</td>\n",
       "      <td>0.0</td>\n",
       "      <td>0.0</td>\n",
       "      <td>0.0</td>\n",
       "      <td>1.0</td>\n",
       "      <td>0.0</td>\n",
       "    </tr>\n",
       "    <tr>\n",
       "      <th>1</th>\n",
       "      <td>1.0</td>\n",
       "      <td>0.0</td>\n",
       "      <td>0.0</td>\n",
       "      <td>1.0</td>\n",
       "      <td>0.0</td>\n",
       "      <td>0.0</td>\n",
       "      <td>0.0</td>\n",
       "      <td>1.0</td>\n",
       "      <td>1.0</td>\n",
       "      <td>0.0</td>\n",
       "      <td>0.0</td>\n",
       "      <td>0.0</td>\n",
       "      <td>0.0</td>\n",
       "      <td>0.0</td>\n",
       "      <td>0.0</td>\n",
       "      <td>1.0</td>\n",
       "      <td>0.0</td>\n",
       "      <td>0.0</td>\n",
       "      <td>0.0</td>\n",
       "      <td>1.0</td>\n",
       "    </tr>\n",
       "    <tr>\n",
       "      <th>2</th>\n",
       "      <td>0.0</td>\n",
       "      <td>1.0</td>\n",
       "      <td>0.0</td>\n",
       "      <td>1.0</td>\n",
       "      <td>0.0</td>\n",
       "      <td>0.0</td>\n",
       "      <td>0.0</td>\n",
       "      <td>1.0</td>\n",
       "      <td>0.0</td>\n",
       "      <td>1.0</td>\n",
       "      <td>1.0</td>\n",
       "      <td>0.0</td>\n",
       "      <td>0.0</td>\n",
       "      <td>0.0</td>\n",
       "      <td>0.0</td>\n",
       "      <td>0.0</td>\n",
       "      <td>0.0</td>\n",
       "      <td>0.0</td>\n",
       "      <td>0.0</td>\n",
       "      <td>1.0</td>\n",
       "    </tr>\n",
       "    <tr>\n",
       "      <th>3</th>\n",
       "      <td>0.0</td>\n",
       "      <td>1.0</td>\n",
       "      <td>0.0</td>\n",
       "      <td>1.0</td>\n",
       "      <td>0.0</td>\n",
       "      <td>0.0</td>\n",
       "      <td>0.0</td>\n",
       "      <td>1.0</td>\n",
       "      <td>1.0</td>\n",
       "      <td>0.0</td>\n",
       "      <td>1.0</td>\n",
       "      <td>0.0</td>\n",
       "      <td>0.0</td>\n",
       "      <td>0.0</td>\n",
       "      <td>0.0</td>\n",
       "      <td>0.0</td>\n",
       "      <td>0.0</td>\n",
       "      <td>0.0</td>\n",
       "      <td>0.0</td>\n",
       "      <td>1.0</td>\n",
       "    </tr>\n",
       "    <tr>\n",
       "      <th>4</th>\n",
       "      <td>1.0</td>\n",
       "      <td>0.0</td>\n",
       "      <td>0.0</td>\n",
       "      <td>1.0</td>\n",
       "      <td>0.0</td>\n",
       "      <td>0.0</td>\n",
       "      <td>0.0</td>\n",
       "      <td>1.0</td>\n",
       "      <td>1.0</td>\n",
       "      <td>0.0</td>\n",
       "      <td>0.0</td>\n",
       "      <td>0.0</td>\n",
       "      <td>0.0</td>\n",
       "      <td>0.0</td>\n",
       "      <td>0.0</td>\n",
       "      <td>1.0</td>\n",
       "      <td>0.0</td>\n",
       "      <td>0.0</td>\n",
       "      <td>0.0</td>\n",
       "      <td>1.0</td>\n",
       "    </tr>\n",
       "  </tbody>\n",
       "</table>\n",
       "</div>"
      ],
      "text/plain": [
       "   HomePlanet_Earth  HomePlanet_Europa  HomePlanet_Mars  CryoSleep_False  \\\n",
       "0               0.0                1.0              0.0              1.0   \n",
       "1               1.0                0.0              0.0              1.0   \n",
       "2               0.0                1.0              0.0              1.0   \n",
       "3               0.0                1.0              0.0              1.0   \n",
       "4               1.0                0.0              0.0              1.0   \n",
       "\n",
       "   CryoSleep_True  Destination_55 Cancri e  Destination_PSO J318.5-22  \\\n",
       "0             0.0                      0.0                        0.0   \n",
       "1             0.0                      0.0                        0.0   \n",
       "2             0.0                      0.0                        0.0   \n",
       "3             0.0                      0.0                        0.0   \n",
       "4             0.0                      0.0                        0.0   \n",
       "\n",
       "   Destination_TRAPPIST-1e  VIP_False  VIP_True  CabDeck_A  CabDeck_B  \\\n",
       "0                      1.0        1.0       0.0        0.0        1.0   \n",
       "1                      1.0        1.0       0.0        0.0        0.0   \n",
       "2                      1.0        0.0       1.0        1.0        0.0   \n",
       "3                      1.0        1.0       0.0        1.0        0.0   \n",
       "4                      1.0        1.0       0.0        0.0        0.0   \n",
       "\n",
       "   CabDeck_C  CabDeck_D  CabDeck_E  CabDeck_F  CabDeck_G  CabDeck_T  \\\n",
       "0        0.0        0.0        0.0        0.0        0.0        0.0   \n",
       "1        0.0        0.0        0.0        1.0        0.0        0.0   \n",
       "2        0.0        0.0        0.0        0.0        0.0        0.0   \n",
       "3        0.0        0.0        0.0        0.0        0.0        0.0   \n",
       "4        0.0        0.0        0.0        1.0        0.0        0.0   \n",
       "\n",
       "   CabSide_P  CabSide_S  \n",
       "0        1.0        0.0  \n",
       "1        0.0        1.0  \n",
       "2        0.0        1.0  \n",
       "3        0.0        1.0  \n",
       "4        0.0        1.0  "
      ]
     },
     "execution_count": 30,
     "metadata": {},
     "output_type": "execute_result"
    }
   ],
   "source": [
    "# Create a instance of OneHotEncoder\n",
    "encoder = OneHotEncoder()\n",
    "\n",
    "# Apply the OneHotEncoder to categorical impute data\n",
    "df_cat_encoded = encoder.fit_transform(df_imput).toarray()\n",
    "\n",
    "# Converter os dados one-hot encoded em um DataFrame\n",
    "df_cat = pd.DataFrame(df_cat_encoded, columns=encoder.get_feature_names(categorical_features))\n",
    "\n",
    "df_cat.head()"
   ]
  },
  {
   "cell_type": "markdown",
   "metadata": {},
   "source": [
    "**Column `Surname`**\n",
    "\n",
    "\n",
    "Despite being a categorical column, it is not binary, so we will use numeric column transformers"
   ]
  },
  {
   "cell_type": "code",
   "execution_count": 31,
   "metadata": {},
   "outputs": [],
   "source": [
    "surname_col = df_train['Surname']\n",
    "\n",
    "# Apply the SimpleImputer with the strategy 'most_frequent'\n",
    "surn_imputer = SimpleImputer(strategy='most_frequent')\n",
    "surname_coluna_imputado = surn_imputer.fit_transform(surname_col.values.reshape(-1, 1))\n",
    "\n",
    "# Apply the OrdinalEncoder\n",
    "encoder = OrdinalEncoder(handle_unknown='use_encoded_value', unknown_value=-1)\n",
    "surname_col_encoded = encoder.fit_transform(surname_coluna_imputado)\n",
    "\n",
    "# pd.Series\n",
    "surname_series = pd.Series(surname_col_encoded.flatten())"
   ]
  },
  {
   "cell_type": "markdown",
   "metadata": {},
   "source": [
    "<div id=\"concat\"></div>\n",
    "\n",
    "### 6.4. Concatenating the dataframes"
   ]
  },
  {
   "cell_type": "code",
   "execution_count": 32,
   "metadata": {
    "scrolled": true
   },
   "outputs": [
    {
     "data": {
      "text/html": [
       "<div>\n",
       "<style scoped>\n",
       "    .dataframe tbody tr th:only-of-type {\n",
       "        vertical-align: middle;\n",
       "    }\n",
       "\n",
       "    .dataframe tbody tr th {\n",
       "        vertical-align: top;\n",
       "    }\n",
       "\n",
       "    .dataframe thead th {\n",
       "        text-align: right;\n",
       "    }\n",
       "</style>\n",
       "<table border=\"1\" class=\"dataframe\">\n",
       "  <thead>\n",
       "    <tr style=\"text-align: right;\">\n",
       "      <th></th>\n",
       "      <th>Age</th>\n",
       "      <th>RoomService</th>\n",
       "      <th>FoodCourt</th>\n",
       "      <th>ShoppingMall</th>\n",
       "      <th>Spa</th>\n",
       "      <th>VRDeck</th>\n",
       "      <th>GroupNumber</th>\n",
       "      <th>TotalSpend</th>\n",
       "      <th>CabNum</th>\n",
       "      <th>HomePlanet_Earth</th>\n",
       "      <th>...</th>\n",
       "      <th>CabDeck_B</th>\n",
       "      <th>CabDeck_C</th>\n",
       "      <th>CabDeck_D</th>\n",
       "      <th>CabDeck_E</th>\n",
       "      <th>CabDeck_F</th>\n",
       "      <th>CabDeck_G</th>\n",
       "      <th>CabDeck_T</th>\n",
       "      <th>CabSide_P</th>\n",
       "      <th>CabSide_S</th>\n",
       "      <th>Surname</th>\n",
       "    </tr>\n",
       "  </thead>\n",
       "  <tbody>\n",
       "    <tr>\n",
       "      <th>0</th>\n",
       "      <td>0.687314</td>\n",
       "      <td>-0.728833</td>\n",
       "      <td>-0.750479</td>\n",
       "      <td>-0.721543</td>\n",
       "      <td>-0.776926</td>\n",
       "      <td>-0.742384</td>\n",
       "      <td>-5.184648</td>\n",
       "      <td>-1.158301</td>\n",
       "      <td>-5.099170</td>\n",
       "      <td>0.0</td>\n",
       "      <td>...</td>\n",
       "      <td>1.0</td>\n",
       "      <td>0.0</td>\n",
       "      <td>0.0</td>\n",
       "      <td>0.0</td>\n",
       "      <td>0.0</td>\n",
       "      <td>0.0</td>\n",
       "      <td>0.0</td>\n",
       "      <td>1.0</td>\n",
       "      <td>0.0</td>\n",
       "      <td>1431.0</td>\n",
       "    </tr>\n",
       "    <tr>\n",
       "      <th>1</th>\n",
       "      <td>-0.161416</td>\n",
       "      <td>1.251290</td>\n",
       "      <td>1.134122</td>\n",
       "      <td>1.231545</td>\n",
       "      <td>1.309369</td>\n",
       "      <td>1.201219</td>\n",
       "      <td>-3.606217</td>\n",
       "      <td>0.621619</td>\n",
       "      <td>-5.099170</td>\n",
       "      <td>1.0</td>\n",
       "      <td>...</td>\n",
       "      <td>0.0</td>\n",
       "      <td>0.0</td>\n",
       "      <td>0.0</td>\n",
       "      <td>0.0</td>\n",
       "      <td>1.0</td>\n",
       "      <td>0.0</td>\n",
       "      <td>0.0</td>\n",
       "      <td>0.0</td>\n",
       "      <td>1.0</td>\n",
       "      <td>2109.0</td>\n",
       "    </tr>\n",
       "    <tr>\n",
       "      <th>2</th>\n",
       "      <td>1.549540</td>\n",
       "      <td>1.218752</td>\n",
       "      <td>1.569770</td>\n",
       "      <td>-0.721543</td>\n",
       "      <td>1.765332</td>\n",
       "      <td>1.204310</td>\n",
       "      <td>-3.423109</td>\n",
       "      <td>1.309495</td>\n",
       "      <td>-5.099170</td>\n",
       "      <td>0.0</td>\n",
       "      <td>...</td>\n",
       "      <td>0.0</td>\n",
       "      <td>0.0</td>\n",
       "      <td>0.0</td>\n",
       "      <td>0.0</td>\n",
       "      <td>0.0</td>\n",
       "      <td>0.0</td>\n",
       "      <td>0.0</td>\n",
       "      <td>0.0</td>\n",
       "      <td>1.0</td>\n",
       "      <td>1990.0</td>\n",
       "    </tr>\n",
       "    <tr>\n",
       "      <th>3</th>\n",
       "      <td>0.401203</td>\n",
       "      <td>-0.728833</td>\n",
       "      <td>1.426241</td>\n",
       "      <td>1.383480</td>\n",
       "      <td>1.598274</td>\n",
       "      <td>1.266890</td>\n",
       "      <td>-3.423109</td>\n",
       "      <td>1.113858</td>\n",
       "      <td>-5.099170</td>\n",
       "      <td>0.0</td>\n",
       "      <td>...</td>\n",
       "      <td>0.0</td>\n",
       "      <td>0.0</td>\n",
       "      <td>0.0</td>\n",
       "      <td>0.0</td>\n",
       "      <td>0.0</td>\n",
       "      <td>0.0</td>\n",
       "      <td>0.0</td>\n",
       "      <td>0.0</td>\n",
       "      <td>1.0</td>\n",
       "      <td>1990.0</td>\n",
       "    </tr>\n",
       "    <tr>\n",
       "      <th>4</th>\n",
       "      <td>-0.814420</td>\n",
       "      <td>1.319495</td>\n",
       "      <td>1.188760</td>\n",
       "      <td>1.309119</td>\n",
       "      <td>1.314234</td>\n",
       "      <td>1.123672</td>\n",
       "      <td>-3.311901</td>\n",
       "      <td>0.782533</td>\n",
       "      <td>-2.692718</td>\n",
       "      <td>1.0</td>\n",
       "      <td>...</td>\n",
       "      <td>0.0</td>\n",
       "      <td>0.0</td>\n",
       "      <td>0.0</td>\n",
       "      <td>0.0</td>\n",
       "      <td>1.0</td>\n",
       "      <td>0.0</td>\n",
       "      <td>0.0</td>\n",
       "      <td>0.0</td>\n",
       "      <td>1.0</td>\n",
       "      <td>1778.0</td>\n",
       "    </tr>\n",
       "  </tbody>\n",
       "</table>\n",
       "<p>5 rows × 30 columns</p>\n",
       "</div>"
      ],
      "text/plain": [
       "        Age  RoomService  FoodCourt  ShoppingMall       Spa    VRDeck  \\\n",
       "0  0.687314    -0.728833  -0.750479     -0.721543 -0.776926 -0.742384   \n",
       "1 -0.161416     1.251290   1.134122      1.231545  1.309369  1.201219   \n",
       "2  1.549540     1.218752   1.569770     -0.721543  1.765332  1.204310   \n",
       "3  0.401203    -0.728833   1.426241      1.383480  1.598274  1.266890   \n",
       "4 -0.814420     1.319495   1.188760      1.309119  1.314234  1.123672   \n",
       "\n",
       "   GroupNumber  TotalSpend    CabNum  HomePlanet_Earth  ...  CabDeck_B  \\\n",
       "0    -5.184648   -1.158301 -5.099170               0.0  ...        1.0   \n",
       "1    -3.606217    0.621619 -5.099170               1.0  ...        0.0   \n",
       "2    -3.423109    1.309495 -5.099170               0.0  ...        0.0   \n",
       "3    -3.423109    1.113858 -5.099170               0.0  ...        0.0   \n",
       "4    -3.311901    0.782533 -2.692718               1.0  ...        0.0   \n",
       "\n",
       "   CabDeck_C  CabDeck_D  CabDeck_E  CabDeck_F  CabDeck_G  CabDeck_T  \\\n",
       "0        0.0        0.0        0.0        0.0        0.0        0.0   \n",
       "1        0.0        0.0        0.0        1.0        0.0        0.0   \n",
       "2        0.0        0.0        0.0        0.0        0.0        0.0   \n",
       "3        0.0        0.0        0.0        0.0        0.0        0.0   \n",
       "4        0.0        0.0        0.0        1.0        0.0        0.0   \n",
       "\n",
       "   CabSide_P  CabSide_S  Surname  \n",
       "0        1.0        0.0   1431.0  \n",
       "1        0.0        1.0   2109.0  \n",
       "2        0.0        1.0   1990.0  \n",
       "3        0.0        1.0   1990.0  \n",
       "4        0.0        1.0   1778.0  \n",
       "\n",
       "[5 rows x 30 columns]"
      ]
     },
     "execution_count": 32,
     "metadata": {},
     "output_type": "execute_result"
    }
   ],
   "source": [
    "X_new = pd.concat([df_num, df_cat], axis=1)\n",
    "X_new['Surname'] = surname_series\n",
    "X_new.head()"
   ]
  },
  {
   "cell_type": "markdown",
   "metadata": {},
   "source": [
    "<div id=\"model-ce\"></div>\n",
    "\n",
    "## 7. Model Creation & Evaluation"
   ]
  },
  {
   "cell_type": "markdown",
   "metadata": {},
   "source": [
    "<div id=\"split\"></div>\n",
    "\n",
    "### 7.1. Spliting the data\n",
    "\n",
    "Let's split the training data and the validation data."
   ]
  },
  {
   "cell_type": "code",
   "execution_count": 33,
   "metadata": {},
   "outputs": [],
   "source": [
    "X_train, X_cv, y_train, y_cv = train_test_split(X_new, y, test_size=0.2, random_state=2137)"
   ]
  },
  {
   "cell_type": "code",
   "execution_count": 34,
   "metadata": {},
   "outputs": [
    {
     "name": "stdout",
     "output_type": "stream",
     "text": [
      "Dimension of X_train => (6954, 30)\n",
      "Dimension of X_cv => (1739, 30)\n",
      "Dimension of y_train => (6954,)\n",
      "Dimension of y_cv => (1739,)\n"
     ]
    }
   ],
   "source": [
    "print(\"Dimension of X_train =>\", X_train.shape)\n",
    "print(\"Dimension of X_cv =>\", X_cv.shape)\n",
    "print(\"Dimension of y_train =>\", y_train.shape)\n",
    "print(\"Dimension of y_cv =>\", y_cv.shape)"
   ]
  },
  {
   "cell_type": "markdown",
   "metadata": {},
   "source": [
    "<div id=\"models\"></div>\n",
    "\n",
    "### 7.2. Models\n",
    "\n",
    "For this problem, we will follow the performance of two models:\n",
    "\n",
    "- `CatBoostClassifier`\n",
    "- `A Neural Network with TF`\n",
    "\n",
    "First, let's train both."
   ]
  },
  {
   "cell_type": "markdown",
   "metadata": {},
   "source": [
    "<div id=\"catboost\"></div>\n",
    "\n",
    "#### 7.2.1. CatBoostClassifier"
   ]
  },
  {
   "cell_type": "code",
   "execution_count": 35,
   "metadata": {},
   "outputs": [
    {
     "name": "stdout",
     "output_type": "stream",
     "text": [
      "Learning rate set to 0.023581\n",
      "0:\tlearn: 0.6836251\ttotal: 136ms\tremaining: 2m 16s\n",
      "1:\tlearn: 0.6721664\ttotal: 140ms\tremaining: 1m 9s\n",
      "2:\tlearn: 0.6612754\ttotal: 143ms\tremaining: 47.4s\n",
      "3:\tlearn: 0.6520622\ttotal: 145ms\tremaining: 36.1s\n",
      "4:\tlearn: 0.6427354\ttotal: 148ms\tremaining: 29.5s\n",
      "5:\tlearn: 0.6340168\ttotal: 151ms\tremaining: 25s\n",
      "6:\tlearn: 0.6264526\ttotal: 154ms\tremaining: 21.8s\n",
      "7:\tlearn: 0.6184255\ttotal: 156ms\tremaining: 19.4s\n",
      "8:\tlearn: 0.6104730\ttotal: 160ms\tremaining: 17.6s\n",
      "9:\tlearn: 0.6020576\ttotal: 163ms\tremaining: 16.2s\n",
      "10:\tlearn: 0.5943949\ttotal: 167ms\tremaining: 15s\n",
      "11:\tlearn: 0.5879186\ttotal: 170ms\tremaining: 14s\n",
      "12:\tlearn: 0.5822273\ttotal: 173ms\tremaining: 13.1s\n",
      "13:\tlearn: 0.5769826\ttotal: 176ms\tremaining: 12.4s\n",
      "14:\tlearn: 0.5709719\ttotal: 179ms\tremaining: 11.7s\n",
      "15:\tlearn: 0.5656118\ttotal: 182ms\tremaining: 11.2s\n",
      "16:\tlearn: 0.5611138\ttotal: 186ms\tremaining: 10.7s\n",
      "17:\tlearn: 0.5572931\ttotal: 189ms\tremaining: 10.3s\n",
      "18:\tlearn: 0.5534162\ttotal: 192ms\tremaining: 9.93s\n",
      "19:\tlearn: 0.5486675\ttotal: 195ms\tremaining: 9.57s\n",
      "20:\tlearn: 0.5445083\ttotal: 199ms\tremaining: 9.26s\n",
      "21:\tlearn: 0.5404923\ttotal: 202ms\tremaining: 8.97s\n",
      "22:\tlearn: 0.5361944\ttotal: 206ms\tremaining: 8.73s\n",
      "23:\tlearn: 0.5324345\ttotal: 209ms\tremaining: 8.5s\n",
      "24:\tlearn: 0.5289049\ttotal: 212ms\tremaining: 8.28s\n",
      "25:\tlearn: 0.5262592\ttotal: 215ms\tremaining: 8.06s\n",
      "26:\tlearn: 0.5223410\ttotal: 218ms\tremaining: 7.86s\n",
      "27:\tlearn: 0.5184729\ttotal: 221ms\tremaining: 7.67s\n",
      "28:\tlearn: 0.5155721\ttotal: 224ms\tremaining: 7.5s\n",
      "29:\tlearn: 0.5129763\ttotal: 227ms\tremaining: 7.34s\n",
      "30:\tlearn: 0.5105028\ttotal: 230ms\tremaining: 7.19s\n",
      "31:\tlearn: 0.5078568\ttotal: 233ms\tremaining: 7.04s\n",
      "32:\tlearn: 0.5057137\ttotal: 236ms\tremaining: 6.9s\n",
      "33:\tlearn: 0.5030017\ttotal: 238ms\tremaining: 6.77s\n",
      "34:\tlearn: 0.5000855\ttotal: 241ms\tremaining: 6.64s\n",
      "35:\tlearn: 0.4980674\ttotal: 244ms\tremaining: 6.53s\n",
      "36:\tlearn: 0.4953759\ttotal: 246ms\tremaining: 6.41s\n",
      "37:\tlearn: 0.4934260\ttotal: 249ms\tremaining: 6.3s\n",
      "38:\tlearn: 0.4917082\ttotal: 252ms\tremaining: 6.2s\n",
      "39:\tlearn: 0.4888122\ttotal: 254ms\tremaining: 6.1s\n",
      "40:\tlearn: 0.4869949\ttotal: 257ms\tremaining: 6.01s\n",
      "41:\tlearn: 0.4850588\ttotal: 260ms\tremaining: 5.92s\n",
      "42:\tlearn: 0.4834738\ttotal: 262ms\tremaining: 5.84s\n",
      "43:\tlearn: 0.4811087\ttotal: 265ms\tremaining: 5.76s\n",
      "44:\tlearn: 0.4790709\ttotal: 267ms\tremaining: 5.67s\n",
      "45:\tlearn: 0.4771307\ttotal: 270ms\tremaining: 5.6s\n",
      "46:\tlearn: 0.4758869\ttotal: 273ms\tremaining: 5.53s\n",
      "47:\tlearn: 0.4742297\ttotal: 275ms\tremaining: 5.46s\n",
      "48:\tlearn: 0.4728706\ttotal: 278ms\tremaining: 5.39s\n",
      "49:\tlearn: 0.4710062\ttotal: 280ms\tremaining: 5.33s\n",
      "50:\tlearn: 0.4693674\ttotal: 283ms\tremaining: 5.27s\n",
      "51:\tlearn: 0.4680371\ttotal: 286ms\tremaining: 5.21s\n",
      "52:\tlearn: 0.4661749\ttotal: 288ms\tremaining: 5.15s\n",
      "53:\tlearn: 0.4648696\ttotal: 291ms\tremaining: 5.1s\n",
      "54:\tlearn: 0.4635152\ttotal: 294ms\tremaining: 5.05s\n",
      "55:\tlearn: 0.4624004\ttotal: 297ms\tremaining: 5s\n",
      "56:\tlearn: 0.4610210\ttotal: 300ms\tremaining: 4.96s\n",
      "57:\tlearn: 0.4596242\ttotal: 302ms\tremaining: 4.91s\n",
      "58:\tlearn: 0.4582233\ttotal: 305ms\tremaining: 4.86s\n",
      "59:\tlearn: 0.4566482\ttotal: 308ms\tremaining: 4.82s\n",
      "60:\tlearn: 0.4554552\ttotal: 311ms\tremaining: 4.78s\n",
      "61:\tlearn: 0.4543724\ttotal: 313ms\tremaining: 4.74s\n",
      "62:\tlearn: 0.4534593\ttotal: 317ms\tremaining: 4.71s\n",
      "63:\tlearn: 0.4522779\ttotal: 320ms\tremaining: 4.68s\n",
      "64:\tlearn: 0.4512217\ttotal: 323ms\tremaining: 4.65s\n",
      "65:\tlearn: 0.4502996\ttotal: 328ms\tremaining: 4.65s\n",
      "66:\tlearn: 0.4493747\ttotal: 333ms\tremaining: 4.64s\n",
      "67:\tlearn: 0.4483648\ttotal: 337ms\tremaining: 4.62s\n",
      "68:\tlearn: 0.4468659\ttotal: 342ms\tremaining: 4.61s\n",
      "69:\tlearn: 0.4462947\ttotal: 345ms\tremaining: 4.58s\n",
      "70:\tlearn: 0.4451497\ttotal: 348ms\tremaining: 4.56s\n",
      "71:\tlearn: 0.4441007\ttotal: 351ms\tremaining: 4.53s\n",
      "72:\tlearn: 0.4433438\ttotal: 355ms\tremaining: 4.5s\n",
      "73:\tlearn: 0.4425574\ttotal: 358ms\tremaining: 4.48s\n",
      "74:\tlearn: 0.4418746\ttotal: 361ms\tremaining: 4.46s\n",
      "75:\tlearn: 0.4408629\ttotal: 365ms\tremaining: 4.43s\n",
      "76:\tlearn: 0.4399749\ttotal: 369ms\tremaining: 4.42s\n",
      "77:\tlearn: 0.4392049\ttotal: 372ms\tremaining: 4.4s\n",
      "78:\tlearn: 0.4383107\ttotal: 376ms\tremaining: 4.38s\n",
      "79:\tlearn: 0.4372620\ttotal: 379ms\tremaining: 4.36s\n",
      "80:\tlearn: 0.4362640\ttotal: 382ms\tremaining: 4.33s\n",
      "81:\tlearn: 0.4354864\ttotal: 385ms\tremaining: 4.31s\n",
      "82:\tlearn: 0.4348111\ttotal: 388ms\tremaining: 4.29s\n",
      "83:\tlearn: 0.4336322\ttotal: 392ms\tremaining: 4.27s\n",
      "84:\tlearn: 0.4326273\ttotal: 395ms\tremaining: 4.25s\n",
      "85:\tlearn: 0.4314945\ttotal: 398ms\tremaining: 4.23s\n",
      "86:\tlearn: 0.4309075\ttotal: 401ms\tremaining: 4.2s\n",
      "87:\tlearn: 0.4302094\ttotal: 403ms\tremaining: 4.18s\n",
      "88:\tlearn: 0.4294928\ttotal: 406ms\tremaining: 4.16s\n",
      "89:\tlearn: 0.4283365\ttotal: 409ms\tremaining: 4.14s\n",
      "90:\tlearn: 0.4274674\ttotal: 413ms\tremaining: 4.12s\n",
      "91:\tlearn: 0.4265567\ttotal: 415ms\tremaining: 4.1s\n",
      "92:\tlearn: 0.4257177\ttotal: 418ms\tremaining: 4.08s\n",
      "93:\tlearn: 0.4250561\ttotal: 422ms\tremaining: 4.06s\n",
      "94:\tlearn: 0.4244476\ttotal: 425ms\tremaining: 4.04s\n",
      "95:\tlearn: 0.4237773\ttotal: 428ms\tremaining: 4.03s\n",
      "96:\tlearn: 0.4232246\ttotal: 431ms\tremaining: 4.01s\n",
      "97:\tlearn: 0.4226223\ttotal: 434ms\tremaining: 3.99s\n",
      "98:\tlearn: 0.4220915\ttotal: 437ms\tremaining: 3.97s\n",
      "99:\tlearn: 0.4215210\ttotal: 440ms\tremaining: 3.96s\n",
      "100:\tlearn: 0.4208122\ttotal: 443ms\tremaining: 3.94s\n",
      "101:\tlearn: 0.4204075\ttotal: 446ms\tremaining: 3.92s\n",
      "102:\tlearn: 0.4198337\ttotal: 448ms\tremaining: 3.9s\n",
      "103:\tlearn: 0.4191517\ttotal: 451ms\tremaining: 3.88s\n",
      "104:\tlearn: 0.4184232\ttotal: 454ms\tremaining: 3.87s\n",
      "105:\tlearn: 0.4176796\ttotal: 456ms\tremaining: 3.85s\n",
      "106:\tlearn: 0.4172041\ttotal: 459ms\tremaining: 3.83s\n",
      "107:\tlearn: 0.4166790\ttotal: 462ms\tremaining: 3.81s\n",
      "108:\tlearn: 0.4160948\ttotal: 464ms\tremaining: 3.8s\n",
      "109:\tlearn: 0.4153498\ttotal: 467ms\tremaining: 3.78s\n",
      "110:\tlearn: 0.4148630\ttotal: 471ms\tremaining: 3.77s\n",
      "111:\tlearn: 0.4144665\ttotal: 474ms\tremaining: 3.75s\n",
      "112:\tlearn: 0.4138833\ttotal: 476ms\tremaining: 3.74s\n",
      "113:\tlearn: 0.4134800\ttotal: 479ms\tremaining: 3.72s\n",
      "114:\tlearn: 0.4126017\ttotal: 482ms\tremaining: 3.71s\n",
      "115:\tlearn: 0.4121791\ttotal: 485ms\tremaining: 3.69s\n",
      "116:\tlearn: 0.4117645\ttotal: 487ms\tremaining: 3.68s\n",
      "117:\tlearn: 0.4112642\ttotal: 490ms\tremaining: 3.66s\n",
      "118:\tlearn: 0.4106746\ttotal: 493ms\tremaining: 3.65s\n",
      "119:\tlearn: 0.4103113\ttotal: 496ms\tremaining: 3.64s\n",
      "120:\tlearn: 0.4098577\ttotal: 500ms\tremaining: 3.63s\n",
      "121:\tlearn: 0.4092796\ttotal: 503ms\tremaining: 3.62s\n",
      "122:\tlearn: 0.4087600\ttotal: 506ms\tremaining: 3.61s\n",
      "123:\tlearn: 0.4083240\ttotal: 509ms\tremaining: 3.6s\n",
      "124:\tlearn: 0.4079642\ttotal: 512ms\tremaining: 3.59s\n",
      "125:\tlearn: 0.4075395\ttotal: 516ms\tremaining: 3.58s\n",
      "126:\tlearn: 0.4070623\ttotal: 519ms\tremaining: 3.57s\n",
      "127:\tlearn: 0.4066604\ttotal: 523ms\tremaining: 3.56s\n",
      "128:\tlearn: 0.4063536\ttotal: 526ms\tremaining: 3.55s\n",
      "129:\tlearn: 0.4059128\ttotal: 529ms\tremaining: 3.54s\n",
      "130:\tlearn: 0.4054494\ttotal: 532ms\tremaining: 3.53s\n",
      "131:\tlearn: 0.4048481\ttotal: 536ms\tremaining: 3.52s\n",
      "132:\tlearn: 0.4041846\ttotal: 540ms\tremaining: 3.52s\n",
      "133:\tlearn: 0.4037482\ttotal: 543ms\tremaining: 3.51s\n",
      "134:\tlearn: 0.4035636\ttotal: 547ms\tremaining: 3.5s\n",
      "135:\tlearn: 0.4028046\ttotal: 550ms\tremaining: 3.49s\n",
      "136:\tlearn: 0.4023305\ttotal: 553ms\tremaining: 3.48s\n",
      "137:\tlearn: 0.4019005\ttotal: 556ms\tremaining: 3.47s\n",
      "138:\tlearn: 0.4015636\ttotal: 559ms\tremaining: 3.46s\n",
      "139:\tlearn: 0.4012976\ttotal: 562ms\tremaining: 3.45s\n",
      "140:\tlearn: 0.4008687\ttotal: 565ms\tremaining: 3.44s\n",
      "141:\tlearn: 0.4005230\ttotal: 568ms\tremaining: 3.43s\n",
      "142:\tlearn: 0.3999766\ttotal: 571ms\tremaining: 3.42s\n",
      "143:\tlearn: 0.3997228\ttotal: 573ms\tremaining: 3.41s\n",
      "144:\tlearn: 0.3994003\ttotal: 576ms\tremaining: 3.4s\n",
      "145:\tlearn: 0.3989505\ttotal: 579ms\tremaining: 3.38s\n",
      "146:\tlearn: 0.3986079\ttotal: 581ms\tremaining: 3.37s\n",
      "147:\tlearn: 0.3982242\ttotal: 584ms\tremaining: 3.36s\n",
      "148:\tlearn: 0.3979366\ttotal: 586ms\tremaining: 3.35s\n",
      "149:\tlearn: 0.3974554\ttotal: 589ms\tremaining: 3.34s\n",
      "150:\tlearn: 0.3972944\ttotal: 592ms\tremaining: 3.33s\n",
      "151:\tlearn: 0.3971243\ttotal: 594ms\tremaining: 3.32s\n",
      "152:\tlearn: 0.3964068\ttotal: 597ms\tremaining: 3.31s\n",
      "153:\tlearn: 0.3961327\ttotal: 600ms\tremaining: 3.29s\n",
      "154:\tlearn: 0.3958765\ttotal: 603ms\tremaining: 3.29s\n",
      "155:\tlearn: 0.3953596\ttotal: 605ms\tremaining: 3.27s\n",
      "156:\tlearn: 0.3949046\ttotal: 608ms\tremaining: 3.26s\n",
      "157:\tlearn: 0.3944053\ttotal: 611ms\tremaining: 3.25s\n",
      "158:\tlearn: 0.3940849\ttotal: 613ms\tremaining: 3.24s\n",
      "159:\tlearn: 0.3938344\ttotal: 616ms\tremaining: 3.23s\n",
      "160:\tlearn: 0.3936399\ttotal: 619ms\tremaining: 3.23s\n",
      "161:\tlearn: 0.3932863\ttotal: 622ms\tremaining: 3.22s\n",
      "162:\tlearn: 0.3928377\ttotal: 625ms\tremaining: 3.21s\n",
      "163:\tlearn: 0.3926290\ttotal: 627ms\tremaining: 3.2s\n",
      "164:\tlearn: 0.3923508\ttotal: 630ms\tremaining: 3.19s\n",
      "165:\tlearn: 0.3920169\ttotal: 633ms\tremaining: 3.18s\n",
      "166:\tlearn: 0.3917131\ttotal: 635ms\tremaining: 3.17s\n",
      "167:\tlearn: 0.3915287\ttotal: 638ms\tremaining: 3.16s\n",
      "168:\tlearn: 0.3912690\ttotal: 641ms\tremaining: 3.15s\n",
      "169:\tlearn: 0.3910564\ttotal: 644ms\tremaining: 3.14s\n",
      "170:\tlearn: 0.3907488\ttotal: 647ms\tremaining: 3.13s\n",
      "171:\tlearn: 0.3904826\ttotal: 649ms\tremaining: 3.12s\n",
      "172:\tlearn: 0.3901647\ttotal: 652ms\tremaining: 3.12s\n",
      "173:\tlearn: 0.3897116\ttotal: 655ms\tremaining: 3.11s\n",
      "174:\tlearn: 0.3894292\ttotal: 657ms\tremaining: 3.1s\n",
      "175:\tlearn: 0.3891074\ttotal: 660ms\tremaining: 3.09s\n",
      "176:\tlearn: 0.3889311\ttotal: 663ms\tremaining: 3.08s\n",
      "177:\tlearn: 0.3887310\ttotal: 666ms\tremaining: 3.08s\n",
      "178:\tlearn: 0.3883813\ttotal: 669ms\tremaining: 3.07s\n"
     ]
    },
    {
     "name": "stdout",
     "output_type": "stream",
     "text": [
      "179:\tlearn: 0.3881316\ttotal: 672ms\tremaining: 3.06s\n",
      "180:\tlearn: 0.3877714\ttotal: 675ms\tremaining: 3.05s\n",
      "181:\tlearn: 0.3875269\ttotal: 678ms\tremaining: 3.05s\n",
      "182:\tlearn: 0.3872206\ttotal: 682ms\tremaining: 3.04s\n",
      "183:\tlearn: 0.3868157\ttotal: 685ms\tremaining: 3.04s\n",
      "184:\tlearn: 0.3866894\ttotal: 688ms\tremaining: 3.03s\n",
      "185:\tlearn: 0.3864303\ttotal: 690ms\tremaining: 3.02s\n",
      "186:\tlearn: 0.3862575\ttotal: 693ms\tremaining: 3.01s\n",
      "187:\tlearn: 0.3859753\ttotal: 696ms\tremaining: 3s\n",
      "188:\tlearn: 0.3856663\ttotal: 698ms\tremaining: 3s\n",
      "189:\tlearn: 0.3854378\ttotal: 701ms\tremaining: 2.99s\n",
      "190:\tlearn: 0.3848547\ttotal: 704ms\tremaining: 2.98s\n",
      "191:\tlearn: 0.3846489\ttotal: 707ms\tremaining: 2.97s\n",
      "192:\tlearn: 0.3844752\ttotal: 709ms\tremaining: 2.96s\n",
      "193:\tlearn: 0.3842757\ttotal: 712ms\tremaining: 2.96s\n",
      "194:\tlearn: 0.3839583\ttotal: 714ms\tremaining: 2.95s\n",
      "195:\tlearn: 0.3837870\ttotal: 718ms\tremaining: 2.94s\n",
      "196:\tlearn: 0.3834743\ttotal: 721ms\tremaining: 2.94s\n",
      "197:\tlearn: 0.3832350\ttotal: 725ms\tremaining: 2.94s\n",
      "198:\tlearn: 0.3829881\ttotal: 728ms\tremaining: 2.93s\n",
      "199:\tlearn: 0.3827546\ttotal: 731ms\tremaining: 2.92s\n",
      "200:\tlearn: 0.3825793\ttotal: 734ms\tremaining: 2.92s\n",
      "201:\tlearn: 0.3824044\ttotal: 738ms\tremaining: 2.91s\n",
      "202:\tlearn: 0.3821836\ttotal: 741ms\tremaining: 2.91s\n",
      "203:\tlearn: 0.3819607\ttotal: 744ms\tremaining: 2.9s\n",
      "204:\tlearn: 0.3815947\ttotal: 748ms\tremaining: 2.9s\n",
      "205:\tlearn: 0.3812198\ttotal: 752ms\tremaining: 2.9s\n",
      "206:\tlearn: 0.3809712\ttotal: 755ms\tremaining: 2.89s\n",
      "207:\tlearn: 0.3808264\ttotal: 758ms\tremaining: 2.89s\n",
      "208:\tlearn: 0.3804228\ttotal: 761ms\tremaining: 2.88s\n",
      "209:\tlearn: 0.3802380\ttotal: 764ms\tremaining: 2.88s\n",
      "210:\tlearn: 0.3800972\ttotal: 767ms\tremaining: 2.87s\n",
      "211:\tlearn: 0.3799133\ttotal: 770ms\tremaining: 2.86s\n",
      "212:\tlearn: 0.3796637\ttotal: 773ms\tremaining: 2.85s\n",
      "213:\tlearn: 0.3793476\ttotal: 776ms\tremaining: 2.85s\n",
      "214:\tlearn: 0.3792067\ttotal: 779ms\tremaining: 2.84s\n",
      "215:\tlearn: 0.3790904\ttotal: 781ms\tremaining: 2.83s\n",
      "216:\tlearn: 0.3789478\ttotal: 784ms\tremaining: 2.83s\n",
      "217:\tlearn: 0.3787678\ttotal: 787ms\tremaining: 2.82s\n",
      "218:\tlearn: 0.3786032\ttotal: 789ms\tremaining: 2.81s\n",
      "219:\tlearn: 0.3784462\ttotal: 792ms\tremaining: 2.81s\n",
      "220:\tlearn: 0.3782663\ttotal: 795ms\tremaining: 2.8s\n",
      "221:\tlearn: 0.3780929\ttotal: 797ms\tremaining: 2.79s\n",
      "222:\tlearn: 0.3779020\ttotal: 800ms\tremaining: 2.79s\n",
      "223:\tlearn: 0.3777307\ttotal: 803ms\tremaining: 2.78s\n",
      "224:\tlearn: 0.3774808\ttotal: 805ms\tremaining: 2.77s\n",
      "225:\tlearn: 0.3771775\ttotal: 808ms\tremaining: 2.77s\n",
      "226:\tlearn: 0.3768995\ttotal: 811ms\tremaining: 2.76s\n",
      "227:\tlearn: 0.3766573\ttotal: 814ms\tremaining: 2.75s\n",
      "228:\tlearn: 0.3764026\ttotal: 816ms\tremaining: 2.75s\n",
      "229:\tlearn: 0.3760802\ttotal: 819ms\tremaining: 2.74s\n",
      "230:\tlearn: 0.3758943\ttotal: 822ms\tremaining: 2.73s\n",
      "231:\tlearn: 0.3757463\ttotal: 824ms\tremaining: 2.73s\n",
      "232:\tlearn: 0.3755117\ttotal: 827ms\tremaining: 2.72s\n",
      "233:\tlearn: 0.3752995\ttotal: 830ms\tremaining: 2.72s\n",
      "234:\tlearn: 0.3751622\ttotal: 833ms\tremaining: 2.71s\n",
      "235:\tlearn: 0.3750133\ttotal: 835ms\tremaining: 2.7s\n",
      "236:\tlearn: 0.3747690\ttotal: 838ms\tremaining: 2.7s\n",
      "237:\tlearn: 0.3745068\ttotal: 841ms\tremaining: 2.69s\n",
      "238:\tlearn: 0.3742781\ttotal: 843ms\tremaining: 2.68s\n",
      "239:\tlearn: 0.3739505\ttotal: 846ms\tremaining: 2.68s\n",
      "240:\tlearn: 0.3738024\ttotal: 849ms\tremaining: 2.67s\n",
      "241:\tlearn: 0.3735693\ttotal: 852ms\tremaining: 2.67s\n",
      "242:\tlearn: 0.3733464\ttotal: 855ms\tremaining: 2.66s\n",
      "243:\tlearn: 0.3732166\ttotal: 858ms\tremaining: 2.66s\n",
      "244:\tlearn: 0.3729851\ttotal: 862ms\tremaining: 2.65s\n",
      "245:\tlearn: 0.3727662\ttotal: 864ms\tremaining: 2.65s\n",
      "246:\tlearn: 0.3726333\ttotal: 868ms\tremaining: 2.64s\n",
      "247:\tlearn: 0.3724271\ttotal: 871ms\tremaining: 2.64s\n",
      "248:\tlearn: 0.3722685\ttotal: 873ms\tremaining: 2.63s\n",
      "249:\tlearn: 0.3721495\ttotal: 876ms\tremaining: 2.63s\n",
      "250:\tlearn: 0.3717434\ttotal: 879ms\tremaining: 2.62s\n",
      "251:\tlearn: 0.3715136\ttotal: 881ms\tremaining: 2.62s\n",
      "252:\tlearn: 0.3712700\ttotal: 884ms\tremaining: 2.61s\n",
      "253:\tlearn: 0.3711349\ttotal: 887ms\tremaining: 2.6s\n",
      "254:\tlearn: 0.3708997\ttotal: 890ms\tremaining: 2.6s\n",
      "255:\tlearn: 0.3707034\ttotal: 892ms\tremaining: 2.59s\n",
      "256:\tlearn: 0.3705771\ttotal: 896ms\tremaining: 2.59s\n",
      "257:\tlearn: 0.3704509\ttotal: 900ms\tremaining: 2.59s\n",
      "258:\tlearn: 0.3702849\ttotal: 903ms\tremaining: 2.58s\n",
      "259:\tlearn: 0.3700617\ttotal: 906ms\tremaining: 2.58s\n",
      "260:\tlearn: 0.3698980\ttotal: 909ms\tremaining: 2.57s\n",
      "261:\tlearn: 0.3697731\ttotal: 912ms\tremaining: 2.57s\n",
      "262:\tlearn: 0.3695556\ttotal: 915ms\tremaining: 2.56s\n",
      "263:\tlearn: 0.3693542\ttotal: 919ms\tremaining: 2.56s\n",
      "264:\tlearn: 0.3692218\ttotal: 922ms\tremaining: 2.56s\n",
      "265:\tlearn: 0.3689341\ttotal: 925ms\tremaining: 2.55s\n",
      "266:\tlearn: 0.3687674\ttotal: 928ms\tremaining: 2.55s\n",
      "267:\tlearn: 0.3686021\ttotal: 931ms\tremaining: 2.54s\n",
      "268:\tlearn: 0.3684693\ttotal: 934ms\tremaining: 2.54s\n",
      "269:\tlearn: 0.3683478\ttotal: 937ms\tremaining: 2.53s\n",
      "270:\tlearn: 0.3682542\ttotal: 941ms\tremaining: 2.53s\n",
      "271:\tlearn: 0.3681132\ttotal: 944ms\tremaining: 2.53s\n",
      "272:\tlearn: 0.3679454\ttotal: 948ms\tremaining: 2.52s\n",
      "273:\tlearn: 0.3678446\ttotal: 952ms\tremaining: 2.52s\n",
      "274:\tlearn: 0.3674705\ttotal: 956ms\tremaining: 2.52s\n",
      "275:\tlearn: 0.3673590\ttotal: 960ms\tremaining: 2.52s\n",
      "276:\tlearn: 0.3672035\ttotal: 964ms\tremaining: 2.52s\n",
      "277:\tlearn: 0.3669636\ttotal: 967ms\tremaining: 2.51s\n",
      "278:\tlearn: 0.3668093\ttotal: 970ms\tremaining: 2.51s\n",
      "279:\tlearn: 0.3666054\ttotal: 973ms\tremaining: 2.5s\n",
      "280:\tlearn: 0.3665010\ttotal: 976ms\tremaining: 2.5s\n",
      "281:\tlearn: 0.3663815\ttotal: 979ms\tremaining: 2.49s\n",
      "282:\tlearn: 0.3662474\ttotal: 982ms\tremaining: 2.49s\n",
      "283:\tlearn: 0.3661110\ttotal: 986ms\tremaining: 2.48s\n",
      "284:\tlearn: 0.3659001\ttotal: 989ms\tremaining: 2.48s\n",
      "285:\tlearn: 0.3657683\ttotal: 992ms\tremaining: 2.48s\n",
      "286:\tlearn: 0.3656170\ttotal: 994ms\tremaining: 2.47s\n",
      "287:\tlearn: 0.3655167\ttotal: 998ms\tremaining: 2.47s\n",
      "288:\tlearn: 0.3654206\ttotal: 1s\tremaining: 2.46s\n",
      "289:\tlearn: 0.3651901\ttotal: 1s\tremaining: 2.46s\n",
      "290:\tlearn: 0.3649620\ttotal: 1.01s\tremaining: 2.45s\n",
      "291:\tlearn: 0.3647094\ttotal: 1.01s\tremaining: 2.45s\n",
      "292:\tlearn: 0.3646038\ttotal: 1.01s\tremaining: 2.44s\n",
      "293:\tlearn: 0.3642884\ttotal: 1.02s\tremaining: 2.44s\n",
      "294:\tlearn: 0.3641643\ttotal: 1.02s\tremaining: 2.44s\n",
      "295:\tlearn: 0.3639848\ttotal: 1.02s\tremaining: 2.43s\n",
      "296:\tlearn: 0.3638924\ttotal: 1.03s\tremaining: 2.43s\n",
      "297:\tlearn: 0.3636986\ttotal: 1.03s\tremaining: 2.43s\n",
      "298:\tlearn: 0.3633157\ttotal: 1.03s\tremaining: 2.42s\n",
      "299:\tlearn: 0.3631958\ttotal: 1.04s\tremaining: 2.42s\n",
      "300:\tlearn: 0.3630593\ttotal: 1.04s\tremaining: 2.42s\n",
      "301:\tlearn: 0.3627080\ttotal: 1.04s\tremaining: 2.41s\n",
      "302:\tlearn: 0.3624971\ttotal: 1.05s\tremaining: 2.41s\n",
      "303:\tlearn: 0.3624152\ttotal: 1.05s\tremaining: 2.41s\n",
      "304:\tlearn: 0.3622857\ttotal: 1.06s\tremaining: 2.41s\n",
      "305:\tlearn: 0.3621438\ttotal: 1.06s\tremaining: 2.4s\n",
      "306:\tlearn: 0.3620509\ttotal: 1.06s\tremaining: 2.4s\n",
      "307:\tlearn: 0.3619300\ttotal: 1.07s\tremaining: 2.4s\n",
      "308:\tlearn: 0.3616231\ttotal: 1.07s\tremaining: 2.39s\n",
      "309:\tlearn: 0.3614671\ttotal: 1.07s\tremaining: 2.39s\n",
      "310:\tlearn: 0.3613178\ttotal: 1.08s\tremaining: 2.38s\n",
      "311:\tlearn: 0.3612445\ttotal: 1.08s\tremaining: 2.38s\n",
      "312:\tlearn: 0.3611062\ttotal: 1.08s\tremaining: 2.38s\n",
      "313:\tlearn: 0.3608867\ttotal: 1.09s\tremaining: 2.37s\n",
      "314:\tlearn: 0.3608073\ttotal: 1.09s\tremaining: 2.37s\n",
      "315:\tlearn: 0.3606836\ttotal: 1.09s\tremaining: 2.37s\n",
      "316:\tlearn: 0.3604668\ttotal: 1.1s\tremaining: 2.36s\n",
      "317:\tlearn: 0.3601490\ttotal: 1.1s\tremaining: 2.36s\n",
      "318:\tlearn: 0.3599830\ttotal: 1.1s\tremaining: 2.35s\n",
      "319:\tlearn: 0.3598069\ttotal: 1.11s\tremaining: 2.35s\n",
      "320:\tlearn: 0.3595922\ttotal: 1.11s\tremaining: 2.35s\n",
      "321:\tlearn: 0.3593714\ttotal: 1.11s\tremaining: 2.34s\n",
      "322:\tlearn: 0.3591422\ttotal: 1.12s\tremaining: 2.34s\n",
      "323:\tlearn: 0.3589350\ttotal: 1.12s\tremaining: 2.34s\n",
      "324:\tlearn: 0.3587729\ttotal: 1.12s\tremaining: 2.33s\n",
      "325:\tlearn: 0.3585315\ttotal: 1.13s\tremaining: 2.33s\n",
      "326:\tlearn: 0.3584350\ttotal: 1.13s\tremaining: 2.32s\n",
      "327:\tlearn: 0.3582141\ttotal: 1.13s\tremaining: 2.32s\n",
      "328:\tlearn: 0.3579983\ttotal: 1.14s\tremaining: 2.32s\n",
      "329:\tlearn: 0.3578194\ttotal: 1.14s\tremaining: 2.31s\n",
      "330:\tlearn: 0.3576471\ttotal: 1.14s\tremaining: 2.31s\n",
      "331:\tlearn: 0.3574439\ttotal: 1.15s\tremaining: 2.3s\n",
      "332:\tlearn: 0.3573260\ttotal: 1.15s\tremaining: 2.3s\n",
      "333:\tlearn: 0.3572056\ttotal: 1.15s\tremaining: 2.3s\n",
      "334:\tlearn: 0.3569431\ttotal: 1.16s\tremaining: 2.29s\n",
      "335:\tlearn: 0.3567353\ttotal: 1.16s\tremaining: 2.29s\n",
      "336:\tlearn: 0.3566282\ttotal: 1.16s\tremaining: 2.29s\n",
      "337:\tlearn: 0.3565104\ttotal: 1.16s\tremaining: 2.28s\n",
      "338:\tlearn: 0.3563972\ttotal: 1.17s\tremaining: 2.28s\n",
      "339:\tlearn: 0.3563003\ttotal: 1.17s\tremaining: 2.27s\n",
      "340:\tlearn: 0.3560983\ttotal: 1.17s\tremaining: 2.27s\n",
      "341:\tlearn: 0.3559810\ttotal: 1.18s\tremaining: 2.27s\n",
      "342:\tlearn: 0.3558924\ttotal: 1.18s\tremaining: 2.26s\n",
      "343:\tlearn: 0.3557439\ttotal: 1.18s\tremaining: 2.26s\n",
      "344:\tlearn: 0.3555813\ttotal: 1.19s\tremaining: 2.25s\n",
      "345:\tlearn: 0.3554129\ttotal: 1.19s\tremaining: 2.25s\n",
      "346:\tlearn: 0.3552569\ttotal: 1.19s\tremaining: 2.25s\n",
      "347:\tlearn: 0.3551047\ttotal: 1.2s\tremaining: 2.24s\n",
      "348:\tlearn: 0.3550108\ttotal: 1.2s\tremaining: 2.24s\n",
      "349:\tlearn: 0.3548263\ttotal: 1.2s\tremaining: 2.23s\n"
     ]
    },
    {
     "name": "stdout",
     "output_type": "stream",
     "text": [
      "350:\tlearn: 0.3544655\ttotal: 1.21s\tremaining: 2.23s\n",
      "351:\tlearn: 0.3543328\ttotal: 1.21s\tremaining: 2.23s\n",
      "352:\tlearn: 0.3541668\ttotal: 1.21s\tremaining: 2.22s\n",
      "353:\tlearn: 0.3539197\ttotal: 1.22s\tremaining: 2.22s\n",
      "354:\tlearn: 0.3538096\ttotal: 1.22s\tremaining: 2.22s\n",
      "355:\tlearn: 0.3536892\ttotal: 1.22s\tremaining: 2.21s\n",
      "356:\tlearn: 0.3535019\ttotal: 1.23s\tremaining: 2.21s\n",
      "357:\tlearn: 0.3533987\ttotal: 1.23s\tremaining: 2.21s\n",
      "358:\tlearn: 0.3532965\ttotal: 1.23s\tremaining: 2.2s\n",
      "359:\tlearn: 0.3530456\ttotal: 1.24s\tremaining: 2.2s\n",
      "360:\tlearn: 0.3528445\ttotal: 1.24s\tremaining: 2.19s\n",
      "361:\tlearn: 0.3525461\ttotal: 1.24s\tremaining: 2.19s\n",
      "362:\tlearn: 0.3524307\ttotal: 1.25s\tremaining: 2.19s\n",
      "363:\tlearn: 0.3522608\ttotal: 1.25s\tremaining: 2.18s\n",
      "364:\tlearn: 0.3520126\ttotal: 1.25s\tremaining: 2.18s\n",
      "365:\tlearn: 0.3519200\ttotal: 1.26s\tremaining: 2.18s\n",
      "366:\tlearn: 0.3517558\ttotal: 1.26s\tremaining: 2.17s\n",
      "367:\tlearn: 0.3515372\ttotal: 1.26s\tremaining: 2.17s\n",
      "368:\tlearn: 0.3514042\ttotal: 1.27s\tremaining: 2.17s\n",
      "369:\tlearn: 0.3512132\ttotal: 1.27s\tremaining: 2.16s\n",
      "370:\tlearn: 0.3510645\ttotal: 1.27s\tremaining: 2.16s\n",
      "371:\tlearn: 0.3509620\ttotal: 1.28s\tremaining: 2.15s\n",
      "372:\tlearn: 0.3508619\ttotal: 1.28s\tremaining: 2.15s\n",
      "373:\tlearn: 0.3506779\ttotal: 1.28s\tremaining: 2.15s\n",
      "374:\tlearn: 0.3503719\ttotal: 1.28s\tremaining: 2.14s\n",
      "375:\tlearn: 0.3501767\ttotal: 1.29s\tremaining: 2.14s\n",
      "376:\tlearn: 0.3500434\ttotal: 1.29s\tremaining: 2.13s\n",
      "377:\tlearn: 0.3497688\ttotal: 1.29s\tremaining: 2.13s\n",
      "378:\tlearn: 0.3496194\ttotal: 1.3s\tremaining: 2.13s\n",
      "379:\tlearn: 0.3493959\ttotal: 1.3s\tremaining: 2.12s\n",
      "380:\tlearn: 0.3493144\ttotal: 1.3s\tremaining: 2.12s\n",
      "381:\tlearn: 0.3491283\ttotal: 1.31s\tremaining: 2.12s\n",
      "382:\tlearn: 0.3489900\ttotal: 1.31s\tremaining: 2.11s\n",
      "383:\tlearn: 0.3488210\ttotal: 1.31s\tremaining: 2.11s\n",
      "384:\tlearn: 0.3486877\ttotal: 1.32s\tremaining: 2.11s\n",
      "385:\tlearn: 0.3485816\ttotal: 1.32s\tremaining: 2.1s\n",
      "386:\tlearn: 0.3484402\ttotal: 1.32s\tremaining: 2.1s\n",
      "387:\tlearn: 0.3483003\ttotal: 1.33s\tremaining: 2.09s\n",
      "388:\tlearn: 0.3481236\ttotal: 1.33s\tremaining: 2.09s\n",
      "389:\tlearn: 0.3479661\ttotal: 1.33s\tremaining: 2.09s\n",
      "390:\tlearn: 0.3477687\ttotal: 1.34s\tremaining: 2.08s\n",
      "391:\tlearn: 0.3476358\ttotal: 1.34s\tremaining: 2.08s\n",
      "392:\tlearn: 0.3474925\ttotal: 1.34s\tremaining: 2.08s\n",
      "393:\tlearn: 0.3473612\ttotal: 1.35s\tremaining: 2.07s\n",
      "394:\tlearn: 0.3471683\ttotal: 1.35s\tremaining: 2.07s\n",
      "395:\tlearn: 0.3470149\ttotal: 1.35s\tremaining: 2.06s\n",
      "396:\tlearn: 0.3468108\ttotal: 1.36s\tremaining: 2.06s\n",
      "397:\tlearn: 0.3467282\ttotal: 1.36s\tremaining: 2.06s\n",
      "398:\tlearn: 0.3465789\ttotal: 1.36s\tremaining: 2.05s\n",
      "399:\tlearn: 0.3463421\ttotal: 1.37s\tremaining: 2.05s\n",
      "400:\tlearn: 0.3462001\ttotal: 1.37s\tremaining: 2.04s\n",
      "401:\tlearn: 0.3459992\ttotal: 1.37s\tremaining: 2.04s\n",
      "402:\tlearn: 0.3458705\ttotal: 1.38s\tremaining: 2.04s\n",
      "403:\tlearn: 0.3457168\ttotal: 1.38s\tremaining: 2.03s\n",
      "404:\tlearn: 0.3455628\ttotal: 1.38s\tremaining: 2.03s\n",
      "405:\tlearn: 0.3453540\ttotal: 1.39s\tremaining: 2.03s\n",
      "406:\tlearn: 0.3452465\ttotal: 1.39s\tremaining: 2.02s\n",
      "407:\tlearn: 0.3450726\ttotal: 1.39s\tremaining: 2.02s\n",
      "408:\tlearn: 0.3449322\ttotal: 1.4s\tremaining: 2.02s\n",
      "409:\tlearn: 0.3447713\ttotal: 1.4s\tremaining: 2.01s\n",
      "410:\tlearn: 0.3445399\ttotal: 1.4s\tremaining: 2.01s\n",
      "411:\tlearn: 0.3444097\ttotal: 1.41s\tremaining: 2.01s\n",
      "412:\tlearn: 0.3442970\ttotal: 1.41s\tremaining: 2s\n",
      "413:\tlearn: 0.3441777\ttotal: 1.41s\tremaining: 2s\n",
      "414:\tlearn: 0.3440622\ttotal: 1.42s\tremaining: 2s\n",
      "415:\tlearn: 0.3438742\ttotal: 1.42s\tremaining: 1.99s\n",
      "416:\tlearn: 0.3436301\ttotal: 1.42s\tremaining: 1.99s\n",
      "417:\tlearn: 0.3434854\ttotal: 1.42s\tremaining: 1.98s\n",
      "418:\tlearn: 0.3433173\ttotal: 1.43s\tremaining: 1.98s\n",
      "419:\tlearn: 0.3431414\ttotal: 1.43s\tremaining: 1.98s\n",
      "420:\tlearn: 0.3430141\ttotal: 1.43s\tremaining: 1.97s\n",
      "421:\tlearn: 0.3426996\ttotal: 1.44s\tremaining: 1.97s\n",
      "422:\tlearn: 0.3425220\ttotal: 1.44s\tremaining: 1.96s\n",
      "423:\tlearn: 0.3423472\ttotal: 1.44s\tremaining: 1.96s\n",
      "424:\tlearn: 0.3421673\ttotal: 1.45s\tremaining: 1.96s\n",
      "425:\tlearn: 0.3419814\ttotal: 1.45s\tremaining: 1.95s\n",
      "426:\tlearn: 0.3417528\ttotal: 1.45s\tremaining: 1.95s\n",
      "427:\tlearn: 0.3416047\ttotal: 1.45s\tremaining: 1.94s\n",
      "428:\tlearn: 0.3412351\ttotal: 1.46s\tremaining: 1.94s\n",
      "429:\tlearn: 0.3411120\ttotal: 1.46s\tremaining: 1.93s\n",
      "430:\tlearn: 0.3409931\ttotal: 1.46s\tremaining: 1.93s\n",
      "431:\tlearn: 0.3408321\ttotal: 1.47s\tremaining: 1.93s\n",
      "432:\tlearn: 0.3407550\ttotal: 1.47s\tremaining: 1.92s\n",
      "433:\tlearn: 0.3406302\ttotal: 1.47s\tremaining: 1.92s\n",
      "434:\tlearn: 0.3405264\ttotal: 1.47s\tremaining: 1.91s\n",
      "435:\tlearn: 0.3404008\ttotal: 1.48s\tremaining: 1.91s\n",
      "436:\tlearn: 0.3400850\ttotal: 1.48s\tremaining: 1.91s\n",
      "437:\tlearn: 0.3399925\ttotal: 1.48s\tremaining: 1.9s\n",
      "438:\tlearn: 0.3397929\ttotal: 1.49s\tremaining: 1.9s\n",
      "439:\tlearn: 0.3397119\ttotal: 1.49s\tremaining: 1.9s\n",
      "440:\tlearn: 0.3395395\ttotal: 1.49s\tremaining: 1.89s\n",
      "441:\tlearn: 0.3394249\ttotal: 1.5s\tremaining: 1.89s\n",
      "442:\tlearn: 0.3392968\ttotal: 1.5s\tremaining: 1.88s\n",
      "443:\tlearn: 0.3390631\ttotal: 1.5s\tremaining: 1.88s\n",
      "444:\tlearn: 0.3388301\ttotal: 1.5s\tremaining: 1.88s\n",
      "445:\tlearn: 0.3387246\ttotal: 1.51s\tremaining: 1.87s\n",
      "446:\tlearn: 0.3385792\ttotal: 1.51s\tremaining: 1.87s\n",
      "447:\tlearn: 0.3384504\ttotal: 1.51s\tremaining: 1.86s\n",
      "448:\tlearn: 0.3382737\ttotal: 1.51s\tremaining: 1.86s\n",
      "449:\tlearn: 0.3380931\ttotal: 1.52s\tremaining: 1.85s\n",
      "450:\tlearn: 0.3378879\ttotal: 1.52s\tremaining: 1.85s\n",
      "451:\tlearn: 0.3377751\ttotal: 1.52s\tremaining: 1.85s\n",
      "452:\tlearn: 0.3376341\ttotal: 1.53s\tremaining: 1.84s\n",
      "453:\tlearn: 0.3374742\ttotal: 1.53s\tremaining: 1.84s\n",
      "454:\tlearn: 0.3373001\ttotal: 1.53s\tremaining: 1.83s\n",
      "455:\tlearn: 0.3371968\ttotal: 1.53s\tremaining: 1.83s\n",
      "456:\tlearn: 0.3370655\ttotal: 1.54s\tremaining: 1.83s\n",
      "457:\tlearn: 0.3368548\ttotal: 1.54s\tremaining: 1.82s\n",
      "458:\tlearn: 0.3366266\ttotal: 1.54s\tremaining: 1.82s\n",
      "459:\tlearn: 0.3364678\ttotal: 1.54s\tremaining: 1.81s\n",
      "460:\tlearn: 0.3363531\ttotal: 1.55s\tremaining: 1.81s\n",
      "461:\tlearn: 0.3361835\ttotal: 1.55s\tremaining: 1.81s\n",
      "462:\tlearn: 0.3360119\ttotal: 1.55s\tremaining: 1.8s\n",
      "463:\tlearn: 0.3359041\ttotal: 1.56s\tremaining: 1.8s\n",
      "464:\tlearn: 0.3357501\ttotal: 1.56s\tremaining: 1.79s\n",
      "465:\tlearn: 0.3356582\ttotal: 1.56s\tremaining: 1.79s\n",
      "466:\tlearn: 0.3355396\ttotal: 1.56s\tremaining: 1.79s\n",
      "467:\tlearn: 0.3353499\ttotal: 1.57s\tremaining: 1.78s\n",
      "468:\tlearn: 0.3351669\ttotal: 1.57s\tremaining: 1.78s\n",
      "469:\tlearn: 0.3349130\ttotal: 1.57s\tremaining: 1.78s\n",
      "470:\tlearn: 0.3347965\ttotal: 1.58s\tremaining: 1.77s\n",
      "471:\tlearn: 0.3346436\ttotal: 1.58s\tremaining: 1.77s\n",
      "472:\tlearn: 0.3344778\ttotal: 1.58s\tremaining: 1.76s\n",
      "473:\tlearn: 0.3342494\ttotal: 1.59s\tremaining: 1.76s\n",
      "474:\tlearn: 0.3341554\ttotal: 1.59s\tremaining: 1.76s\n",
      "475:\tlearn: 0.3339179\ttotal: 1.59s\tremaining: 1.75s\n",
      "476:\tlearn: 0.3336271\ttotal: 1.59s\tremaining: 1.75s\n",
      "477:\tlearn: 0.3334779\ttotal: 1.6s\tremaining: 1.75s\n",
      "478:\tlearn: 0.3333035\ttotal: 1.6s\tremaining: 1.74s\n",
      "479:\tlearn: 0.3330979\ttotal: 1.6s\tremaining: 1.74s\n",
      "480:\tlearn: 0.3329556\ttotal: 1.61s\tremaining: 1.73s\n",
      "481:\tlearn: 0.3327759\ttotal: 1.61s\tremaining: 1.73s\n",
      "482:\tlearn: 0.3325918\ttotal: 1.61s\tremaining: 1.73s\n",
      "483:\tlearn: 0.3324075\ttotal: 1.62s\tremaining: 1.72s\n",
      "484:\tlearn: 0.3321980\ttotal: 1.62s\tremaining: 1.72s\n",
      "485:\tlearn: 0.3319991\ttotal: 1.62s\tremaining: 1.72s\n",
      "486:\tlearn: 0.3319453\ttotal: 1.63s\tremaining: 1.71s\n",
      "487:\tlearn: 0.3317843\ttotal: 1.63s\tremaining: 1.71s\n",
      "488:\tlearn: 0.3316961\ttotal: 1.63s\tremaining: 1.71s\n",
      "489:\tlearn: 0.3314507\ttotal: 1.64s\tremaining: 1.7s\n",
      "490:\tlearn: 0.3313040\ttotal: 1.64s\tremaining: 1.7s\n",
      "491:\tlearn: 0.3311186\ttotal: 1.64s\tremaining: 1.7s\n",
      "492:\tlearn: 0.3309878\ttotal: 1.65s\tremaining: 1.69s\n",
      "493:\tlearn: 0.3307660\ttotal: 1.65s\tremaining: 1.69s\n",
      "494:\tlearn: 0.3305459\ttotal: 1.65s\tremaining: 1.69s\n",
      "495:\tlearn: 0.3303816\ttotal: 1.65s\tremaining: 1.68s\n",
      "496:\tlearn: 0.3302843\ttotal: 1.66s\tremaining: 1.68s\n",
      "497:\tlearn: 0.3301316\ttotal: 1.66s\tremaining: 1.67s\n",
      "498:\tlearn: 0.3300020\ttotal: 1.66s\tremaining: 1.67s\n",
      "499:\tlearn: 0.3298808\ttotal: 1.67s\tremaining: 1.67s\n",
      "500:\tlearn: 0.3297084\ttotal: 1.67s\tremaining: 1.66s\n",
      "501:\tlearn: 0.3296136\ttotal: 1.67s\tremaining: 1.66s\n",
      "502:\tlearn: 0.3294273\ttotal: 1.68s\tremaining: 1.66s\n",
      "503:\tlearn: 0.3292136\ttotal: 1.68s\tremaining: 1.65s\n",
      "504:\tlearn: 0.3290848\ttotal: 1.68s\tremaining: 1.65s\n",
      "505:\tlearn: 0.3289623\ttotal: 1.69s\tremaining: 1.65s\n",
      "506:\tlearn: 0.3287978\ttotal: 1.69s\tremaining: 1.64s\n",
      "507:\tlearn: 0.3286877\ttotal: 1.69s\tremaining: 1.64s\n",
      "508:\tlearn: 0.3285361\ttotal: 1.7s\tremaining: 1.64s\n",
      "509:\tlearn: 0.3283560\ttotal: 1.7s\tremaining: 1.63s\n",
      "510:\tlearn: 0.3282229\ttotal: 1.7s\tremaining: 1.63s\n",
      "511:\tlearn: 0.3280554\ttotal: 1.7s\tremaining: 1.62s\n",
      "512:\tlearn: 0.3278869\ttotal: 1.71s\tremaining: 1.62s\n",
      "513:\tlearn: 0.3278075\ttotal: 1.71s\tremaining: 1.62s\n",
      "514:\tlearn: 0.3276133\ttotal: 1.72s\tremaining: 1.61s\n",
      "515:\tlearn: 0.3274918\ttotal: 1.72s\tremaining: 1.61s\n",
      "516:\tlearn: 0.3273091\ttotal: 1.72s\tremaining: 1.61s\n",
      "517:\tlearn: 0.3271599\ttotal: 1.72s\tremaining: 1.6s\n",
      "518:\tlearn: 0.3270442\ttotal: 1.73s\tremaining: 1.6s\n",
      "519:\tlearn: 0.3268698\ttotal: 1.73s\tremaining: 1.6s\n",
      "520:\tlearn: 0.3267563\ttotal: 1.73s\tremaining: 1.59s\n",
      "521:\tlearn: 0.3266525\ttotal: 1.74s\tremaining: 1.59s\n"
     ]
    },
    {
     "name": "stdout",
     "output_type": "stream",
     "text": [
      "522:\tlearn: 0.3266018\ttotal: 1.74s\tremaining: 1.59s\n",
      "523:\tlearn: 0.3264312\ttotal: 1.74s\tremaining: 1.58s\n",
      "524:\tlearn: 0.3261547\ttotal: 1.75s\tremaining: 1.58s\n",
      "525:\tlearn: 0.3260689\ttotal: 1.75s\tremaining: 1.57s\n",
      "526:\tlearn: 0.3258981\ttotal: 1.75s\tremaining: 1.57s\n",
      "527:\tlearn: 0.3258347\ttotal: 1.75s\tremaining: 1.57s\n",
      "528:\tlearn: 0.3256583\ttotal: 1.76s\tremaining: 1.56s\n",
      "529:\tlearn: 0.3255022\ttotal: 1.76s\tremaining: 1.56s\n",
      "530:\tlearn: 0.3253004\ttotal: 1.76s\tremaining: 1.56s\n",
      "531:\tlearn: 0.3252005\ttotal: 1.77s\tremaining: 1.55s\n",
      "532:\tlearn: 0.3250232\ttotal: 1.77s\tremaining: 1.55s\n",
      "533:\tlearn: 0.3248244\ttotal: 1.77s\tremaining: 1.55s\n",
      "534:\tlearn: 0.3246595\ttotal: 1.77s\tremaining: 1.54s\n",
      "535:\tlearn: 0.3245220\ttotal: 1.78s\tremaining: 1.54s\n",
      "536:\tlearn: 0.3243524\ttotal: 1.78s\tremaining: 1.53s\n",
      "537:\tlearn: 0.3242614\ttotal: 1.78s\tremaining: 1.53s\n",
      "538:\tlearn: 0.3240060\ttotal: 1.79s\tremaining: 1.53s\n",
      "539:\tlearn: 0.3238252\ttotal: 1.79s\tremaining: 1.53s\n",
      "540:\tlearn: 0.3236922\ttotal: 1.79s\tremaining: 1.52s\n",
      "541:\tlearn: 0.3234517\ttotal: 1.8s\tremaining: 1.52s\n",
      "542:\tlearn: 0.3233001\ttotal: 1.8s\tremaining: 1.51s\n",
      "543:\tlearn: 0.3231846\ttotal: 1.8s\tremaining: 1.51s\n",
      "544:\tlearn: 0.3229748\ttotal: 1.8s\tremaining: 1.51s\n",
      "545:\tlearn: 0.3227917\ttotal: 1.81s\tremaining: 1.5s\n",
      "546:\tlearn: 0.3226569\ttotal: 1.81s\tremaining: 1.5s\n",
      "547:\tlearn: 0.3225110\ttotal: 1.81s\tremaining: 1.5s\n",
      "548:\tlearn: 0.3224157\ttotal: 1.81s\tremaining: 1.49s\n",
      "549:\tlearn: 0.3222553\ttotal: 1.82s\tremaining: 1.49s\n",
      "550:\tlearn: 0.3220830\ttotal: 1.82s\tremaining: 1.48s\n",
      "551:\tlearn: 0.3219832\ttotal: 1.82s\tremaining: 1.48s\n",
      "552:\tlearn: 0.3218905\ttotal: 1.83s\tremaining: 1.48s\n",
      "553:\tlearn: 0.3216853\ttotal: 1.83s\tremaining: 1.47s\n",
      "554:\tlearn: 0.3215179\ttotal: 1.83s\tremaining: 1.47s\n",
      "555:\tlearn: 0.3213641\ttotal: 1.83s\tremaining: 1.47s\n",
      "556:\tlearn: 0.3212291\ttotal: 1.84s\tremaining: 1.46s\n",
      "557:\tlearn: 0.3210728\ttotal: 1.84s\tremaining: 1.46s\n",
      "558:\tlearn: 0.3208937\ttotal: 1.84s\tremaining: 1.45s\n",
      "559:\tlearn: 0.3207764\ttotal: 1.85s\tremaining: 1.45s\n",
      "560:\tlearn: 0.3206564\ttotal: 1.85s\tremaining: 1.45s\n",
      "561:\tlearn: 0.3205117\ttotal: 1.85s\tremaining: 1.44s\n",
      "562:\tlearn: 0.3203777\ttotal: 1.85s\tremaining: 1.44s\n",
      "563:\tlearn: 0.3202558\ttotal: 1.86s\tremaining: 1.44s\n",
      "564:\tlearn: 0.3201304\ttotal: 1.86s\tremaining: 1.43s\n",
      "565:\tlearn: 0.3200542\ttotal: 1.86s\tremaining: 1.43s\n",
      "566:\tlearn: 0.3199572\ttotal: 1.87s\tremaining: 1.43s\n",
      "567:\tlearn: 0.3197819\ttotal: 1.87s\tremaining: 1.42s\n",
      "568:\tlearn: 0.3196218\ttotal: 1.87s\tremaining: 1.42s\n",
      "569:\tlearn: 0.3194748\ttotal: 1.87s\tremaining: 1.41s\n",
      "570:\tlearn: 0.3193017\ttotal: 1.88s\tremaining: 1.41s\n",
      "571:\tlearn: 0.3191597\ttotal: 1.88s\tremaining: 1.41s\n",
      "572:\tlearn: 0.3190011\ttotal: 1.88s\tremaining: 1.4s\n",
      "573:\tlearn: 0.3189081\ttotal: 1.89s\tremaining: 1.4s\n",
      "574:\tlearn: 0.3187790\ttotal: 1.89s\tremaining: 1.4s\n",
      "575:\tlearn: 0.3186271\ttotal: 1.89s\tremaining: 1.39s\n",
      "576:\tlearn: 0.3185257\ttotal: 1.89s\tremaining: 1.39s\n",
      "577:\tlearn: 0.3184410\ttotal: 1.9s\tremaining: 1.39s\n",
      "578:\tlearn: 0.3183269\ttotal: 1.9s\tremaining: 1.38s\n",
      "579:\tlearn: 0.3181640\ttotal: 1.9s\tremaining: 1.38s\n",
      "580:\tlearn: 0.3180397\ttotal: 1.91s\tremaining: 1.37s\n",
      "581:\tlearn: 0.3178811\ttotal: 1.91s\tremaining: 1.37s\n",
      "582:\tlearn: 0.3177398\ttotal: 1.91s\tremaining: 1.37s\n",
      "583:\tlearn: 0.3176783\ttotal: 1.91s\tremaining: 1.36s\n",
      "584:\tlearn: 0.3175479\ttotal: 1.92s\tremaining: 1.36s\n",
      "585:\tlearn: 0.3174007\ttotal: 1.92s\tremaining: 1.36s\n",
      "586:\tlearn: 0.3172633\ttotal: 1.92s\tremaining: 1.35s\n",
      "587:\tlearn: 0.3171462\ttotal: 1.93s\tremaining: 1.35s\n",
      "588:\tlearn: 0.3168958\ttotal: 1.93s\tremaining: 1.35s\n",
      "589:\tlearn: 0.3168094\ttotal: 1.93s\tremaining: 1.34s\n",
      "590:\tlearn: 0.3167128\ttotal: 1.94s\tremaining: 1.34s\n",
      "591:\tlearn: 0.3165819\ttotal: 1.94s\tremaining: 1.34s\n",
      "592:\tlearn: 0.3164500\ttotal: 1.94s\tremaining: 1.33s\n",
      "593:\tlearn: 0.3163151\ttotal: 1.95s\tremaining: 1.33s\n",
      "594:\tlearn: 0.3161945\ttotal: 1.95s\tremaining: 1.33s\n",
      "595:\tlearn: 0.3160553\ttotal: 1.95s\tremaining: 1.32s\n",
      "596:\tlearn: 0.3158877\ttotal: 1.96s\tremaining: 1.32s\n",
      "597:\tlearn: 0.3158098\ttotal: 1.96s\tremaining: 1.32s\n",
      "598:\tlearn: 0.3156485\ttotal: 1.96s\tremaining: 1.31s\n",
      "599:\tlearn: 0.3155488\ttotal: 1.96s\tremaining: 1.31s\n",
      "600:\tlearn: 0.3155379\ttotal: 1.97s\tremaining: 1.31s\n",
      "601:\tlearn: 0.3153915\ttotal: 1.97s\tremaining: 1.3s\n",
      "602:\tlearn: 0.3151908\ttotal: 1.97s\tremaining: 1.3s\n",
      "603:\tlearn: 0.3150752\ttotal: 1.98s\tremaining: 1.29s\n",
      "604:\tlearn: 0.3149784\ttotal: 1.98s\tremaining: 1.29s\n",
      "605:\tlearn: 0.3148978\ttotal: 1.98s\tremaining: 1.29s\n",
      "606:\tlearn: 0.3147696\ttotal: 1.99s\tremaining: 1.28s\n",
      "607:\tlearn: 0.3146737\ttotal: 1.99s\tremaining: 1.28s\n",
      "608:\tlearn: 0.3146042\ttotal: 1.99s\tremaining: 1.28s\n",
      "609:\tlearn: 0.3145752\ttotal: 2s\tremaining: 1.27s\n",
      "610:\tlearn: 0.3144357\ttotal: 2s\tremaining: 1.27s\n",
      "611:\tlearn: 0.3143522\ttotal: 2s\tremaining: 1.27s\n",
      "612:\tlearn: 0.3142043\ttotal: 2s\tremaining: 1.26s\n",
      "613:\tlearn: 0.3140431\ttotal: 2.01s\tremaining: 1.26s\n",
      "614:\tlearn: 0.3139486\ttotal: 2.01s\tremaining: 1.26s\n",
      "615:\tlearn: 0.3138469\ttotal: 2.01s\tremaining: 1.25s\n",
      "616:\tlearn: 0.3137326\ttotal: 2.01s\tremaining: 1.25s\n",
      "617:\tlearn: 0.3136024\ttotal: 2.02s\tremaining: 1.25s\n",
      "618:\tlearn: 0.3133897\ttotal: 2.02s\tremaining: 1.24s\n",
      "619:\tlearn: 0.3132530\ttotal: 2.02s\tremaining: 1.24s\n",
      "620:\tlearn: 0.3131296\ttotal: 2.03s\tremaining: 1.24s\n",
      "621:\tlearn: 0.3130364\ttotal: 2.03s\tremaining: 1.23s\n",
      "622:\tlearn: 0.3130122\ttotal: 2.03s\tremaining: 1.23s\n",
      "623:\tlearn: 0.3128915\ttotal: 2.03s\tremaining: 1.23s\n",
      "624:\tlearn: 0.3127526\ttotal: 2.04s\tremaining: 1.22s\n",
      "625:\tlearn: 0.3125929\ttotal: 2.04s\tremaining: 1.22s\n",
      "626:\tlearn: 0.3124761\ttotal: 2.04s\tremaining: 1.22s\n",
      "627:\tlearn: 0.3123607\ttotal: 2.04s\tremaining: 1.21s\n",
      "628:\tlearn: 0.3122445\ttotal: 2.05s\tremaining: 1.21s\n",
      "629:\tlearn: 0.3121468\ttotal: 2.05s\tremaining: 1.2s\n",
      "630:\tlearn: 0.3119461\ttotal: 2.05s\tremaining: 1.2s\n",
      "631:\tlearn: 0.3118699\ttotal: 2.06s\tremaining: 1.2s\n",
      "632:\tlearn: 0.3117303\ttotal: 2.06s\tremaining: 1.19s\n",
      "633:\tlearn: 0.3115193\ttotal: 2.06s\tremaining: 1.19s\n",
      "634:\tlearn: 0.3113746\ttotal: 2.06s\tremaining: 1.19s\n",
      "635:\tlearn: 0.3112474\ttotal: 2.07s\tremaining: 1.18s\n",
      "636:\tlearn: 0.3110185\ttotal: 2.07s\tremaining: 1.18s\n",
      "637:\tlearn: 0.3108665\ttotal: 2.07s\tremaining: 1.18s\n",
      "638:\tlearn: 0.3107577\ttotal: 2.08s\tremaining: 1.17s\n",
      "639:\tlearn: 0.3105685\ttotal: 2.08s\tremaining: 1.17s\n",
      "640:\tlearn: 0.3104347\ttotal: 2.08s\tremaining: 1.17s\n",
      "641:\tlearn: 0.3103610\ttotal: 2.08s\tremaining: 1.16s\n",
      "642:\tlearn: 0.3102026\ttotal: 2.09s\tremaining: 1.16s\n",
      "643:\tlearn: 0.3100585\ttotal: 2.09s\tremaining: 1.16s\n",
      "644:\tlearn: 0.3099376\ttotal: 2.09s\tremaining: 1.15s\n",
      "645:\tlearn: 0.3097926\ttotal: 2.09s\tremaining: 1.15s\n",
      "646:\tlearn: 0.3096554\ttotal: 2.1s\tremaining: 1.14s\n",
      "647:\tlearn: 0.3095375\ttotal: 2.1s\tremaining: 1.14s\n",
      "648:\tlearn: 0.3094679\ttotal: 2.1s\tremaining: 1.14s\n",
      "649:\tlearn: 0.3093046\ttotal: 2.11s\tremaining: 1.13s\n",
      "650:\tlearn: 0.3089649\ttotal: 2.11s\tremaining: 1.13s\n",
      "651:\tlearn: 0.3089006\ttotal: 2.11s\tremaining: 1.13s\n",
      "652:\tlearn: 0.3087946\ttotal: 2.12s\tremaining: 1.12s\n",
      "653:\tlearn: 0.3086735\ttotal: 2.12s\tremaining: 1.12s\n",
      "654:\tlearn: 0.3085632\ttotal: 2.12s\tremaining: 1.12s\n",
      "655:\tlearn: 0.3084758\ttotal: 2.12s\tremaining: 1.11s\n",
      "656:\tlearn: 0.3082944\ttotal: 2.13s\tremaining: 1.11s\n",
      "657:\tlearn: 0.3080924\ttotal: 2.13s\tremaining: 1.11s\n",
      "658:\tlearn: 0.3079675\ttotal: 2.13s\tremaining: 1.1s\n",
      "659:\tlearn: 0.3078573\ttotal: 2.13s\tremaining: 1.1s\n",
      "660:\tlearn: 0.3076503\ttotal: 2.14s\tremaining: 1.1s\n",
      "661:\tlearn: 0.3074874\ttotal: 2.14s\tremaining: 1.09s\n",
      "662:\tlearn: 0.3073439\ttotal: 2.14s\tremaining: 1.09s\n",
      "663:\tlearn: 0.3072669\ttotal: 2.15s\tremaining: 1.09s\n",
      "664:\tlearn: 0.3071153\ttotal: 2.15s\tremaining: 1.08s\n",
      "665:\tlearn: 0.3070279\ttotal: 2.15s\tremaining: 1.08s\n",
      "666:\tlearn: 0.3068457\ttotal: 2.16s\tremaining: 1.08s\n",
      "667:\tlearn: 0.3066297\ttotal: 2.16s\tremaining: 1.07s\n",
      "668:\tlearn: 0.3065158\ttotal: 2.16s\tremaining: 1.07s\n",
      "669:\tlearn: 0.3063613\ttotal: 2.17s\tremaining: 1.07s\n",
      "670:\tlearn: 0.3062753\ttotal: 2.17s\tremaining: 1.06s\n",
      "671:\tlearn: 0.3061808\ttotal: 2.17s\tremaining: 1.06s\n",
      "672:\tlearn: 0.3060144\ttotal: 2.17s\tremaining: 1.06s\n",
      "673:\tlearn: 0.3058929\ttotal: 2.18s\tremaining: 1.05s\n",
      "674:\tlearn: 0.3057580\ttotal: 2.18s\tremaining: 1.05s\n",
      "675:\tlearn: 0.3056457\ttotal: 2.19s\tremaining: 1.05s\n",
      "676:\tlearn: 0.3055789\ttotal: 2.19s\tremaining: 1.04s\n",
      "677:\tlearn: 0.3054214\ttotal: 2.19s\tremaining: 1.04s\n",
      "678:\tlearn: 0.3053185\ttotal: 2.2s\tremaining: 1.04s\n",
      "679:\tlearn: 0.3051325\ttotal: 2.2s\tremaining: 1.03s\n",
      "680:\tlearn: 0.3049468\ttotal: 2.21s\tremaining: 1.03s\n",
      "681:\tlearn: 0.3047634\ttotal: 2.21s\tremaining: 1.03s\n",
      "682:\tlearn: 0.3046791\ttotal: 2.21s\tremaining: 1.03s\n",
      "683:\tlearn: 0.3045193\ttotal: 2.21s\tremaining: 1.02s\n",
      "684:\tlearn: 0.3043423\ttotal: 2.22s\tremaining: 1.02s\n",
      "685:\tlearn: 0.3042534\ttotal: 2.22s\tremaining: 1.02s\n",
      "686:\tlearn: 0.3042236\ttotal: 2.23s\tremaining: 1.01s\n",
      "687:\tlearn: 0.3041151\ttotal: 2.23s\tremaining: 1.01s\n",
      "688:\tlearn: 0.3039927\ttotal: 2.23s\tremaining: 1.01s\n",
      "689:\tlearn: 0.3038705\ttotal: 2.24s\tremaining: 1s\n",
      "690:\tlearn: 0.3037423\ttotal: 2.24s\tremaining: 1s\n",
      "691:\tlearn: 0.3036005\ttotal: 2.24s\tremaining: 999ms\n",
      "692:\tlearn: 0.3034506\ttotal: 2.25s\tremaining: 996ms\n",
      "693:\tlearn: 0.3033877\ttotal: 2.25s\tremaining: 993ms\n",
      "694:\tlearn: 0.3032356\ttotal: 2.25s\tremaining: 989ms\n",
      "695:\tlearn: 0.3031286\ttotal: 2.26s\tremaining: 986ms\n",
      "696:\tlearn: 0.3029712\ttotal: 2.26s\tremaining: 983ms\n",
      "697:\tlearn: 0.3028249\ttotal: 2.27s\tremaining: 980ms\n",
      "698:\tlearn: 0.3026685\ttotal: 2.27s\tremaining: 977ms\n",
      "699:\tlearn: 0.3025620\ttotal: 2.27s\tremaining: 974ms\n"
     ]
    },
    {
     "name": "stdout",
     "output_type": "stream",
     "text": [
      "700:\tlearn: 0.3024416\ttotal: 2.28s\tremaining: 971ms\n",
      "701:\tlearn: 0.3023972\ttotal: 2.28s\tremaining: 968ms\n",
      "702:\tlearn: 0.3022812\ttotal: 2.28s\tremaining: 965ms\n",
      "703:\tlearn: 0.3021823\ttotal: 2.29s\tremaining: 962ms\n",
      "704:\tlearn: 0.3021015\ttotal: 2.29s\tremaining: 958ms\n",
      "705:\tlearn: 0.3020367\ttotal: 2.29s\tremaining: 955ms\n",
      "706:\tlearn: 0.3019137\ttotal: 2.3s\tremaining: 952ms\n",
      "707:\tlearn: 0.3017607\ttotal: 2.3s\tremaining: 949ms\n",
      "708:\tlearn: 0.3016279\ttotal: 2.31s\tremaining: 946ms\n",
      "709:\tlearn: 0.3014816\ttotal: 2.31s\tremaining: 943ms\n",
      "710:\tlearn: 0.3013727\ttotal: 2.31s\tremaining: 940ms\n",
      "711:\tlearn: 0.3010614\ttotal: 2.32s\tremaining: 938ms\n",
      "712:\tlearn: 0.3010439\ttotal: 2.32s\tremaining: 934ms\n",
      "713:\tlearn: 0.3009599\ttotal: 2.32s\tremaining: 931ms\n",
      "714:\tlearn: 0.3006646\ttotal: 2.33s\tremaining: 928ms\n",
      "715:\tlearn: 0.3004939\ttotal: 2.33s\tremaining: 925ms\n",
      "716:\tlearn: 0.3003809\ttotal: 2.33s\tremaining: 922ms\n",
      "717:\tlearn: 0.3002186\ttotal: 2.34s\tremaining: 919ms\n",
      "718:\tlearn: 0.3001691\ttotal: 2.34s\tremaining: 916ms\n",
      "719:\tlearn: 0.3000124\ttotal: 2.35s\tremaining: 913ms\n",
      "720:\tlearn: 0.2998932\ttotal: 2.35s\tremaining: 909ms\n",
      "721:\tlearn: 0.2997820\ttotal: 2.35s\tremaining: 906ms\n",
      "722:\tlearn: 0.2996642\ttotal: 2.36s\tremaining: 903ms\n",
      "723:\tlearn: 0.2995822\ttotal: 2.36s\tremaining: 900ms\n",
      "724:\tlearn: 0.2993889\ttotal: 2.36s\tremaining: 897ms\n",
      "725:\tlearn: 0.2993361\ttotal: 2.37s\tremaining: 893ms\n",
      "726:\tlearn: 0.2991528\ttotal: 2.37s\tremaining: 890ms\n",
      "727:\tlearn: 0.2989787\ttotal: 2.37s\tremaining: 887ms\n",
      "728:\tlearn: 0.2988154\ttotal: 2.38s\tremaining: 883ms\n",
      "729:\tlearn: 0.2987083\ttotal: 2.38s\tremaining: 880ms\n",
      "730:\tlearn: 0.2985909\ttotal: 2.38s\tremaining: 877ms\n",
      "731:\tlearn: 0.2985568\ttotal: 2.38s\tremaining: 873ms\n",
      "732:\tlearn: 0.2984319\ttotal: 2.39s\tremaining: 870ms\n",
      "733:\tlearn: 0.2983303\ttotal: 2.39s\tremaining: 866ms\n",
      "734:\tlearn: 0.2981803\ttotal: 2.39s\tremaining: 863ms\n",
      "735:\tlearn: 0.2980314\ttotal: 2.4s\tremaining: 859ms\n",
      "736:\tlearn: 0.2979059\ttotal: 2.4s\tremaining: 856ms\n",
      "737:\tlearn: 0.2977507\ttotal: 2.4s\tremaining: 852ms\n",
      "738:\tlearn: 0.2975949\ttotal: 2.4s\tremaining: 849ms\n",
      "739:\tlearn: 0.2974986\ttotal: 2.41s\tremaining: 846ms\n",
      "740:\tlearn: 0.2974172\ttotal: 2.41s\tremaining: 842ms\n",
      "741:\tlearn: 0.2972837\ttotal: 2.41s\tremaining: 839ms\n",
      "742:\tlearn: 0.2971387\ttotal: 2.42s\tremaining: 835ms\n",
      "743:\tlearn: 0.2969779\ttotal: 2.42s\tremaining: 832ms\n",
      "744:\tlearn: 0.2968662\ttotal: 2.42s\tremaining: 828ms\n",
      "745:\tlearn: 0.2967457\ttotal: 2.42s\tremaining: 825ms\n",
      "746:\tlearn: 0.2966788\ttotal: 2.43s\tremaining: 822ms\n",
      "747:\tlearn: 0.2965472\ttotal: 2.43s\tremaining: 818ms\n",
      "748:\tlearn: 0.2964527\ttotal: 2.43s\tremaining: 815ms\n",
      "749:\tlearn: 0.2963456\ttotal: 2.43s\tremaining: 812ms\n",
      "750:\tlearn: 0.2962450\ttotal: 2.44s\tremaining: 808ms\n",
      "751:\tlearn: 0.2961839\ttotal: 2.44s\tremaining: 805ms\n",
      "752:\tlearn: 0.2960909\ttotal: 2.44s\tremaining: 801ms\n",
      "753:\tlearn: 0.2959785\ttotal: 2.44s\tremaining: 798ms\n",
      "754:\tlearn: 0.2959000\ttotal: 2.45s\tremaining: 795ms\n",
      "755:\tlearn: 0.2957783\ttotal: 2.45s\tremaining: 791ms\n",
      "756:\tlearn: 0.2956089\ttotal: 2.45s\tremaining: 788ms\n",
      "757:\tlearn: 0.2955101\ttotal: 2.46s\tremaining: 785ms\n",
      "758:\tlearn: 0.2954013\ttotal: 2.46s\tremaining: 782ms\n",
      "759:\tlearn: 0.2953032\ttotal: 2.46s\tremaining: 778ms\n",
      "760:\tlearn: 0.2951971\ttotal: 2.47s\tremaining: 775ms\n",
      "761:\tlearn: 0.2951019\ttotal: 2.47s\tremaining: 772ms\n",
      "762:\tlearn: 0.2950411\ttotal: 2.47s\tremaining: 768ms\n",
      "763:\tlearn: 0.2949331\ttotal: 2.48s\tremaining: 765ms\n",
      "764:\tlearn: 0.2949052\ttotal: 2.48s\tremaining: 761ms\n",
      "765:\tlearn: 0.2947813\ttotal: 2.48s\tremaining: 758ms\n",
      "766:\tlearn: 0.2947136\ttotal: 2.48s\tremaining: 755ms\n",
      "767:\tlearn: 0.2945879\ttotal: 2.49s\tremaining: 751ms\n",
      "768:\tlearn: 0.2944455\ttotal: 2.49s\tremaining: 748ms\n",
      "769:\tlearn: 0.2942491\ttotal: 2.49s\tremaining: 745ms\n",
      "770:\tlearn: 0.2941822\ttotal: 2.5s\tremaining: 741ms\n",
      "771:\tlearn: 0.2940900\ttotal: 2.5s\tremaining: 738ms\n",
      "772:\tlearn: 0.2939614\ttotal: 2.5s\tremaining: 735ms\n",
      "773:\tlearn: 0.2938677\ttotal: 2.51s\tremaining: 732ms\n",
      "774:\tlearn: 0.2937533\ttotal: 2.51s\tremaining: 729ms\n",
      "775:\tlearn: 0.2937428\ttotal: 2.51s\tremaining: 726ms\n",
      "776:\tlearn: 0.2935568\ttotal: 2.52s\tremaining: 722ms\n",
      "777:\tlearn: 0.2934196\ttotal: 2.52s\tremaining: 719ms\n",
      "778:\tlearn: 0.2933493\ttotal: 2.52s\tremaining: 716ms\n",
      "779:\tlearn: 0.2931996\ttotal: 2.53s\tremaining: 713ms\n",
      "780:\tlearn: 0.2930944\ttotal: 2.53s\tremaining: 710ms\n",
      "781:\tlearn: 0.2929744\ttotal: 2.54s\tremaining: 707ms\n",
      "782:\tlearn: 0.2928737\ttotal: 2.54s\tremaining: 704ms\n",
      "783:\tlearn: 0.2927957\ttotal: 2.54s\tremaining: 701ms\n",
      "784:\tlearn: 0.2927087\ttotal: 2.55s\tremaining: 697ms\n",
      "785:\tlearn: 0.2925624\ttotal: 2.55s\tremaining: 694ms\n",
      "786:\tlearn: 0.2925021\ttotal: 2.55s\tremaining: 691ms\n",
      "787:\tlearn: 0.2924031\ttotal: 2.56s\tremaining: 688ms\n",
      "788:\tlearn: 0.2923452\ttotal: 2.56s\tremaining: 685ms\n",
      "789:\tlearn: 0.2922420\ttotal: 2.56s\tremaining: 682ms\n",
      "790:\tlearn: 0.2921473\ttotal: 2.57s\tremaining: 678ms\n",
      "791:\tlearn: 0.2920366\ttotal: 2.57s\tremaining: 675ms\n",
      "792:\tlearn: 0.2919088\ttotal: 2.57s\tremaining: 672ms\n",
      "793:\tlearn: 0.2918510\ttotal: 2.58s\tremaining: 669ms\n",
      "794:\tlearn: 0.2917736\ttotal: 2.58s\tremaining: 666ms\n",
      "795:\tlearn: 0.2916130\ttotal: 2.59s\tremaining: 663ms\n",
      "796:\tlearn: 0.2915410\ttotal: 2.59s\tremaining: 660ms\n",
      "797:\tlearn: 0.2914291\ttotal: 2.59s\tremaining: 656ms\n",
      "798:\tlearn: 0.2913076\ttotal: 2.61s\tremaining: 657ms\n",
      "799:\tlearn: 0.2912515\ttotal: 2.61s\tremaining: 653ms\n",
      "800:\tlearn: 0.2911443\ttotal: 2.62s\tremaining: 650ms\n",
      "801:\tlearn: 0.2910594\ttotal: 2.62s\tremaining: 647ms\n",
      "802:\tlearn: 0.2909505\ttotal: 2.62s\tremaining: 644ms\n",
      "803:\tlearn: 0.2908528\ttotal: 2.63s\tremaining: 640ms\n",
      "804:\tlearn: 0.2906892\ttotal: 2.63s\tremaining: 637ms\n",
      "805:\tlearn: 0.2906170\ttotal: 2.63s\tremaining: 634ms\n",
      "806:\tlearn: 0.2904077\ttotal: 2.64s\tremaining: 631ms\n",
      "807:\tlearn: 0.2903233\ttotal: 2.64s\tremaining: 627ms\n",
      "808:\tlearn: 0.2901894\ttotal: 2.64s\tremaining: 624ms\n",
      "809:\tlearn: 0.2901150\ttotal: 2.65s\tremaining: 621ms\n",
      "810:\tlearn: 0.2900407\ttotal: 2.65s\tremaining: 618ms\n",
      "811:\tlearn: 0.2899232\ttotal: 2.66s\tremaining: 615ms\n",
      "812:\tlearn: 0.2897926\ttotal: 2.66s\tremaining: 612ms\n",
      "813:\tlearn: 0.2897118\ttotal: 2.67s\tremaining: 609ms\n",
      "814:\tlearn: 0.2896203\ttotal: 2.67s\tremaining: 606ms\n",
      "815:\tlearn: 0.2895358\ttotal: 2.67s\tremaining: 603ms\n",
      "816:\tlearn: 0.2893985\ttotal: 2.68s\tremaining: 600ms\n",
      "817:\tlearn: 0.2892791\ttotal: 2.68s\tremaining: 597ms\n",
      "818:\tlearn: 0.2891829\ttotal: 2.69s\tremaining: 593ms\n",
      "819:\tlearn: 0.2890462\ttotal: 2.69s\tremaining: 590ms\n",
      "820:\tlearn: 0.2889798\ttotal: 2.69s\tremaining: 587ms\n",
      "821:\tlearn: 0.2889349\ttotal: 2.69s\tremaining: 584ms\n",
      "822:\tlearn: 0.2888425\ttotal: 2.7s\tremaining: 580ms\n",
      "823:\tlearn: 0.2887428\ttotal: 2.7s\tremaining: 577ms\n",
      "824:\tlearn: 0.2886361\ttotal: 2.7s\tremaining: 573ms\n",
      "825:\tlearn: 0.2885393\ttotal: 2.71s\tremaining: 570ms\n",
      "826:\tlearn: 0.2884581\ttotal: 2.71s\tremaining: 567ms\n",
      "827:\tlearn: 0.2883820\ttotal: 2.71s\tremaining: 563ms\n",
      "828:\tlearn: 0.2882404\ttotal: 2.71s\tremaining: 560ms\n",
      "829:\tlearn: 0.2881775\ttotal: 2.72s\tremaining: 556ms\n",
      "830:\tlearn: 0.2880906\ttotal: 2.72s\tremaining: 553ms\n",
      "831:\tlearn: 0.2880129\ttotal: 2.72s\tremaining: 550ms\n",
      "832:\tlearn: 0.2878931\ttotal: 2.72s\tremaining: 546ms\n",
      "833:\tlearn: 0.2877381\ttotal: 2.73s\tremaining: 543ms\n",
      "834:\tlearn: 0.2876114\ttotal: 2.73s\tremaining: 540ms\n",
      "835:\tlearn: 0.2874993\ttotal: 2.73s\tremaining: 536ms\n",
      "836:\tlearn: 0.2873544\ttotal: 2.73s\tremaining: 533ms\n",
      "837:\tlearn: 0.2871732\ttotal: 2.74s\tremaining: 529ms\n",
      "838:\tlearn: 0.2870561\ttotal: 2.74s\tremaining: 526ms\n",
      "839:\tlearn: 0.2869718\ttotal: 2.74s\tremaining: 523ms\n",
      "840:\tlearn: 0.2868489\ttotal: 2.75s\tremaining: 519ms\n",
      "841:\tlearn: 0.2868076\ttotal: 2.75s\tremaining: 516ms\n",
      "842:\tlearn: 0.2867439\ttotal: 2.75s\tremaining: 513ms\n",
      "843:\tlearn: 0.2866391\ttotal: 2.75s\tremaining: 509ms\n",
      "844:\tlearn: 0.2864903\ttotal: 2.76s\tremaining: 506ms\n",
      "845:\tlearn: 0.2863483\ttotal: 2.76s\tremaining: 503ms\n",
      "846:\tlearn: 0.2862267\ttotal: 2.76s\tremaining: 499ms\n",
      "847:\tlearn: 0.2861634\ttotal: 2.77s\tremaining: 496ms\n",
      "848:\tlearn: 0.2860711\ttotal: 2.77s\tremaining: 492ms\n",
      "849:\tlearn: 0.2860258\ttotal: 2.77s\tremaining: 489ms\n",
      "850:\tlearn: 0.2859124\ttotal: 2.77s\tremaining: 486ms\n",
      "851:\tlearn: 0.2857613\ttotal: 2.78s\tremaining: 482ms\n",
      "852:\tlearn: 0.2856882\ttotal: 2.78s\tremaining: 479ms\n",
      "853:\tlearn: 0.2856021\ttotal: 2.78s\tremaining: 476ms\n",
      "854:\tlearn: 0.2854461\ttotal: 2.79s\tremaining: 472ms\n",
      "855:\tlearn: 0.2852827\ttotal: 2.79s\tremaining: 469ms\n",
      "856:\tlearn: 0.2851649\ttotal: 2.79s\tremaining: 466ms\n",
      "857:\tlearn: 0.2850532\ttotal: 2.79s\tremaining: 462ms\n",
      "858:\tlearn: 0.2849881\ttotal: 2.79s\tremaining: 459ms\n",
      "859:\tlearn: 0.2848689\ttotal: 2.8s\tremaining: 456ms\n",
      "860:\tlearn: 0.2847864\ttotal: 2.8s\tremaining: 452ms\n",
      "861:\tlearn: 0.2847226\ttotal: 2.8s\tremaining: 449ms\n"
     ]
    },
    {
     "name": "stdout",
     "output_type": "stream",
     "text": [
      "862:\tlearn: 0.2846168\ttotal: 2.81s\tremaining: 446ms\n",
      "863:\tlearn: 0.2845179\ttotal: 2.81s\tremaining: 442ms\n",
      "864:\tlearn: 0.2844214\ttotal: 2.81s\tremaining: 439ms\n",
      "865:\tlearn: 0.2843368\ttotal: 2.82s\tremaining: 436ms\n",
      "866:\tlearn: 0.2842668\ttotal: 2.82s\tremaining: 433ms\n",
      "867:\tlearn: 0.2841728\ttotal: 2.82s\tremaining: 429ms\n",
      "868:\tlearn: 0.2840386\ttotal: 2.83s\tremaining: 426ms\n",
      "869:\tlearn: 0.2839638\ttotal: 2.83s\tremaining: 423ms\n",
      "870:\tlearn: 0.2838638\ttotal: 2.83s\tremaining: 419ms\n",
      "871:\tlearn: 0.2837259\ttotal: 2.83s\tremaining: 416ms\n",
      "872:\tlearn: 0.2836148\ttotal: 2.84s\tremaining: 413ms\n",
      "873:\tlearn: 0.2835096\ttotal: 2.84s\tremaining: 409ms\n",
      "874:\tlearn: 0.2834247\ttotal: 2.84s\tremaining: 406ms\n",
      "875:\tlearn: 0.2833129\ttotal: 2.85s\tremaining: 403ms\n",
      "876:\tlearn: 0.2832122\ttotal: 2.85s\tremaining: 399ms\n",
      "877:\tlearn: 0.2831016\ttotal: 2.85s\tremaining: 396ms\n",
      "878:\tlearn: 0.2830556\ttotal: 2.85s\tremaining: 393ms\n",
      "879:\tlearn: 0.2829066\ttotal: 2.86s\tremaining: 390ms\n",
      "880:\tlearn: 0.2828171\ttotal: 2.86s\tremaining: 387ms\n",
      "881:\tlearn: 0.2826022\ttotal: 2.86s\tremaining: 383ms\n",
      "882:\tlearn: 0.2824397\ttotal: 2.87s\tremaining: 380ms\n",
      "883:\tlearn: 0.2823178\ttotal: 2.87s\tremaining: 377ms\n",
      "884:\tlearn: 0.2822326\ttotal: 2.87s\tremaining: 373ms\n",
      "885:\tlearn: 0.2821481\ttotal: 2.88s\tremaining: 370ms\n",
      "886:\tlearn: 0.2820679\ttotal: 2.88s\tremaining: 367ms\n",
      "887:\tlearn: 0.2819765\ttotal: 2.88s\tremaining: 363ms\n",
      "888:\tlearn: 0.2817936\ttotal: 2.88s\tremaining: 360ms\n",
      "889:\tlearn: 0.2816364\ttotal: 2.89s\tremaining: 357ms\n",
      "890:\tlearn: 0.2815101\ttotal: 2.89s\tremaining: 354ms\n",
      "891:\tlearn: 0.2814210\ttotal: 2.89s\tremaining: 350ms\n",
      "892:\tlearn: 0.2812727\ttotal: 2.9s\tremaining: 347ms\n",
      "893:\tlearn: 0.2811854\ttotal: 2.9s\tremaining: 344ms\n",
      "894:\tlearn: 0.2810754\ttotal: 2.9s\tremaining: 340ms\n",
      "895:\tlearn: 0.2809751\ttotal: 2.9s\tremaining: 337ms\n",
      "896:\tlearn: 0.2808958\ttotal: 2.9s\tremaining: 334ms\n",
      "897:\tlearn: 0.2808265\ttotal: 2.91s\tremaining: 330ms\n",
      "898:\tlearn: 0.2808033\ttotal: 2.91s\tremaining: 327ms\n",
      "899:\tlearn: 0.2806880\ttotal: 2.91s\tremaining: 324ms\n",
      "900:\tlearn: 0.2805617\ttotal: 2.92s\tremaining: 320ms\n",
      "901:\tlearn: 0.2805068\ttotal: 2.92s\tremaining: 317ms\n",
      "902:\tlearn: 0.2803914\ttotal: 2.92s\tremaining: 314ms\n",
      "903:\tlearn: 0.2803110\ttotal: 2.92s\tremaining: 311ms\n",
      "904:\tlearn: 0.2801554\ttotal: 2.93s\tremaining: 307ms\n",
      "905:\tlearn: 0.2800207\ttotal: 2.93s\tremaining: 304ms\n",
      "906:\tlearn: 0.2799544\ttotal: 2.93s\tremaining: 301ms\n",
      "907:\tlearn: 0.2798721\ttotal: 2.94s\tremaining: 297ms\n",
      "908:\tlearn: 0.2797678\ttotal: 2.94s\tremaining: 294ms\n",
      "909:\tlearn: 0.2796402\ttotal: 2.94s\tremaining: 291ms\n",
      "910:\tlearn: 0.2795584\ttotal: 2.94s\tremaining: 288ms\n",
      "911:\tlearn: 0.2794754\ttotal: 2.95s\tremaining: 284ms\n",
      "912:\tlearn: 0.2793455\ttotal: 2.95s\tremaining: 281ms\n",
      "913:\tlearn: 0.2792912\ttotal: 2.95s\tremaining: 278ms\n",
      "914:\tlearn: 0.2791294\ttotal: 2.95s\tremaining: 274ms\n",
      "915:\tlearn: 0.2790356\ttotal: 2.96s\tremaining: 271ms\n",
      "916:\tlearn: 0.2789422\ttotal: 2.96s\tremaining: 268ms\n",
      "917:\tlearn: 0.2787998\ttotal: 2.96s\tremaining: 265ms\n",
      "918:\tlearn: 0.2787004\ttotal: 2.96s\tremaining: 261ms\n",
      "919:\tlearn: 0.2785920\ttotal: 2.97s\tremaining: 258ms\n",
      "920:\tlearn: 0.2785130\ttotal: 2.97s\tremaining: 255ms\n",
      "921:\tlearn: 0.2783596\ttotal: 2.97s\tremaining: 252ms\n",
      "922:\tlearn: 0.2782205\ttotal: 2.98s\tremaining: 248ms\n",
      "923:\tlearn: 0.2781518\ttotal: 2.98s\tremaining: 245ms\n",
      "924:\tlearn: 0.2780595\ttotal: 2.98s\tremaining: 242ms\n",
      "925:\tlearn: 0.2779772\ttotal: 2.98s\tremaining: 239ms\n",
      "926:\tlearn: 0.2778691\ttotal: 2.99s\tremaining: 235ms\n",
      "927:\tlearn: 0.2778611\ttotal: 2.99s\tremaining: 232ms\n",
      "928:\tlearn: 0.2777150\ttotal: 2.99s\tremaining: 229ms\n",
      "929:\tlearn: 0.2775756\ttotal: 3s\tremaining: 226ms\n",
      "930:\tlearn: 0.2775083\ttotal: 3s\tremaining: 222ms\n",
      "931:\tlearn: 0.2774448\ttotal: 3s\tremaining: 219ms\n",
      "932:\tlearn: 0.2774107\ttotal: 3s\tremaining: 216ms\n",
      "933:\tlearn: 0.2772739\ttotal: 3.01s\tremaining: 213ms\n",
      "934:\tlearn: 0.2771762\ttotal: 3.01s\tremaining: 209ms\n",
      "935:\tlearn: 0.2770528\ttotal: 3.01s\tremaining: 206ms\n",
      "936:\tlearn: 0.2768878\ttotal: 3.02s\tremaining: 203ms\n",
      "937:\tlearn: 0.2767785\ttotal: 3.02s\tremaining: 199ms\n",
      "938:\tlearn: 0.2766966\ttotal: 3.02s\tremaining: 196ms\n",
      "939:\tlearn: 0.2765797\ttotal: 3.02s\tremaining: 193ms\n",
      "940:\tlearn: 0.2764416\ttotal: 3.03s\tremaining: 190ms\n",
      "941:\tlearn: 0.2763821\ttotal: 3.03s\tremaining: 187ms\n",
      "942:\tlearn: 0.2762446\ttotal: 3.03s\tremaining: 183ms\n",
      "943:\tlearn: 0.2761014\ttotal: 3.04s\tremaining: 180ms\n",
      "944:\tlearn: 0.2759566\ttotal: 3.04s\tremaining: 177ms\n",
      "945:\tlearn: 0.2758644\ttotal: 3.05s\tremaining: 174ms\n",
      "946:\tlearn: 0.2757999\ttotal: 3.05s\tremaining: 171ms\n",
      "947:\tlearn: 0.2757459\ttotal: 3.06s\tremaining: 168ms\n",
      "948:\tlearn: 0.2756106\ttotal: 3.06s\tremaining: 164ms\n",
      "949:\tlearn: 0.2755476\ttotal: 3.06s\tremaining: 161ms\n",
      "950:\tlearn: 0.2754688\ttotal: 3.06s\tremaining: 158ms\n",
      "951:\tlearn: 0.2753433\ttotal: 3.07s\tremaining: 155ms\n",
      "952:\tlearn: 0.2752162\ttotal: 3.07s\tremaining: 151ms\n",
      "953:\tlearn: 0.2751308\ttotal: 3.07s\tremaining: 148ms\n",
      "954:\tlearn: 0.2750651\ttotal: 3.07s\tremaining: 145ms\n",
      "955:\tlearn: 0.2749646\ttotal: 3.08s\tremaining: 142ms\n",
      "956:\tlearn: 0.2748792\ttotal: 3.08s\tremaining: 138ms\n",
      "957:\tlearn: 0.2747575\ttotal: 3.08s\tremaining: 135ms\n",
      "958:\tlearn: 0.2746667\ttotal: 3.08s\tremaining: 132ms\n",
      "959:\tlearn: 0.2746120\ttotal: 3.09s\tremaining: 129ms\n",
      "960:\tlearn: 0.2744896\ttotal: 3.09s\tremaining: 125ms\n",
      "961:\tlearn: 0.2743924\ttotal: 3.09s\tremaining: 122ms\n",
      "962:\tlearn: 0.2742680\ttotal: 3.1s\tremaining: 119ms\n",
      "963:\tlearn: 0.2741939\ttotal: 3.1s\tremaining: 116ms\n",
      "964:\tlearn: 0.2740954\ttotal: 3.1s\tremaining: 112ms\n",
      "965:\tlearn: 0.2740314\ttotal: 3.1s\tremaining: 109ms\n",
      "966:\tlearn: 0.2739410\ttotal: 3.11s\tremaining: 106ms\n",
      "967:\tlearn: 0.2738602\ttotal: 3.11s\tremaining: 103ms\n",
      "968:\tlearn: 0.2737742\ttotal: 3.11s\tremaining: 99.6ms\n",
      "969:\tlearn: 0.2736799\ttotal: 3.11s\tremaining: 96.3ms\n",
      "970:\tlearn: 0.2735654\ttotal: 3.12s\tremaining: 93.1ms\n",
      "971:\tlearn: 0.2734922\ttotal: 3.12s\tremaining: 89.9ms\n",
      "972:\tlearn: 0.2734384\ttotal: 3.12s\tremaining: 86.7ms\n",
      "973:\tlearn: 0.2733341\ttotal: 3.13s\tremaining: 83.4ms\n",
      "974:\tlearn: 0.2732161\ttotal: 3.13s\tremaining: 80.2ms\n",
      "975:\tlearn: 0.2731427\ttotal: 3.13s\tremaining: 77ms\n",
      "976:\tlearn: 0.2730703\ttotal: 3.13s\tremaining: 73.8ms\n",
      "977:\tlearn: 0.2729823\ttotal: 3.14s\tremaining: 70.6ms\n",
      "978:\tlearn: 0.2728342\ttotal: 3.14s\tremaining: 67.3ms\n",
      "979:\tlearn: 0.2727576\ttotal: 3.14s\tremaining: 64.1ms\n",
      "980:\tlearn: 0.2726967\ttotal: 3.14s\tremaining: 60.9ms\n",
      "981:\tlearn: 0.2726181\ttotal: 3.15s\tremaining: 57.7ms\n",
      "982:\tlearn: 0.2725449\ttotal: 3.15s\tremaining: 54.5ms\n",
      "983:\tlearn: 0.2724777\ttotal: 3.15s\tremaining: 51.3ms\n",
      "984:\tlearn: 0.2723435\ttotal: 3.15s\tremaining: 48.1ms\n",
      "985:\tlearn: 0.2723043\ttotal: 3.16s\tremaining: 44.8ms\n",
      "986:\tlearn: 0.2722201\ttotal: 3.16s\tremaining: 41.6ms\n",
      "987:\tlearn: 0.2721654\ttotal: 3.16s\tremaining: 38.4ms\n",
      "988:\tlearn: 0.2720462\ttotal: 3.17s\tremaining: 35.2ms\n",
      "989:\tlearn: 0.2719679\ttotal: 3.17s\tremaining: 32ms\n",
      "990:\tlearn: 0.2719043\ttotal: 3.17s\tremaining: 28.8ms\n",
      "991:\tlearn: 0.2717912\ttotal: 3.18s\tremaining: 25.6ms\n",
      "992:\tlearn: 0.2717446\ttotal: 3.18s\tremaining: 22.4ms\n",
      "993:\tlearn: 0.2717054\ttotal: 3.18s\tremaining: 19.2ms\n",
      "994:\tlearn: 0.2716530\ttotal: 3.19s\tremaining: 16ms\n",
      "995:\tlearn: 0.2716206\ttotal: 3.19s\tremaining: 12.8ms\n",
      "996:\tlearn: 0.2715311\ttotal: 3.19s\tremaining: 9.6ms\n",
      "997:\tlearn: 0.2713896\ttotal: 3.19s\tremaining: 6.4ms\n",
      "998:\tlearn: 0.2712545\ttotal: 3.2s\tremaining: 3.2ms\n",
      "999:\tlearn: 0.2711194\ttotal: 3.2s\tremaining: 0us\n"
     ]
    },
    {
     "data": {
      "text/plain": [
       "<catboost.core.CatBoostClassifier at 0x1a7bd75ef40>"
      ]
     },
     "execution_count": 35,
     "metadata": {},
     "output_type": "execute_result"
    }
   ],
   "source": [
    "# Create a instance of model CatBoostClassifier\n",
    "model_CB = CatBoostClassifier()\n",
    "\n",
    "# Train the model\n",
    "model_CB.fit(X_train, y_train)"
   ]
  },
  {
   "cell_type": "markdown",
   "metadata": {},
   "source": [
    "<div id=\"neural-net\"></div>\n",
    "\n",
    "#### 7.2.2. Neural Network"
   ]
  },
  {
   "cell_type": "code",
   "execution_count": 72,
   "metadata": {},
   "outputs": [],
   "source": [
    "# creating a network\n",
    "def build_model():\n",
    "    model = Sequential([\n",
    "    Dense(128, activation='relu', input_shape=[len(X_train.keys())]),\n",
    "    Dense(64, activation='relu'),\n",
    "    Dense(1, activation='sigmoid')\n",
    "  ])\n",
    "    # We will use a mean BinaryCrossEntropy loss and an Adam optimizer.\n",
    "    optimizer = tf.keras.optimizers.Adam(0.005)\n",
    "    model.compile(loss=tf.keras.losses.BinaryCrossentropy(),\n",
    "                optimizer=optimizer)\n",
    "    return model\n",
    "\n",
    "model_NN = build_model()"
   ]
  },
  {
   "cell_type": "code",
   "execution_count": 73,
   "metadata": {},
   "outputs": [
    {
     "name": "stdout",
     "output_type": "stream",
     "text": [
      "Model: \"sequential_1\"\n",
      "_________________________________________________________________\n",
      " Layer (type)                Output Shape              Param #   \n",
      "=================================================================\n",
      " dense_3 (Dense)             (None, 128)               3968      \n",
      "                                                                 \n",
      " dense_4 (Dense)             (None, 64)                8256      \n",
      "                                                                 \n",
      " dense_5 (Dense)             (None, 1)                 65        \n",
      "                                                                 \n",
      "=================================================================\n",
      "Total params: 12,289\n",
      "Trainable params: 12,289\n",
      "Non-trainable params: 0\n",
      "_________________________________________________________________\n"
     ]
    }
   ],
   "source": [
    "model_NN.summary()"
   ]
  },
  {
   "cell_type": "code",
   "execution_count": 74,
   "metadata": {
    "scrolled": true
   },
   "outputs": [
    {
     "name": "stdout",
     "output_type": "stream",
     "text": [
      "Epoch 1/40\n",
      "136/174 [======================>.......] - ETA: 0s - loss: 5.7980  \n",
      "174/174 [==============================] - 1s 2ms/step - loss: 5.0077 - val_loss: 3.3995\n",
      "Epoch 2/40\n",
      "174/174 [==============================] - 0s 1ms/step - loss: 1.4184 - val_loss: 0.8688\n",
      "Epoch 3/40\n",
      "174/174 [==============================] - 0s 1ms/step - loss: 1.2273 - val_loss: 0.6420\n",
      "Epoch 4/40\n",
      "174/174 [==============================] - 0s 1ms/step - loss: 0.9139 - val_loss: 1.2840\n",
      "Epoch 5/40\n",
      "174/174 [==============================] - 0s 1ms/step - loss: 0.7866 - val_loss: 0.5651\n",
      "Epoch 6/40\n",
      "174/174 [==============================] - 0s 989us/step - loss: 0.7630 - val_loss: 0.5649\n",
      "Epoch 7/40\n",
      "174/174 [==============================] - 0s 975us/step - loss: 0.5999 - val_loss: 0.6045\n",
      "Epoch 8/40\n",
      "174/174 [==============================] - 0s 1ms/step - loss: 0.6044 - val_loss: 0.5460\n",
      "Epoch 9/40\n",
      "174/174 [==============================] - 0s 1ms/step - loss: 0.6013 - val_loss: 0.8044\n",
      "Epoch 10/40\n",
      "174/174 [==============================] - 0s 1ms/step - loss: 0.5714 - val_loss: 0.7796\n",
      "Epoch 11/40\n",
      "174/174 [==============================] - 0s 940us/step - loss: 0.5745 - val_loss: 0.5567\n",
      "Epoch 12/40\n",
      "174/174 [==============================] - 0s 971us/step - loss: 0.5506 - val_loss: 0.6884\n",
      "Epoch 13/40\n",
      "174/174 [==============================] - 0s 975us/step - loss: 0.5712 - val_loss: 0.5668\n",
      "Epoch 14/40\n",
      "174/174 [==============================] - 0s 960us/step - loss: 0.5644 - val_loss: 0.6195\n",
      "Epoch 15/40\n",
      "174/174 [==============================] - 0s 959us/step - loss: 0.5399 - val_loss: 0.5686\n",
      "Epoch 16/40\n",
      "174/174 [==============================] - 0s 956us/step - loss: 0.5350 - val_loss: 0.5711\n",
      "Epoch 17/40\n",
      "174/174 [==============================] - 0s 945us/step - loss: 0.5190 - val_loss: 0.5850\n",
      "Epoch 18/40\n",
      "174/174 [==============================] - 0s 948us/step - loss: 0.5183 - val_loss: 0.5655\n"
     ]
    },
    {
     "data": {
      "text/html": [
       "<div>\n",
       "<style scoped>\n",
       "    .dataframe tbody tr th:only-of-type {\n",
       "        vertical-align: middle;\n",
       "    }\n",
       "\n",
       "    .dataframe tbody tr th {\n",
       "        vertical-align: top;\n",
       "    }\n",
       "\n",
       "    .dataframe thead th {\n",
       "        text-align: right;\n",
       "    }\n",
       "</style>\n",
       "<table border=\"1\" class=\"dataframe\">\n",
       "  <thead>\n",
       "    <tr style=\"text-align: right;\">\n",
       "      <th></th>\n",
       "      <th>loss</th>\n",
       "      <th>val_loss</th>\n",
       "      <th>epoch</th>\n",
       "    </tr>\n",
       "  </thead>\n",
       "  <tbody>\n",
       "    <tr>\n",
       "      <th>13</th>\n",
       "      <td>0.564383</td>\n",
       "      <td>0.619485</td>\n",
       "      <td>13</td>\n",
       "    </tr>\n",
       "    <tr>\n",
       "      <th>14</th>\n",
       "      <td>0.539923</td>\n",
       "      <td>0.568573</td>\n",
       "      <td>14</td>\n",
       "    </tr>\n",
       "    <tr>\n",
       "      <th>15</th>\n",
       "      <td>0.534959</td>\n",
       "      <td>0.571139</td>\n",
       "      <td>15</td>\n",
       "    </tr>\n",
       "    <tr>\n",
       "      <th>16</th>\n",
       "      <td>0.518994</td>\n",
       "      <td>0.585022</td>\n",
       "      <td>16</td>\n",
       "    </tr>\n",
       "    <tr>\n",
       "      <th>17</th>\n",
       "      <td>0.518348</td>\n",
       "      <td>0.565497</td>\n",
       "      <td>17</td>\n",
       "    </tr>\n",
       "  </tbody>\n",
       "</table>\n",
       "</div>"
      ],
      "text/plain": [
       "        loss  val_loss  epoch\n",
       "13  0.564383  0.619485     13\n",
       "14  0.539923  0.568573     14\n",
       "15  0.534959  0.571139     15\n",
       "16  0.518994  0.585022     16\n",
       "17  0.518348  0.565497     17"
      ]
     },
     "execution_count": 74,
     "metadata": {},
     "output_type": "execute_result"
    }
   ],
   "source": [
    "# Shows training progress by printing a single dot for each completed epoch\n",
    "class PrintDot(tf.keras.callbacks.Callback):\n",
    "    def on_epoch_end(self, epoch, logs):\n",
    "        if epoch % 100 == 0: print('')\n",
    "        print('.', end='')\n",
    "\n",
    "EPOCHS = 40\n",
    "\n",
    "# The patience parameter is the number of epochs to check the improvements\n",
    "early_stop = tf.keras.callbacks.EarlyStopping(monitor='val_loss', patience=10)\n",
    "history = model_NN.fit(X_train, y_train, epochs=EPOCHS, batch_size=32, validation_split=0.2, callbacks=[early_stop, PrintDot()])\n",
    "\n",
    "hist = pd.DataFrame(history.history)\n",
    "hist['epoch'] = history.epoch\n",
    "hist.tail()"
   ]
  },
  {
   "cell_type": "code",
   "execution_count": 75,
   "metadata": {},
   "outputs": [
    {
     "data": {
      "image/png": "[encoded data removed]",
      "text/plain": [
       "<Figure size 432x288 with 1 Axes>"
      ]
     },
     "metadata": {
      "needs_background": "light"
     },
     "output_type": "display_data"
    }
   ],
   "source": [
    "def plot_history(history):\n",
    "    hist = pd.DataFrame(history.history)\n",
    "    hist['epoch'] = history.epoch\n",
    "\n",
    "    plt.figure()\n",
    "    plt.xlabel('Epoch')\n",
    "    plt.ylabel('Binary Cross-Entropy Loss')\n",
    "    plt.plot(hist['epoch'], hist['loss'],\n",
    "             label='Train Loss')\n",
    "    plt.plot(hist['epoch'], hist['val_loss'],\n",
    "             label='Val Loss')\n",
    "    plt.legend()\n",
    "    \n",
    "plot_history(history)"
   ]
  },
  {
   "cell_type": "markdown",
   "metadata": {},
   "source": [
    "- **Note**: according to the graph, we see that the losses for both the training set and the validation set are converging, which may mean that for the neural network model, it is being a model that generalizes well."
   ]
  },
  {
   "cell_type": "markdown",
   "metadata": {},
   "source": [
    "<div id=\"evaluation\"></div>\n",
    "\n",
    "### 7.3. Evaluation\n",
    "\n",
    "### `CatBoostClassifier`\n",
    "\n",
    "<div id=\"acc1\"></div>\n",
    "\n",
    "#### 7.3.1. Accuracy score (CB)\n",
    "First, let's see the metrics of `accuracy score`.\n",
    "\n",
    "- **Note**: The \"`accuracy score`\" is a performance metric used in machine learning and classification tasks. It calculates the proportion of correct predictions made by a model over the total number of predictions. It is a simple and commonly used way to assess how well a model is performing, especially when the classes are well-balanced."
   ]
  },
  {
   "cell_type": "code",
   "execution_count": 40,
   "metadata": {},
   "outputs": [
    {
     "name": "stdout",
     "output_type": "stream",
     "text": [
      "The accuracy for the training set was: 0.505176876617774\n",
      "The accuracy for the validation set was: 0.4974123059229442\n"
     ]
    }
   ],
   "source": [
    "# The accuracy of CatBoostClassifier is\n",
    "y_predCB = model_CB.predict(X_train)\n",
    "y_cv_predCB = model_CB.predict(X_cv)\n",
    "\n",
    "y_predCB = y_predCB.astype(y_train.dtype)\n",
    "y_cv_predCB = y_cv_predCB.astype(y_cv.dtype)\n",
    "\n",
    "accuracy_trainCB = accuracy_score(y_train, y_predCB)\n",
    "accuracy_cvCB = accuracy_score(y_cv, y_cv_predCB)\n",
    "\n",
    "print(f\"The accuracy for the training set was: {accuracy_trainCB}\")\n",
    "print(f\"The accuracy for the validation set was: {accuracy_cvCB}\")"
   ]
  },
  {
   "cell_type": "markdown",
   "metadata": {},
   "source": [
    "Wow, that's look a little bad."
   ]
  },
  {
   "cell_type": "markdown",
   "metadata": {},
   "source": [
    "So let's take a look at the `confusion matrix` to see if we can get some insight into the model performance."
   ]
  },
  {
   "cell_type": "markdown",
   "metadata": {},
   "source": [
    "<div id=\"cm\"></div>\n",
    "\n",
    "#### 7.3.2. Confusion Matrix (CB)\n",
    "\n",
    "- **Note**: A confusion matrix is a performance evaluation tool in machine learning that summarizes the classification results by displaying the true positive, true negative, false positive, and false negative predictions of a model in a tabular format."
   ]
  },
  {
   "cell_type": "markdown",
   "metadata": {},
   "source": [
    "That's good, although obviously not ideal. Look that the model has a little \"preference\" to False Negatives than the False Positives. One measure of possible improvement would be to try to think about how to improve this."
   ]
  },
  {
   "cell_type": "code",
   "execution_count": 41,
   "metadata": {
    "scrolled": false
   },
   "outputs": [
    {
     "data": {
      "image/png": "[encoded data removed]",
      "text/plain": [
       "<Figure size 720x504 with 2 Axes>"
      ]
     },
     "metadata": {
      "needs_background": "light"
     },
     "output_type": "display_data"
    }
   ],
   "source": [
    "# Create the confusion matrix to CatBoostClassifier\n",
    "cm = confusion_matrix(y_cv, y_cv_predCB)\n",
    "\n",
    "# Define the class labels\n",
    "class_labels = ['True', 'False']\n",
    "\n",
    "# Create a heatmap to visualize the confusion matrix\n",
    "plt.figure(figsize=(10, 7))\n",
    "sns.heatmap(cm, annot=True, fmt='d', cmap='Blues', xticklabels=class_labels, yticklabels=class_labels)\n",
    "plt.xlabel('Predicted Labels')\n",
    "plt.ylabel('True Labels')\n",
    "plt.title('Confusion Matrix')\n",
    "plt.show()"
   ]
  },
  {
   "cell_type": "markdown",
   "metadata": {},
   "source": [
    "Wow, that's look really bad. Our model (`CatBoostClassifier`) is only classifying one class. Let's assume that's a **case of `overffiting`** and, maybe (I think), either because the model may be too complex. To check if this assumption is true, let's see the the **loss function of `CatBoostClassifier`** to training and validation sets and analyze how both behave."
   ]
  },
  {
   "cell_type": "code",
   "execution_count": 42,
   "metadata": {
    "scrolled": false
   },
   "outputs": [
    {
     "data": {
      "application/vnd.jupyter.widget-view+json": {
       "model_id": "616f889a937540fd8e48c3f739fa315c",
       "version_major": 2,
       "version_minor": 0
      },
      "text/plain": [
       "MetricVisualizer(layout=Layout(align_self='stretch', height='500px'))"
      ]
     },
     "metadata": {},
     "output_type": "display_data"
    },
    {
     "name": "stdout",
     "output_type": "stream",
     "text": [
      "0:\tlearn: 0.6505958\ttest: 0.6499026\tbest: 0.6499026 (0)\ttotal: 3.24ms\tremaining: 3.24s\n",
      "100:\tlearn: 0.3389490\ttest: 0.3790886\tbest: 0.3790886 (100)\ttotal: 338ms\tremaining: 3.01s\n",
      "200:\tlearn: 0.2840542\ttest: 0.3772094\tbest: 0.3760741 (135)\ttotal: 676ms\tremaining: 2.69s\n",
      "300:\tlearn: 0.2473709\ttest: 0.3830100\tbest: 0.3760741 (135)\ttotal: 988ms\tremaining: 2.29s\n",
      "400:\tlearn: 0.2157411\ttest: 0.3872256\tbest: 0.3760741 (135)\ttotal: 1.28s\tremaining: 1.92s\n",
      "500:\tlearn: 0.1899700\ttest: 0.3904893\tbest: 0.3760741 (135)\ttotal: 1.59s\tremaining: 1.58s\n",
      "600:\tlearn: 0.1687687\ttest: 0.3960071\tbest: 0.3760741 (135)\ttotal: 1.97s\tremaining: 1.3s\n",
      "700:\tlearn: 0.1523442\ttest: 0.4024521\tbest: 0.3760741 (135)\ttotal: 2.3s\tremaining: 980ms\n",
      "800:\tlearn: 0.1367753\ttest: 0.4074283\tbest: 0.3760741 (135)\ttotal: 2.63s\tremaining: 653ms\n",
      "900:\tlearn: 0.1241241\ttest: 0.4134686\tbest: 0.3760741 (135)\ttotal: 2.98s\tremaining: 327ms\n",
      "999:\tlearn: 0.1124754\ttest: 0.4208500\tbest: 0.3760741 (135)\ttotal: 3.35s\tremaining: 0us\n",
      "\n",
      "bestTest = 0.3760741274\n",
      "bestIteration = 135\n",
      "\n",
      "Shrink model to first 136 iterations.\n",
      "Melhor Log Loss durante o treinamento: 0.3761\n"
     ]
    }
   ],
   "source": [
    "# Initialize the model\n",
    "model = CatBoostClassifier(iterations=1000,  # number of iterations (epochs) of training \n",
    "                           learning_rate=0.1,\n",
    "                           depth=6,\n",
    "                           loss_function='Logloss',  # loss function (log loss to binary classification)\n",
    "                           random_seed=42)\n",
    "\n",
    "# Train the model\n",
    "model.fit(X_train, y_train, eval_set=(X_cv, y_cv), verbose=100, plot=True)\n",
    "\n",
    "# Viewing the best loss achieved during training\n",
    "best_loss = model.get_best_score()['validation']['Logloss']\n",
    "print(f\"Melhor Log Loss durante o treinamento: {best_loss:.4f}\")"
   ]
  },
  {
   "cell_type": "markdown",
   "metadata": {},
   "source": [
    "The **loss curve graph** (loss) during training usually has the loss on the y-axis and the number of iterations (or epochs) on the x-axis. The objective is to follow how the loss evolves as the model is progressively trained.\n",
    "\n",
    "Look that the validation curve (test), that is, the loss, is **growing** over the epochs, which **differs** from what is **expected** (the curve shows a downward trend). So, we can conclude that it's really a `overffiting` problem.\n",
    "\n",
    "- **Note**: `Overfitting is a common problem in machine learning and deep learning, where a model becomes excessively tailored to the training data and fails to generalize well to unseen data.`"
   ]
  },
  {
   "cell_type": "markdown",
   "metadata": {},
   "source": [
    "<div id=\"overfit\"></div>\n",
    "\n",
    "#### 7.3.3. Treating overfitting and tunning hyperparameters\n",
    "\n",
    "A good way to deal with overfitting is to regularize the model. Lets do this."
   ]
  },
  {
   "cell_type": "code",
   "execution_count": 43,
   "metadata": {},
   "outputs": [],
   "source": [
    "# # Before we apply the regularization to the model, let's adjust the hyperparameters of the CatBoostClassifier with \n",
    "# # the GridSearchCV.\n",
    "\n",
    "# # Define hyperparameter grid for gridsearch\n",
    "# param_grid = {\n",
    "#     'learning_rate': [0.01, 0.05, 0.1],\n",
    "#     'depth': [4, 6, 8],\n",
    "#     'l2_leaf_reg': [1, 3, 5],\n",
    "#     'rsm': [0.7, 0.8, 0.9],\n",
    "#     'iterations': [500, 1000, 1500],\n",
    "#     'border_count': [32, 64, 128],\n",
    "#     'bagging_temperature': [0.5, 1, 2]\n",
    "# }\n",
    "\n",
    "# # Initialize the model\n",
    "# model = CatBoostClassifier()\n",
    "\n",
    "# # Perform grid search with cross validation\n",
    "# grid_search = GridSearchCV(model, param_grid, cv=3, verbose=2, n_jobs=-1)\n",
    "# grid_search.fit(X_train, y_train)\n",
    "\n",
    "# # Shown the best parameters\n",
    "# print(\"best parameters:\")\n",
    "# print(grid_search.best_params_)\n",
    "\n",
    "# # OUTPUT: \"best parameters: {'bagging_temperature': 0.5, 'border_count': 32, 'depth': 4, 'iterations': 500, 'l2_leaf_reg': 1,\n",
    "# #'learning_rate': 0.01, 'rsm': 0.7}\""
   ]
  },
  {
   "cell_type": "code",
   "execution_count": 44,
   "metadata": {},
   "outputs": [
    {
     "data": {
      "application/vnd.jupyter.widget-view+json": {
       "model_id": "66dc445347f94867a45e457122f685f7",
       "version_major": 2,
       "version_minor": 0
      },
      "text/plain": [
       "MetricVisualizer(layout=Layout(align_self='stretch', height='500px'))"
      ]
     },
     "metadata": {},
     "output_type": "display_data"
    },
    {
     "name": "stdout",
     "output_type": "stream",
     "text": [
      "0:\tlearn: 0.6894489\ttest: 0.6894271\tbest: 0.6894271 (0)\ttotal: 2.63ms\tremaining: 1.31s\n",
      "100:\tlearn: 0.5135196\ttest: 0.5090275\tbest: 0.5090275 (100)\ttotal: 233ms\tremaining: 920ms\n",
      "200:\tlearn: 0.4649870\ttest: 0.4627629\tbest: 0.4627629 (200)\ttotal: 465ms\tremaining: 692ms\n",
      "300:\tlearn: 0.4413391\ttest: 0.4416960\tbest: 0.4416960 (300)\ttotal: 692ms\tremaining: 457ms\n",
      "400:\tlearn: 0.4257780\ttest: 0.4280358\tbest: 0.4280358 (400)\ttotal: 922ms\tremaining: 228ms\n",
      "499:\tlearn: 0.4141114\ttest: 0.4183976\tbest: 0.4183976 (499)\ttotal: 1.17s\tremaining: 0us\n",
      "\n",
      "bestTest = 0.4183976289\n",
      "bestIteration = 499\n",
      "\n"
     ]
    },
    {
     "data": {
      "text/plain": [
       "<catboost.core.CatBoostClassifier at 0x1a7bda73970>"
      ]
     },
     "execution_count": 44,
     "metadata": {},
     "output_type": "execute_result"
    }
   ],
   "source": [
    "# Initialize the model with the best parameters\n",
    "model_tun = CatBoostClassifier(iterations=500,\n",
    "                              learning_rate=0.01,\n",
    "                              depth=4,\n",
    "                              l2_leaf_reg=1,\n",
    "                              rsm=0.7,\n",
    "                              bagging_temperature=0.5,\n",
    "                              border_count=32)\n",
    "\n",
    "# Train the model\n",
    "model_tun.fit(X_train, y_train, eval_set=(X_cv, y_cv), verbose=100, plot=True)"
   ]
  },
  {
   "cell_type": "markdown",
   "metadata": {},
   "source": [
    "Once the hyperparameters are adjusted, let's take a look at the already used metrics of this adjusted model."
   ]
  },
  {
   "cell_type": "code",
   "execution_count": 45,
   "metadata": {},
   "outputs": [
    {
     "name": "stdout",
     "output_type": "stream",
     "text": [
      "The accuracy was: 0.4974123059229442\n"
     ]
    }
   ],
   "source": [
    "# predictions\n",
    "y_pred = model_tun.predict(X_cv)\n",
    "y_pred = y_pred.astype(y_cv.dtype)\n",
    "\n",
    "# acuraccy\n",
    "acuraccy_tun = accuracy_score(y_cv, y_pred)\n",
    "\n",
    "print(f\"The accuracy was: {acuraccy_tun}\")"
   ]
  },
  {
   "cell_type": "markdown",
   "metadata": {},
   "source": [
    "Unfortenatly, the model still is bad. Let's see the `confusion matrix` to adjusted model."
   ]
  },
  {
   "cell_type": "code",
   "execution_count": 46,
   "metadata": {
    "scrolled": false
   },
   "outputs": [
    {
     "data": {
      "image/png": "[encoded data removed]",
      "text/plain": [
       "<Figure size 720x504 with 2 Axes>"
      ]
     },
     "metadata": {
      "needs_background": "light"
     },
     "output_type": "display_data"
    }
   ],
   "source": [
    "# Create the confusion matrix to CatBoostClassifier\n",
    "cm = confusion_matrix(y_cv, y_pred)\n",
    "\n",
    "# Define the class labels\n",
    "class_labels = ['True', 'False']\n",
    "\n",
    "# Create a heatmap to visualize the confusion matrix\n",
    "plt.figure(figsize=(10, 7))\n",
    "sns.heatmap(cm, annot=True, fmt='d', cmap='Blues', xticklabels=class_labels, yticklabels=class_labels)\n",
    "plt.xlabel('Predicted Labels')\n",
    "plt.ylabel('True Labels')\n",
    "plt.title('Confusion Matrix')\n",
    "plt.show()"
   ]
  },
  {
   "cell_type": "markdown",
   "metadata": {},
   "source": [
    "Although the `overffiting` issue **has been addressed**, there is another issue that is affecting the model's prediction. Possibly, this may be related to the `decision boundary`, where this threshold must be shifted so that the model predicts only one of the classes. Before we look to visualize this, let's take a look at the latest metrics we can analyze as `precision, recall and F1 score`."
   ]
  },
  {
   "cell_type": "markdown",
   "metadata": {},
   "source": [
    "<div id=\"prf1\"></div>\n",
    "\n",
    "#### 7.3.4. Precision, recall and F1 score. (CB)"
   ]
  },
  {
   "cell_type": "markdown",
   "metadata": {},
   "source": [
    "- `Precision`: accuracy of positive predictions\n",
    "\n",
    "$$precision = \\frac{TP}{TP + FP}$$\n",
    "\n",
    "\n",
    "- `Recall`: proportion of positive instances that are correctly detected by the classifier\n",
    "\n",
    "$$recall = \\frac{TP}{TP + FN}$$\n",
    "\n",
    "Although we are able to apply it this way, the Scikit-Learn library already provides us with several functions to calculate these metrics, such as `precision_score` and `recall_score`. However, we can obtain an even more interesting metric that is the combination of the two already mentioned through the harmonic mean between them: `f1_score`. Whereas the regular mean treats all values ​​equally, the harmonic mean gives more importance to the lowest values."
   ]
  },
  {
   "cell_type": "code",
   "execution_count": 47,
   "metadata": {},
   "outputs": [
    {
     "name": "stdout",
     "output_type": "stream",
     "text": [
      "Precision: 0.4974123059229442\n",
      "Recall: 1.0\n",
      "F1 score: 0.6643625192012289\n"
     ]
    }
   ],
   "source": [
    "precision = precision_score(y_cv, y_pred)\n",
    "recall = recall_score(y_cv, y_pred)\n",
    "f1 = f1_score(y_cv, y_pred)\n",
    "\n",
    "print(f\"Precision: {precision}\")\n",
    "print(f\"Recall: {recall}\")\n",
    "print(f\"F1 score: {f1}\")"
   ]
  },
  {
   "cell_type": "markdown",
   "metadata": {},
   "source": [
    "In fact, it's not ideal. So, let's check the decision threshold with the `ROC` and `AUC` curves."
   ]
  },
  {
   "cell_type": "markdown",
   "metadata": {},
   "source": [
    "<div id=\"roc-auc\"></div>\n",
    "\n",
    "#### 7.3.5. ROC and AUC curves\n",
    "\n",
    "To see if the decision threshold is affecting the model's predictions, you can look at the **Receiver Operating Characteristic** (`ROC`) curve and the `Precision-Recall` curve. These curves are useful for understanding model performance at different decision thresholds and ca\n",
    "n help identify the sweet spot that balances model accuracy and recall (or sensitivity).\n",
    "\n",
    "The `ROC curve` is plotted using the true positive (`recall`) rate on the Y axis and the false positive rate on the X axis. Each point on the `ROC curve` corresponds to a different decision threshold, and the upper left point of the curve represents the point where `recall` is 1 and false positive rate is 0, which is the sweet spot for a perfect model. The closer the ROC curve is to the upper left corner, the better the model is behaving.\n",
    "\n",
    "The `precision-recall` curve, on the other hand, is plotted using precision on the Y-axis and `recall` on the X-axis. It also varies with the decision threshold. A larger area under the precision-recall curve is desirable, indicating that the model has high precision and high recall at a suitable decision threshold."
   ]
  },
  {
   "cell_type": "code",
   "execution_count": 48,
   "metadata": {},
   "outputs": [
    {
     "data": {
      "image/png": "[encoded data removed]",
      "text/plain": [
       "<Figure size 576x432 with 1 Axes>"
      ]
     },
     "metadata": {
      "needs_background": "light"
     },
     "output_type": "display_data"
    }
   ],
   "source": [
    "# Calculate the probabilities of positive class for ROC and Precision-Recall curves\n",
    "y_prob_pos = model_tun.predict_proba(X_cv)[:, 1]\n",
    "\n",
    "# Calculate the ROC curve and the area under the curve (AUC-ROC)\n",
    "fpr, tpr, _ = roc_curve(y_cv, y_prob_pos)\n",
    "roc_auc = roc_auc_score(y_cv, y_prob_pos)\n",
    "\n",
    "# Calculate the Precision-Recall curve and the area under the curve (AUC-PR)\n",
    "precision, recall, _ = precision_recall_curve(y_cv, y_prob_pos)\n",
    "pr_auc = average_precision_score(y_cv, y_prob_pos)\n",
    "\n",
    "# Plot the ROC and Precision-Recall curves\n",
    "plt.figure(figsize=(8, 6))\n",
    "plt.plot(fpr, tpr, color='blue', lw=2, label='ROC curve (AUC = %0.2f)' % roc_auc)\n",
    "plt.plot(recall, precision, color='green', lw=2, label='Precision-Recall curve (AUC = %0.2f)' % pr_auc)\n",
    "plt.plot([0, 1], [0, 1], color='gray', linestyle='--')\n",
    "plt.xlim([0.0, 1.0])\n",
    "plt.ylim([0.0, 1.05])\n",
    "plt.xlabel('False Positive Rate (FPR) / Recall')\n",
    "plt.ylabel('True Positive Rate (TPR) / Precision')\n",
    "plt.title('ROC and Precision-Recall Curves')\n",
    "plt.legend(loc='lower right')\n",
    "plt.show()\n"
   ]
  },
  {
   "cell_type": "markdown",
   "metadata": {},
   "source": [
    "The curves are not very close to ideal behavior, but it gives us some interesting insights into what it would be like to look for the **ideal decision threshold**."
   ]
  },
  {
   "cell_type": "markdown",
   "metadata": {},
   "source": [
    "<div id=\"threshold\"></div>\n",
    "\n",
    "#### 7.3.6. Ideal decision boundary\n",
    "\n",
    "- **Note 1**: When the model makes a prediction, it assigns a probability to each possible class. The decision threshold is the value you use to convert these probabilities into final class labels.\n",
    "\n",
    "- **Note 2**: By default, the decision threshold is set to 0.5, which means that if the positive class probability (class 1) is greater than or equal to 0.5, the model assigns the positive class to the example. Otherwise, assign the negative class (class 0). However, you can adjust this value to achieve a different balance between accuracy and recall.\n",
    "\n",
    "Our goal is choose the decision boundary that best maximizes the evaluation metrics, and this is a otimization problem. The goal is to find the threshold that results in the best balance between metrics relevant, such as accuracy, recall, F1-score, among others. For this, we have to do:\n",
    "\n",
    "1. **Calculate the positive class probabilities** \n",
    "    - Use the trained model to make positive class probability predictions for the validation or test set.\n",
    "\n",
    "2. **Calculate the ROC curve and the area under the curve (AUC-ROC)**\n",
    "    - Use the positive class probabilities and true classes of the validation or test set to calculate the ROC curve and area under the curve (AUC-ROC) using the appropriate library.\n",
    "\n",
    "3. **Find the threshold that maximizes the AUC-ROC**\n",
    "    - Iterate over the different decision thresholds and calculate the AUC-ROC for each threshold.\n",
    "    - Store the threshold that results in the largest AUC-ROC.\n",
    "    - By following these three steps, you can identify the threshold that maximizes the AUC-ROC, indicating the sweet spot of balance between the true positive rate and the false positive rate for your classification model. This approach allows finding the best cutoff point to optimize model performance in terms of discrimination between positive and negative classes."
   ]
  },
  {
   "cell_type": "code",
   "execution_count": 49,
   "metadata": {},
   "outputs": [
    {
     "data": {
      "image/png": "[encoded data removed]",
      "text/plain": [
       "<Figure size 576x432 with 1 Axes>"
      ]
     },
     "metadata": {
      "needs_background": "light"
     },
     "output_type": "display_data"
    },
    {
     "name": "stdout",
     "output_type": "stream",
     "text": [
      "Best Threshold: 0.578917111657333\n",
      "Best AUC-ROC: 0.8054099813494531\n"
     ]
    }
   ],
   "source": [
    "# y_pred_tun: tuned model predictions\n",
    "# y_cv: cross-validation set true classes\n",
    "\n",
    "# Calculate the positive class probabilities for the cross-validation set\n",
    "y_prob_pos_tun = model_tun.predict_proba(X_cv)[:, 1]\n",
    "\n",
    "# Initialize the variables to store the best AUC-ROC and the best threshold\n",
    "best_auc_roc = 0\n",
    "best_threshold = 0\n",
    "\n",
    "# Calculate the ROC curve for different decision thresholds\n",
    "fpr, tpr, thresholds = roc_curve(y_cv, y_prob_pos_tun)\n",
    "\n",
    "# Find the threshold that maximizes the AUC-ROC\n",
    "for i in range(len(thresholds)):\n",
    "    threshold = thresholds[i]\n",
    "    y_pred_adjusted = (y_prob_pos_tun >= threshold).astype(int)\n",
    "    auc_roc = roc_auc_score(y_cv, y_pred_adjusted)\n",
    "    \n",
    "    if auc_roc > best_auc_roc:\n",
    "        best_auc_roc = auc_roc\n",
    "        best_threshold = threshold\n",
    "\n",
    "# Plot the curve ROC\n",
    "plt.figure(figsize=(8, 6))\n",
    "plt.plot(fpr, tpr, color='blue', lw=2, label='ROC curve (AUC = %0.2f)' % best_auc_roc)\n",
    "plt.plot([0, 1], [0, 1], color='gray', linestyle='--')\n",
    "plt.xlim([0.0, 1.0])\n",
    "plt.ylim([0.0, 1.05])\n",
    "plt.xlabel('False Positive Rate (FPR)')\n",
    "plt.ylabel('True Positive Rate (TPR) / Recall')\n",
    "plt.title('ROC Curve')\n",
    "plt.legend(loc='lower right')\n",
    "plt.show()\n",
    "\n",
    "# Print the best threshold and the best AUC-ROC\n",
    "print(\"Best Threshold:\", best_threshold)\n",
    "print(\"Best AUC-ROC:\", best_auc_roc)\n"
   ]
  },
  {
   "cell_type": "markdown",
   "metadata": {},
   "source": [
    "_`Why the best AUC-ROC?`_\n",
    "\n",
    "- The AUC-ROC measures the ability of a classifier model to correctly distinguish between positive and negative classes. (Context of our problem)\n",
    "- It's a useful metric when you're more concerned with overall ranking and performance at different decision thresholds. (What we want)\n",
    "- It is suitable for problems where balance between classes is important. (What we have)"
   ]
  },
  {
   "cell_type": "markdown",
   "metadata": {},
   "source": [
    "**Final verification**"
   ]
  },
  {
   "cell_type": "code",
   "execution_count": 50,
   "metadata": {},
   "outputs": [],
   "source": [
    "# previsions of probabilities of classe\n",
    "y_prob_pos = model_tun.predict_proba(X_cv)[:, 1]\n",
    "\n",
    "# Adjust the decision threshold to a desired value\n",
    "limiar_desejado = 0.578917111657333\n",
    "y_pred_adjusted = (y_prob_pos >= limiar_desejado).astype(int)\n",
    "\n",
    "# Now y_pred_adjusted contains the adjusted predictions with the new decision threshold"
   ]
  },
  {
   "cell_type": "code",
   "execution_count": 51,
   "metadata": {},
   "outputs": [
    {
     "name": "stdout",
     "output_type": "stream",
     "text": [
      "Confusion Matrix:\n",
      "[[742 132]\n",
      " [206 659]]\n",
      "---------------------------\n",
      "Acuraccy: 0.8056354226566993\n",
      "Precision: 0.8331226295828066\n",
      "Recall: 0.761849710982659\n",
      "F1-score: 0.7958937198067634\n",
      "AUC-ROC: 0.8054099813494531\n"
     ]
    }
   ],
   "source": [
    "# Compute the confusion matrix\n",
    "cm_cb = confusion_matrix(y_cv, y_pred_adjusted)\n",
    "\n",
    "# Compute the evaluation metrics\n",
    "accuracy_cb = accuracy_score(y_cv, y_pred_adjusted)\n",
    "precision_cb = precision_score(y_cv, y_pred_adjusted)\n",
    "recall_cb = recall_score(y_cv, y_pred_adjusted)\n",
    "f1_cb = f1_score(y_cv, y_pred_adjusted)\n",
    "roc_auc_cb = roc_auc_score(y_cv, y_pred_adjusted)\n",
    "\n",
    "# Show the metrics\n",
    "print(\"Confusion Matrix:\")\n",
    "print(cm_cb)\n",
    "print(\"---------------------------\")\n",
    "print(\"Acuraccy:\", accuracy_cb)\n",
    "print(\"Precision:\", precision_cb)\n",
    "print(\"Recall:\", recall_cb)\n",
    "print(\"F1-score:\", f1_cb)\n",
    "print(\"AUC-ROC:\", roc_auc_cb)\n"
   ]
  },
  {
   "cell_type": "markdown",
   "metadata": {},
   "source": [
    "Finally! That's good. Now we have a accuracy of **~ 81%**! :)"
   ]
  },
  {
   "cell_type": "markdown",
   "metadata": {},
   "source": [
    "### `Neural Network`\n",
    "<div id=\"acc2\"></div>\n",
    "\n",
    "#### 7.3.7. Acuraccy score (NN)\n",
    "\n",
    "First, let's see the metrics of `accuracy score`."
   ]
  },
  {
   "cell_type": "code",
   "execution_count": 76,
   "metadata": {},
   "outputs": [
    {
     "name": "stdout",
     "output_type": "stream",
     "text": [
      "55/55 [==============================] - 0s 596us/step\n",
      "The accuracy of the Neural Network was: 0.7607820586543991\n"
     ]
    }
   ],
   "source": [
    "# The accuracy of Neural Network is\n",
    "y_predNN = model_NN.predict(X_cv).flatten()\n",
    "\n",
    "predictions = []\n",
    "for prob in list(y_predNN):\n",
    "    if prob >= 0.5:\n",
    "        predictions.append(True)\n",
    "    else:\n",
    "        predictions.append(False)\n",
    "        \n",
    "y_predNN = pd.Series(predictions)\n",
    "\n",
    "accuracy_NN = accuracy_score(y_cv, y_predNN)\n",
    "\n",
    "print(f\"The accuracy of the Neural Network was: {accuracy_NN}\")"
   ]
  },
  {
   "cell_type": "markdown",
   "metadata": {},
   "source": [
    "<div id=\"cm2\"></div>\n",
    "\n",
    "#### 7.3.8. Confusion matrix (NN)"
   ]
  },
  {
   "cell_type": "code",
   "execution_count": 77,
   "metadata": {},
   "outputs": [
    {
     "data": {
      "image/png": "[encoded data removed]",
      "text/plain": [
       "<Figure size 720x504 with 2 Axes>"
      ]
     },
     "metadata": {
      "needs_background": "light"
     },
     "output_type": "display_data"
    }
   ],
   "source": [
    "# Create the confusion matrix to Neural Network\n",
    "cm = confusion_matrix(y_cv, y_predNN)\n",
    "\n",
    "# Define the class labels\n",
    "class_labels = ['True', 'False']\n",
    "\n",
    "# Create a heatmap to visualize the confusion matrix\n",
    "plt.figure(figsize=(10, 7))\n",
    "sns.heatmap(cm, annot=True, fmt='d', cmap='Blues', xticklabels=class_labels, yticklabels=class_labels)\n",
    "plt.xlabel('Predicted Labels')\n",
    "plt.ylabel('True Labels')\n",
    "plt.title('Confusion Matrix')\n",
    "plt.show()"
   ]
  },
  {
   "cell_type": "markdown",
   "metadata": {},
   "source": [
    "That's good. As you can see our model doesn't have a strong preference for False Positives nor False Negatives but in our case it doesn't really matter."
   ]
  },
  {
   "cell_type": "markdown",
   "metadata": {},
   "source": [
    "<div id=\"prf2\"></div>\n",
    "\n",
    "#### 7.3.9. Precision, recall and F1 score. (NN)\n"
   ]
  },
  {
   "cell_type": "code",
   "execution_count": 54,
   "metadata": {},
   "outputs": [
    {
     "name": "stdout",
     "output_type": "stream",
     "text": [
      "Precision: 0.8960784313725491\n",
      "Recall: 0.5283236994219653\n",
      "F1 score: 0.6647272727272727\n"
     ]
    }
   ],
   "source": [
    "precision = precision_score(y_cv, y_predNN)\n",
    "recall = recall_score(y_cv, y_predNN)\n",
    "f1 = f1_score(y_cv, y_predNN)\n",
    "\n",
    "print(f\"Precision: {precision}\")\n",
    "print(f\"Recall: {recall}\")\n",
    "print(f\"F1 score: {f1}\")"
   ]
  },
  {
   "cell_type": "markdown",
   "metadata": {},
   "source": [
    "That's good too. Although the accuracy is lower, our network is predicting classes well."
   ]
  },
  {
   "cell_type": "markdown",
   "metadata": {},
   "source": [
    "<div id=\"eva-models\"></div>\n",
    "\n",
    "### 8. Others Evaluation Models"
   ]
  },
  {
   "cell_type": "code",
   "execution_count": 55,
   "metadata": {},
   "outputs": [],
   "source": [
    "acc_value = [accuracy_cb]\n",
    "precision_value = [precision_cb]\n",
    "recall_value = [recall_cb]\n",
    "f1_score_value = [f1_cb]\n",
    "roc_auc_value = [roc_auc_cb]"
   ]
  },
  {
   "cell_type": "code",
   "execution_count": 56,
   "metadata": {},
   "outputs": [],
   "source": [
    "def model_evaluation(model):\n",
    "    model.fit(X_train, y_train)\n",
    "    y_cv_pred = model.predict(X_cv)\n",
    "\n",
    "    #Metrics Calculation.\n",
    "    cm = confusion_matrix(y_cv, y_cv_pred)\n",
    "    accuracy = accuracy_score(y_cv, y_cv_pred)\n",
    "    precision = precision_score(y_cv, y_cv_pred)\n",
    "    recall = recall_score(y_cv, y_cv_pred)\n",
    "    f1 = f1_score(y_cv, y_cv_pred)\n",
    "    roc_auc = roc_auc_score(y_cv, y_cv_pred)\n",
    "\n",
    "   \n",
    "    acc_value.append(accuracy)\n",
    "    precision_value.append(precision)\n",
    "    recall_value.append(recall)\n",
    "    f1_score_value.append(f1)\n",
    "    roc_auc_value.append(roc_auc) \n",
    "    \n",
    "    print(f\"Confusion Matrix of the {model} model is => \")\n",
    "    print(cm)\n",
    "    print(\"---------------------------\")\n",
    "    print(f\"Acuraccy of the {model} model is => \", accuracy)\n",
    "    print(f\"Precision of the {model} model is => \", precision)\n",
    "    print(f\"Recall of the {model} model is => \", recall)\n",
    "    print(f\"F1 Score of the {model} model is => \", f1)\n",
    "    print(f\"ROC_AUC of the {model} model is => \", roc_auc)"
   ]
  },
  {
   "cell_type": "markdown",
   "metadata": {},
   "source": [
    "<div id=\"lr\"></div>\n",
    "\n",
    "#### 8.1. Logistic Regression model"
   ]
  },
  {
   "cell_type": "code",
   "execution_count": 57,
   "metadata": {},
   "outputs": [
    {
     "name": "stdout",
     "output_type": "stream",
     "text": [
      "Confusion Matrix of the LogisticRegression() model is => \n",
      "[[666 208]\n",
      " [210 655]]\n",
      "---------------------------\n",
      "Acuraccy of the LogisticRegression() model is =>  0.7596319723979299\n",
      "Precision of the LogisticRegression() model is =>  0.7589803012746235\n",
      "Recall of the LogisticRegression() model is =>  0.7572254335260116\n",
      "F1 Score of the LogisticRegression() model is =>  0.758101851851852\n",
      "ROC_AUC of the LogisticRegression() model is =>  0.7596195817515641\n"
     ]
    },
    {
     "name": "stderr",
     "output_type": "stream",
     "text": [
      "C:\\Users\\samue\\anaconda3\\lib\\site-packages\\sklearn\\linear_model\\_logistic.py:814: ConvergenceWarning: lbfgs failed to converge (status=1):\n",
      "STOP: TOTAL NO. of ITERATIONS REACHED LIMIT.\n",
      "\n",
      "Increase the number of iterations (max_iter) or scale the data as shown in:\n",
      "    https://scikit-learn.org/stable/modules/preprocessing.html\n",
      "Please also refer to the documentation for alternative solver options:\n",
      "    https://scikit-learn.org/stable/modules/linear_model.html#logistic-regression\n",
      "  n_iter_i = _check_optimize_result(\n"
     ]
    }
   ],
   "source": [
    "model_evaluation(LogisticRegression())"
   ]
  },
  {
   "cell_type": "markdown",
   "metadata": {},
   "source": [
    "<div id=\"dt\"></div>\n",
    "\n",
    "#### 8.2. Decision Tree model"
   ]
  },
  {
   "cell_type": "code",
   "execution_count": 58,
   "metadata": {
    "scrolled": true
   },
   "outputs": [
    {
     "name": "stdout",
     "output_type": "stream",
     "text": [
      "Confusion Matrix of the DecisionTreeClassifier() model is => \n",
      "[[639 235]\n",
      " [204 661]]\n",
      "---------------------------\n",
      "Acuraccy of the DecisionTreeClassifier() model is =>  0.7475560667050029\n",
      "Precision of the DecisionTreeClassifier() model is =>  0.7377232142857143\n",
      "Recall of the DecisionTreeClassifier() model is =>  0.7641618497109827\n",
      "F1 Score of the DecisionTreeClassifier() model is =>  0.750709823963657\n",
      "ROC_AUC of the DecisionTreeClassifier() model is =>  0.7476415655877567\n"
     ]
    }
   ],
   "source": [
    "model_evaluation(DecisionTreeClassifier())"
   ]
  },
  {
   "cell_type": "markdown",
   "metadata": {},
   "source": [
    "<div id=\"rf\"></div>\n",
    "\n",
    "#### 8.3. Random Forest model"
   ]
  },
  {
   "cell_type": "code",
   "execution_count": 59,
   "metadata": {
    "scrolled": true
   },
   "outputs": [
    {
     "name": "stdout",
     "output_type": "stream",
     "text": [
      "Confusion Matrix of the RandomForestClassifier() model is => \n",
      "[[741 133]\n",
      " [214 651]]\n",
      "---------------------------\n",
      "Acuraccy of the RandomForestClassifier() model is =>  0.8004600345025877\n",
      "Precision of the RandomForestClassifier() model is =>  0.8303571428571429\n",
      "Recall of the RandomForestClassifier() model is =>  0.7526011560693642\n",
      "F1 Score of the RandomForestClassifier() model is =>  0.7895694360218314\n",
      "ROC_AUC of the RandomForestClassifier() model is =>  0.800213621512943\n"
     ]
    }
   ],
   "source": [
    "model_evaluation(RandomForestClassifier())"
   ]
  },
  {
   "cell_type": "markdown",
   "metadata": {},
   "source": [
    "<div id=\"xgb\"></div>\n",
    "\n",
    "#### 8.4. XGBoost model"
   ]
  },
  {
   "cell_type": "code",
   "execution_count": 60,
   "metadata": {},
   "outputs": [
    {
     "name": "stdout",
     "output_type": "stream",
     "text": [
      "Confusion Matrix of the XGBClassifier(base_score=None, booster=None, callbacks=None,\n",
      "              colsample_bylevel=None, colsample_bynode=None,\n",
      "              colsample_bytree=None, early_stopping_rounds=None,\n",
      "              enable_categorical=False, eval_metric=None, feature_types=None,\n",
      "              gamma=None, gpu_id=None, grow_policy=None, importance_type=None,\n",
      "              interaction_constraints=None, learning_rate=None, max_bin=None,\n",
      "              max_cat_threshold=None, max_cat_to_onehot=None,\n",
      "              max_delta_step=None, max_depth=None, max_leaves=None,\n",
      "              min_child_weight=None, missing=nan, monotone_constraints=None,\n",
      "              n_estimators=100, n_jobs=None, num_parallel_tree=None,\n",
      "              predictor=None, random_state=None, ...) model is => \n",
      "[[714 160]\n",
      " [188 677]]\n",
      "---------------------------\n",
      "Acuraccy of the XGBClassifier(base_score=None, booster=None, callbacks=None,\n",
      "              colsample_bylevel=None, colsample_bynode=None,\n",
      "              colsample_bytree=None, early_stopping_rounds=None,\n",
      "              enable_categorical=False, eval_metric=None, feature_types=None,\n",
      "              gamma=None, gpu_id=None, grow_policy=None, importance_type=None,\n",
      "              interaction_constraints=None, learning_rate=None, max_bin=None,\n",
      "              max_cat_threshold=None, max_cat_to_onehot=None,\n",
      "              max_delta_step=None, max_depth=None, max_leaves=None,\n",
      "              min_child_weight=None, missing=nan, monotone_constraints=None,\n",
      "              n_estimators=100, n_jobs=None, num_parallel_tree=None,\n",
      "              predictor=None, random_state=None, ...) model is =>  0.7998849913743531\n",
      "Precision of the XGBClassifier(base_score=None, booster=None, callbacks=None,\n",
      "              colsample_bylevel=None, colsample_bynode=None,\n",
      "              colsample_bytree=None, early_stopping_rounds=None,\n",
      "              enable_categorical=False, eval_metric=None, feature_types=None,\n",
      "              gamma=None, gpu_id=None, grow_policy=None, importance_type=None,\n",
      "              interaction_constraints=None, learning_rate=None, max_bin=None,\n",
      "              max_cat_threshold=None, max_cat_to_onehot=None,\n",
      "              max_delta_step=None, max_depth=None, max_leaves=None,\n",
      "              min_child_weight=None, missing=nan, monotone_constraints=None,\n",
      "              n_estimators=100, n_jobs=None, num_parallel_tree=None,\n",
      "              predictor=None, random_state=None, ...) model is =>  0.8088410991636799\n",
      "Recall of the XGBClassifier(base_score=None, booster=None, callbacks=None,\n",
      "              colsample_bylevel=None, colsample_bynode=None,\n",
      "              colsample_bytree=None, early_stopping_rounds=None,\n",
      "              enable_categorical=False, eval_metric=None, feature_types=None,\n",
      "              gamma=None, gpu_id=None, grow_policy=None, importance_type=None,\n",
      "              interaction_constraints=None, learning_rate=None, max_bin=None,\n",
      "              max_cat_threshold=None, max_cat_to_onehot=None,\n",
      "              max_delta_step=None, max_depth=None, max_leaves=None,\n",
      "              min_child_weight=None, missing=nan, monotone_constraints=None,\n",
      "              n_estimators=100, n_jobs=None, num_parallel_tree=None,\n",
      "              predictor=None, random_state=None, ...) model is =>  0.7826589595375723\n",
      "F1 Score of the XGBClassifier(base_score=None, booster=None, callbacks=None,\n",
      "              colsample_bylevel=None, colsample_bynode=None,\n",
      "              colsample_bytree=None, early_stopping_rounds=None,\n",
      "              enable_categorical=False, eval_metric=None, feature_types=None,\n",
      "              gamma=None, gpu_id=None, grow_policy=None, importance_type=None,\n",
      "              interaction_constraints=None, learning_rate=None, max_bin=None,\n",
      "              max_cat_threshold=None, max_cat_to_onehot=None,\n",
      "              max_delta_step=None, max_depth=None, max_leaves=None,\n",
      "              min_child_weight=None, missing=nan, monotone_constraints=None,\n",
      "              n_estimators=100, n_jobs=None, num_parallel_tree=None,\n",
      "              predictor=None, random_state=None, ...) model is =>  0.7955346650998825\n",
      "ROC_AUC of the XGBClassifier(base_score=None, booster=None, callbacks=None,\n",
      "              colsample_bylevel=None, colsample_bynode=None,\n",
      "              colsample_bytree=None, early_stopping_rounds=None,\n",
      "              enable_categorical=False, eval_metric=None, feature_types=None,\n",
      "              gamma=None, gpu_id=None, grow_policy=None, importance_type=None,\n",
      "              interaction_constraints=None, learning_rate=None, max_bin=None,\n",
      "              max_cat_threshold=None, max_cat_to_onehot=None,\n",
      "              max_delta_step=None, max_depth=None, max_leaves=None,\n",
      "              min_child_weight=None, missing=nan, monotone_constraints=None,\n",
      "              n_estimators=100, n_jobs=None, num_parallel_tree=None,\n",
      "              predictor=None, random_state=None, ...) model is =>  0.7997962989907541\n"
     ]
    }
   ],
   "source": [
    "model_evaluation(XGBClassifier())"
   ]
  },
  {
   "cell_type": "markdown",
   "metadata": {},
   "source": [
    "<div id=\"lgb\"></div>\n",
    "\n",
    "#### 8.5. LGBM model"
   ]
  },
  {
   "cell_type": "code",
   "execution_count": 61,
   "metadata": {},
   "outputs": [
    {
     "name": "stdout",
     "output_type": "stream",
     "text": [
      "[LightGBM] [Warning] Found whitespace in feature_names, replace with underlines\n",
      "[LightGBM] [Info] Number of positive: 3513, number of negative: 3441\n",
      "[LightGBM] [Warning] Auto-choosing col-wise multi-threading, the overhead of testing was 0.000354 seconds.\n",
      "You can set `force_col_wise=true` to remove the overhead.\n",
      "[LightGBM] [Info] Total Bins 2413\n",
      "[LightGBM] [Info] Number of data points in the train set: 6954, number of used features: 29\n",
      "[LightGBM] [Info] [binary:BoostFromScore]: pavg=0.505177 -> initscore=0.020708\n",
      "[LightGBM] [Info] Start training from score 0.020708\n",
      "Confusion Matrix of the LGBMClassifier() model is => \n",
      "[[703 171]\n",
      " [161 704]]\n",
      "---------------------------\n",
      "Acuraccy of the LGBMClassifier() model is =>  0.8090856814261069\n",
      "Precision of the LGBMClassifier() model is =>  0.8045714285714286\n",
      "Recall of the LGBMClassifier() model is =>  0.8138728323699422\n",
      "F1 Score of the LGBMClassifier() model is =>  0.8091954022988506\n",
      "ROC_AUC of the LGBMClassifier() model is =>  0.8091103292284494\n"
     ]
    }
   ],
   "source": [
    "model_evaluation(LGBMClassifier())"
   ]
  },
  {
   "cell_type": "markdown",
   "metadata": {},
   "source": [
    "<div id=\"view-metrics\"></div>\n",
    "\n",
    "#### 8.6. Viewing the metrics"
   ]
  },
  {
   "cell_type": "code",
   "execution_count": 62,
   "metadata": {},
   "outputs": [],
   "source": [
    "algorithms = [\"CatBoostClassifier\", \"LogisticRegression\", \"DecisionTreeClassifier\",\"RandomForestClassifier\",\"XGBClassifier\",\n",
    "              \"LGBMClassifier\"]"
   ]
  },
  {
   "cell_type": "code",
   "execution_count": 63,
   "metadata": {},
   "outputs": [
    {
     "data": {
      "text/html": [
       "<div>\n",
       "<style scoped>\n",
       "    .dataframe tbody tr th:only-of-type {\n",
       "        vertical-align: middle;\n",
       "    }\n",
       "\n",
       "    .dataframe tbody tr th {\n",
       "        vertical-align: top;\n",
       "    }\n",
       "\n",
       "    .dataframe thead th {\n",
       "        text-align: right;\n",
       "    }\n",
       "</style>\n",
       "<table border=\"1\" class=\"dataframe\">\n",
       "  <thead>\n",
       "    <tr style=\"text-align: right;\">\n",
       "      <th></th>\n",
       "      <th>Model</th>\n",
       "      <th>Acuraccy</th>\n",
       "      <th>Precision</th>\n",
       "      <th>Recall</th>\n",
       "      <th>F1 Score</th>\n",
       "      <th>ROC AUC</th>\n",
       "    </tr>\n",
       "  </thead>\n",
       "  <tbody>\n",
       "    <tr>\n",
       "      <th>0</th>\n",
       "      <td>CatBoostClassifier</td>\n",
       "      <td>0.805635</td>\n",
       "      <td>0.833123</td>\n",
       "      <td>0.761850</td>\n",
       "      <td>0.795894</td>\n",
       "      <td>0.805410</td>\n",
       "    </tr>\n",
       "    <tr>\n",
       "      <th>1</th>\n",
       "      <td>LogisticRegression</td>\n",
       "      <td>0.759632</td>\n",
       "      <td>0.758980</td>\n",
       "      <td>0.757225</td>\n",
       "      <td>0.758102</td>\n",
       "      <td>0.759620</td>\n",
       "    </tr>\n",
       "    <tr>\n",
       "      <th>2</th>\n",
       "      <td>DecisionTreeClassifier</td>\n",
       "      <td>0.747556</td>\n",
       "      <td>0.737723</td>\n",
       "      <td>0.764162</td>\n",
       "      <td>0.750710</td>\n",
       "      <td>0.747642</td>\n",
       "    </tr>\n",
       "    <tr>\n",
       "      <th>3</th>\n",
       "      <td>RandomForestClassifier</td>\n",
       "      <td>0.800460</td>\n",
       "      <td>0.830357</td>\n",
       "      <td>0.752601</td>\n",
       "      <td>0.789569</td>\n",
       "      <td>0.800214</td>\n",
       "    </tr>\n",
       "    <tr>\n",
       "      <th>4</th>\n",
       "      <td>XGBClassifier</td>\n",
       "      <td>0.799885</td>\n",
       "      <td>0.808841</td>\n",
       "      <td>0.782659</td>\n",
       "      <td>0.795535</td>\n",
       "      <td>0.799796</td>\n",
       "    </tr>\n",
       "    <tr>\n",
       "      <th>5</th>\n",
       "      <td>LGBMClassifier</td>\n",
       "      <td>0.809086</td>\n",
       "      <td>0.804571</td>\n",
       "      <td>0.813873</td>\n",
       "      <td>0.809195</td>\n",
       "      <td>0.809110</td>\n",
       "    </tr>\n",
       "  </tbody>\n",
       "</table>\n",
       "</div>"
      ],
      "text/plain": [
       "                    Model  Acuraccy  Precision    Recall  F1 Score   ROC AUC\n",
       "0      CatBoostClassifier  0.805635   0.833123  0.761850  0.795894  0.805410\n",
       "1      LogisticRegression  0.759632   0.758980  0.757225  0.758102  0.759620\n",
       "2  DecisionTreeClassifier  0.747556   0.737723  0.764162  0.750710  0.747642\n",
       "3  RandomForestClassifier  0.800460   0.830357  0.752601  0.789569  0.800214\n",
       "4           XGBClassifier  0.799885   0.808841  0.782659  0.795535  0.799796\n",
       "5          LGBMClassifier  0.809086   0.804571  0.813873  0.809195  0.809110"
      ]
     },
     "execution_count": 63,
     "metadata": {},
     "output_type": "execute_result"
    }
   ],
   "source": [
    "model_metrics = pd.DataFrame({\"Model\":algorithms,\"Acuraccy\":acc_value,\"Precision\":precision_value,\n",
    "                       \"Recall\":recall_value,\"F1 Score\":f1_score_value,\"ROC AUC\":roc_auc_value})\n",
    "\n",
    "model_metrics"
   ]
  },
  {
   "cell_type": "markdown",
   "metadata": {},
   "source": [
    "Note that, in fact, `LGBMClassifier` still obtained higher metrics than `CatBoostClassifier`. However, despite being larger, I will predict whether the passengers were transported or not yet with the `CatBoostClassifier`, since a **good deal of time and effort was spent treating and adjusting the model**, which, incidentally, yielded great learnings."
   ]
  },
  {
   "cell_type": "markdown",
   "metadata": {},
   "source": [
    "<div id=\"submission\"></div>\n",
    "\n",
    "### 9. Submission"
   ]
  },
  {
   "cell_type": "markdown",
   "metadata": {},
   "source": [
    "<div id=\"test-set\"></div>\n",
    "\n",
    "#### 9.1. Handling the test set\n",
    "\n",
    "Let's do the same what we do in the training set."
   ]
  },
  {
   "cell_type": "code",
   "execution_count": 64,
   "metadata": {
    "scrolled": true
   },
   "outputs": [
    {
     "name": "stderr",
     "output_type": "stream",
     "text": [
      "C:\\Users\\samue\\anaconda3\\lib\\site-packages\\sklearn\\utils\\deprecation.py:87: FutureWarning: Function get_feature_names is deprecated; get_feature_names is deprecated in 1.0 and will be removed in 1.2. Please use get_feature_names_out instead.\n",
      "  warnings.warn(msg, category=FutureWarning)\n"
     ]
    },
    {
     "data": {
      "text/html": [
       "<div>\n",
       "<style scoped>\n",
       "    .dataframe tbody tr th:only-of-type {\n",
       "        vertical-align: middle;\n",
       "    }\n",
       "\n",
       "    .dataframe tbody tr th {\n",
       "        vertical-align: top;\n",
       "    }\n",
       "\n",
       "    .dataframe thead th {\n",
       "        text-align: right;\n",
       "    }\n",
       "</style>\n",
       "<table border=\"1\" class=\"dataframe\">\n",
       "  <thead>\n",
       "    <tr style=\"text-align: right;\">\n",
       "      <th></th>\n",
       "      <th>Age</th>\n",
       "      <th>RoomService</th>\n",
       "      <th>FoodCourt</th>\n",
       "      <th>ShoppingMall</th>\n",
       "      <th>Spa</th>\n",
       "      <th>VRDeck</th>\n",
       "      <th>GroupNumber</th>\n",
       "      <th>TotalSpend</th>\n",
       "      <th>CabNum</th>\n",
       "      <th>HomePlanet_Earth</th>\n",
       "      <th>...</th>\n",
       "      <th>CabDeck_B</th>\n",
       "      <th>CabDeck_C</th>\n",
       "      <th>CabDeck_D</th>\n",
       "      <th>CabDeck_E</th>\n",
       "      <th>CabDeck_F</th>\n",
       "      <th>CabDeck_G</th>\n",
       "      <th>CabDeck_T</th>\n",
       "      <th>CabSide_P</th>\n",
       "      <th>CabSide_S</th>\n",
       "      <th>Surname</th>\n",
       "    </tr>\n",
       "  </thead>\n",
       "  <tbody>\n",
       "    <tr>\n",
       "      <th>0</th>\n",
       "      <td>0.068964</td>\n",
       "      <td>-0.738918</td>\n",
       "      <td>-0.747861</td>\n",
       "      <td>-0.728789</td>\n",
       "      <td>-0.773957</td>\n",
       "      <td>-0.723674</td>\n",
       "      <td>-5.178731</td>\n",
       "      <td>-1.154466</td>\n",
       "      <td>-2.526578</td>\n",
       "      <td>1.0</td>\n",
       "      <td>...</td>\n",
       "      <td>0.0</td>\n",
       "      <td>0.0</td>\n",
       "      <td>0.0</td>\n",
       "      <td>0.0</td>\n",
       "      <td>0.0</td>\n",
       "      <td>1.0</td>\n",
       "      <td>0.0</td>\n",
       "      <td>0.0</td>\n",
       "      <td>1.0</td>\n",
       "      <td>275.0</td>\n",
       "    </tr>\n",
       "    <tr>\n",
       "      <th>1</th>\n",
       "      <td>-0.584013</td>\n",
       "      <td>-0.738918</td>\n",
       "      <td>1.136621</td>\n",
       "      <td>-0.728789</td>\n",
       "      <td>1.589170</td>\n",
       "      <td>-0.723674</td>\n",
       "      <td>-3.306898</td>\n",
       "      <td>1.007298</td>\n",
       "      <td>-2.362605</td>\n",
       "      <td>1.0</td>\n",
       "      <td>...</td>\n",
       "      <td>0.0</td>\n",
       "      <td>0.0</td>\n",
       "      <td>0.0</td>\n",
       "      <td>0.0</td>\n",
       "      <td>1.0</td>\n",
       "      <td>0.0</td>\n",
       "      <td>0.0</td>\n",
       "      <td>0.0</td>\n",
       "      <td>1.0</td>\n",
       "      <td>1190.0</td>\n",
       "    </tr>\n",
       "    <tr>\n",
       "      <th>2</th>\n",
       "      <td>0.320199</td>\n",
       "      <td>-0.738918</td>\n",
       "      <td>-0.747861</td>\n",
       "      <td>-0.728789</td>\n",
       "      <td>-0.773957</td>\n",
       "      <td>-0.723674</td>\n",
       "      <td>-3.255859</td>\n",
       "      <td>-1.154466</td>\n",
       "      <td>-5.103913</td>\n",
       "      <td>0.0</td>\n",
       "      <td>...</td>\n",
       "      <td>0.0</td>\n",
       "      <td>1.0</td>\n",
       "      <td>0.0</td>\n",
       "      <td>0.0</td>\n",
       "      <td>0.0</td>\n",
       "      <td>0.0</td>\n",
       "      <td>0.0</td>\n",
       "      <td>0.0</td>\n",
       "      <td>1.0</td>\n",
       "      <td>1604.0</td>\n",
       "    </tr>\n",
       "    <tr>\n",
       "      <th>3</th>\n",
       "      <td>0.660076</td>\n",
       "      <td>-0.738918</td>\n",
       "      <td>1.707984</td>\n",
       "      <td>-0.728789</td>\n",
       "      <td>1.215547</td>\n",
       "      <td>1.412250</td>\n",
       "      <td>-3.173885</td>\n",
       "      <td>1.219523</td>\n",
       "      <td>-2.823580</td>\n",
       "      <td>0.0</td>\n",
       "      <td>...</td>\n",
       "      <td>0.0</td>\n",
       "      <td>1.0</td>\n",
       "      <td>0.0</td>\n",
       "      <td>0.0</td>\n",
       "      <td>0.0</td>\n",
       "      <td>0.0</td>\n",
       "      <td>0.0</td>\n",
       "      <td>0.0</td>\n",
       "      <td>1.0</td>\n",
       "      <td>262.0</td>\n",
       "    </tr>\n",
       "    <tr>\n",
       "      <th>4</th>\n",
       "      <td>-0.483704</td>\n",
       "      <td>1.159723</td>\n",
       "      <td>-0.747861</td>\n",
       "      <td>1.436533</td>\n",
       "      <td>-0.773957</td>\n",
       "      <td>-0.723674</td>\n",
       "      <td>-3.109022</td>\n",
       "      <td>0.580249</td>\n",
       "      <td>-2.246144</td>\n",
       "      <td>1.0</td>\n",
       "      <td>...</td>\n",
       "      <td>0.0</td>\n",
       "      <td>0.0</td>\n",
       "      <td>0.0</td>\n",
       "      <td>0.0</td>\n",
       "      <td>1.0</td>\n",
       "      <td>0.0</td>\n",
       "      <td>0.0</td>\n",
       "      <td>0.0</td>\n",
       "      <td>1.0</td>\n",
       "      <td>736.0</td>\n",
       "    </tr>\n",
       "  </tbody>\n",
       "</table>\n",
       "<p>5 rows × 30 columns</p>\n",
       "</div>"
      ],
      "text/plain": [
       "        Age  RoomService  FoodCourt  ShoppingMall       Spa    VRDeck  \\\n",
       "0  0.068964    -0.738918  -0.747861     -0.728789 -0.773957 -0.723674   \n",
       "1 -0.584013    -0.738918   1.136621     -0.728789  1.589170 -0.723674   \n",
       "2  0.320199    -0.738918  -0.747861     -0.728789 -0.773957 -0.723674   \n",
       "3  0.660076    -0.738918   1.707984     -0.728789  1.215547  1.412250   \n",
       "4 -0.483704     1.159723  -0.747861      1.436533 -0.773957 -0.723674   \n",
       "\n",
       "   GroupNumber  TotalSpend    CabNum  HomePlanet_Earth  ...  CabDeck_B  \\\n",
       "0    -5.178731   -1.154466 -2.526578               1.0  ...        0.0   \n",
       "1    -3.306898    1.007298 -2.362605               1.0  ...        0.0   \n",
       "2    -3.255859   -1.154466 -5.103913               0.0  ...        0.0   \n",
       "3    -3.173885    1.219523 -2.823580               0.0  ...        0.0   \n",
       "4    -3.109022    0.580249 -2.246144               1.0  ...        0.0   \n",
       "\n",
       "   CabDeck_C  CabDeck_D  CabDeck_E  CabDeck_F  CabDeck_G  CabDeck_T  \\\n",
       "0        0.0        0.0        0.0        0.0        1.0        0.0   \n",
       "1        0.0        0.0        0.0        1.0        0.0        0.0   \n",
       "2        1.0        0.0        0.0        0.0        0.0        0.0   \n",
       "3        1.0        0.0        0.0        0.0        0.0        0.0   \n",
       "4        0.0        0.0        0.0        1.0        0.0        0.0   \n",
       "\n",
       "   CabSide_P  CabSide_S  Surname  \n",
       "0        0.0        1.0    275.0  \n",
       "1        0.0        1.0   1190.0  \n",
       "2        0.0        1.0   1604.0  \n",
       "3        0.0        1.0    262.0  \n",
       "4        0.0        1.0    736.0  \n",
       "\n",
       "[5 rows x 30 columns]"
      ]
     },
     "execution_count": 64,
     "metadata": {},
     "output_type": "execute_result"
    }
   ],
   "source": [
    "# Surname\n",
    "df_test['Surname'] = df_test.loc[df_test['Name'].notnull(), 'Name'].apply(lambda x: x.split()[1])\n",
    "\n",
    "# Group Number\n",
    "df_test['GroupNumber'] = df_test.PassengerId.str.split('_').str[0].astype(int)\n",
    "\n",
    "# Fill missing values related with group number\n",
    "for col in room_related_columns:\n",
    "    room_to_col = df_test[['GroupNumber', col]].dropna().groupby('GroupNumber')[col].apply(lambda x: x.mode()[0])\n",
    "    df_test[col] = df_test.apply(lambda row: room_to_col[row['GroupNumber']] if pd.isna(row[col]) and row['GroupNumber'] in room_to_col.index else row[col], axis=1)\n",
    "    df_test[col] = df_test.groupby('GroupNumber')[col].ffill().bfill()\n",
    "    \n",
    "# Total spend\n",
    "df_test['TotalSpend'] = df_test[num_columns].sum(axis=1)\n",
    "df_test.loc[df_test['TotalSpend'] == 0, num_columns] = 0\n",
    "\n",
    "# Split Cabin\n",
    "df_test[['CabDeck', 'CabNum', 'CabSide']] = df_test['Cabin'].str.split('/', expand=True)\n",
    "df_test['CabNum'] = pd.to_numeric(df_test['CabNum'])\n",
    "\n",
    "# Cryosleep\n",
    "df_test.loc[df_test['CryoSleep']==True, ['TotalSpend'] + num_columns] = 0\n",
    "df_test.loc[(df_test['CryoSleep'].isnull()) & (df_test['TotalSpend'] > 0), 'CryoSleep'] = False\n",
    "df_test.loc[(df_test['CryoSleep'].isnull()) & (df_test['TotalSpend'] == 0), 'CryoSleep'] = True\n",
    "\n",
    "# Drop columns\n",
    "df_test.drop(columns=['Cabin', 'Name'], inplace=True)\n",
    "\n",
    "# Treatment null values and scaling in numerical features\n",
    "numerical_features = []\n",
    "for column in df_test.columns:\n",
    "    if df_test[column].dtypes == 'float64' or df_test[column].dtypes == 'int32' or df_test[column].dtypes == 'int64':\n",
    "        numerical_features.append(column)\n",
    "\n",
    "df_num = df_test.loc[:, numerical_features]\n",
    "imputer = SimpleImputer(strategy='mean')\n",
    "df_impute = imputer.fit_transform(df_num)\n",
    "transformer = QuantileTransformer(output_distribution='normal', random_state=2137)\n",
    "df_transf = transformer.fit_transform(df_impute)\n",
    "scaler = StandardScaler()\n",
    "df_scaler = scaler.fit_transform(df_transf)\n",
    "df_num = pd.DataFrame(df_scaler, columns=numerical_features)\n",
    "\n",
    "# Treatment null values in categorical features and encoders\n",
    "categorical_features = ['HomePlanet', 'CryoSleep', 'Destination', 'VIP', 'CabDeck', 'CabSide']\n",
    "\n",
    "df_cat = df_test.loc[:, categorical_features]\n",
    "imputer_cat = SimpleImputer(strategy='most_frequent')\n",
    "df_cat_imput = imputer_cat.fit_transform(df_cat)\n",
    "df_imput = pd.DataFrame(df_cat_imput, columns=categorical_features)\n",
    "encoder = OneHotEncoder()\n",
    "df_cat_encoded = encoder.fit_transform(df_imput).toarray()\n",
    "df_cat = pd.DataFrame(df_cat_encoded, columns=encoder.get_feature_names(categorical_features))\n",
    "\n",
    "# Column Surname\n",
    "surname_col = df_test['Surname']\n",
    "surn_imputer = SimpleImputer(strategy='most_frequent')\n",
    "surname_coluna_imputado = surn_imputer.fit_transform(surname_col.values.reshape(-1, 1))\n",
    "encoder = OrdinalEncoder(handle_unknown='use_encoded_value', unknown_value=-1)\n",
    "surname_col_encoded = encoder.fit_transform(surname_coluna_imputado)\n",
    "surname_series = pd.Series(surname_col_encoded.flatten())\n",
    "\n",
    "# concatenating the dfs\n",
    "X_test = pd.concat([df_num, df_cat], axis=1)\n",
    "X_test['Surname'] = surname_series\n",
    "X_test.head()"
   ]
  },
  {
   "cell_type": "markdown",
   "metadata": {},
   "source": [
    "<div id=\"predict\"></div>\n",
    "\n",
    "#### 9.2. Predictions with the `CatBoostClassifier`"
   ]
  },
  {
   "cell_type": "code",
   "execution_count": 65,
   "metadata": {},
   "outputs": [],
   "source": [
    "# previsions of probabilities of classe\n",
    "y_prob_pos = model_tun.predict_proba(X_test)[:, 1]\n",
    "\n",
    "# Adjust the decision threshold to a desired value\n",
    "limiar_desejado = 0.578917111657333\n",
    "y_pred = (y_prob_pos >= limiar_desejado).astype(int)\n",
    "\n",
    "# Now y_pred_adjusted contains the adjusted predictions with the new decision threshold"
   ]
  },
  {
   "cell_type": "code",
   "execution_count": 66,
   "metadata": {},
   "outputs": [
    {
     "data": {
      "text/plain": [
       "array([1, 0, 1, ..., 1, 1, 1])"
      ]
     },
     "execution_count": 66,
     "metadata": {},
     "output_type": "execute_result"
    }
   ],
   "source": [
    "y_pred"
   ]
  },
  {
   "cell_type": "code",
   "execution_count": 67,
   "metadata": {},
   "outputs": [],
   "source": [
    "predictions = []\n",
    "for y in list(y_pred):\n",
    "    if y == 1:\n",
    "        predictions.append(True)\n",
    "    else:\n",
    "        predictions.append(False)"
   ]
  },
  {
   "cell_type": "code",
   "execution_count": 68,
   "metadata": {},
   "outputs": [],
   "source": [
    "predictions = pd.Series(predictions)"
   ]
  },
  {
   "cell_type": "code",
   "execution_count": 69,
   "metadata": {},
   "outputs": [
    {
     "data": {
      "text/html": [
       "<div>\n",
       "<style scoped>\n",
       "    .dataframe tbody tr th:only-of-type {\n",
       "        vertical-align: middle;\n",
       "    }\n",
       "\n",
       "    .dataframe tbody tr th {\n",
       "        vertical-align: top;\n",
       "    }\n",
       "\n",
       "    .dataframe thead th {\n",
       "        text-align: right;\n",
       "    }\n",
       "</style>\n",
       "<table border=\"1\" class=\"dataframe\">\n",
       "  <thead>\n",
       "    <tr style=\"text-align: right;\">\n",
       "      <th></th>\n",
       "      <th>PassengerId</th>\n",
       "      <th>Transported</th>\n",
       "    </tr>\n",
       "  </thead>\n",
       "  <tbody>\n",
       "    <tr>\n",
       "      <th>0</th>\n",
       "      <td>0013_01</td>\n",
       "      <td>False</td>\n",
       "    </tr>\n",
       "    <tr>\n",
       "      <th>1</th>\n",
       "      <td>0018_01</td>\n",
       "      <td>False</td>\n",
       "    </tr>\n",
       "    <tr>\n",
       "      <th>2</th>\n",
       "      <td>0019_01</td>\n",
       "      <td>False</td>\n",
       "    </tr>\n",
       "    <tr>\n",
       "      <th>3</th>\n",
       "      <td>0021_01</td>\n",
       "      <td>False</td>\n",
       "    </tr>\n",
       "    <tr>\n",
       "      <th>4</th>\n",
       "      <td>0023_01</td>\n",
       "      <td>False</td>\n",
       "    </tr>\n",
       "  </tbody>\n",
       "</table>\n",
       "</div>"
      ],
      "text/plain": [
       "  PassengerId  Transported\n",
       "0     0013_01        False\n",
       "1     0018_01        False\n",
       "2     0019_01        False\n",
       "3     0021_01        False\n",
       "4     0023_01        False"
      ]
     },
     "execution_count": 69,
     "metadata": {},
     "output_type": "execute_result"
    }
   ],
   "source": [
    "submission = pd.read_csv('sample_submission.csv')\n",
    "submission.head()"
   ]
  },
  {
   "cell_type": "code",
   "execution_count": 70,
   "metadata": {},
   "outputs": [
    {
     "data": {
      "text/html": [
       "<div>\n",
       "<style scoped>\n",
       "    .dataframe tbody tr th:only-of-type {\n",
       "        vertical-align: middle;\n",
       "    }\n",
       "\n",
       "    .dataframe tbody tr th {\n",
       "        vertical-align: top;\n",
       "    }\n",
       "\n",
       "    .dataframe thead th {\n",
       "        text-align: right;\n",
       "    }\n",
       "</style>\n",
       "<table border=\"1\" class=\"dataframe\">\n",
       "  <thead>\n",
       "    <tr style=\"text-align: right;\">\n",
       "      <th></th>\n",
       "      <th>PassengerId</th>\n",
       "      <th>Transported</th>\n",
       "    </tr>\n",
       "  </thead>\n",
       "  <tbody>\n",
       "    <tr>\n",
       "      <th>0</th>\n",
       "      <td>0013_01</td>\n",
       "      <td>True</td>\n",
       "    </tr>\n",
       "    <tr>\n",
       "      <th>1</th>\n",
       "      <td>0018_01</td>\n",
       "      <td>False</td>\n",
       "    </tr>\n",
       "    <tr>\n",
       "      <th>2</th>\n",
       "      <td>0019_01</td>\n",
       "      <td>True</td>\n",
       "    </tr>\n",
       "    <tr>\n",
       "      <th>3</th>\n",
       "      <td>0021_01</td>\n",
       "      <td>True</td>\n",
       "    </tr>\n",
       "    <tr>\n",
       "      <th>4</th>\n",
       "      <td>0023_01</td>\n",
       "      <td>False</td>\n",
       "    </tr>\n",
       "  </tbody>\n",
       "</table>\n",
       "</div>"
      ],
      "text/plain": [
       "  PassengerId  Transported\n",
       "0     0013_01         True\n",
       "1     0018_01        False\n",
       "2     0019_01         True\n",
       "3     0021_01         True\n",
       "4     0023_01        False"
      ]
     },
     "execution_count": 70,
     "metadata": {},
     "output_type": "execute_result"
    }
   ],
   "source": [
    "submission['Transported'] = predictions\n",
    "submission.head()"
   ]
  },
  {
   "cell_type": "code",
   "execution_count": 71,
   "metadata": {},
   "outputs": [],
   "source": [
    "submission.to_csv('submission_example.csv')"
   ]
  }
 ],
 "metadata": {
  "kernelspec": {
   "display_name": "Python 3 (ipykernel)",
   "language": "python",
   "name": "python3"
  },
  "language_info": {
   "codemirror_mode": {
    "name": "ipython",
    "version": 3
   },
   "file_extension": ".py",
   "mimetype": "text/x-python",
   "name": "python",
   "nbconvert_exporter": "python",
   "pygments_lexer": "ipython3",
   "version": "3.9.12"
  }
 },
 "nbformat": 4,
 "nbformat_minor": 2
}
