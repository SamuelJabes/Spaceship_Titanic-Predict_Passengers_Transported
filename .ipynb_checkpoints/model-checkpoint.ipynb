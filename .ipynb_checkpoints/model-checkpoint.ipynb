{
 "cells": [
  {
   "cell_type": "markdown",
   "metadata": {},
   "source": [
    "# Spaceship Titanic\n",
    "\n",
    "## Which passengers were transported to another dimension?"
   ]
  },
  {
   "cell_type": "markdown",
   "metadata": {},
   "source": [
    "In this lab, we will predict which passengers were transported to another dimension during the Spaceship Titanic's collision with the spacetime anomaly. \n",
    "\n",
    "#### Dataset description\n",
    "\n",
    "- `PassengerId` - A unique Id for each passenger. Each Id takes the form gggg_pp where gggg indicates a group the passenger is travelling with and pp is their number within the group. People in a group are often family members, but not always.\n",
    "- `HomePlanet` - The planet the passenger departed from, typically their planet of permanent residence.\n",
    "- `CryoSleep` - Indicates whether the passenger elected to be put into suspended animation for the duration of the voyage. Passengers in cryosleep are confined to their cabins.\n",
    "- `Cabin` - The cabin number where the passenger is staying. Takes the form deck/num/side, where side can be either P for Port or S for Starboard.\n",
    "- `Destination` - The planet the passenger will be debarking to.\n",
    "- `Age` - The age of the passenger.\n",
    "- `VIP` - Whether the passenger has paid for special VIP service during the voyage.\n",
    "- `RoomService, FoodCourt, ShoppingMall, Spa, VRDeck` - Amount the passenger has billed at each of the Spaceship Titanic's many luxury amenities.\n",
    "- `Name` - The first and last names of the passenger.\n",
    "- `Transported` - Whether the passenger was transported to another dimension. This is the target, the column you are trying to predict."
   ]
  },
  {
   "cell_type": "markdown",
   "metadata": {},
   "source": [
    "## Outline\n",
    "...\n"
   ]
  },
  {
   "cell_type": "markdown",
   "metadata": {},
   "source": [
    "## 1. Packages\n",
    "\n",
    "First, let's run the cell below to import all the packages that we will need during this assignment."
   ]
  },
  {
   "cell_type": "code",
   "execution_count": 1,
   "metadata": {},
   "outputs": [],
   "source": [
    "import numpy as np\n",
    "import pandas as pd\n",
    "import matplotlib.pyplot as plt\n",
    "import seaborn as sns\n",
    "\n",
    "from sklearn.preprocessing import StandardScaler, OneHotEncoder, QuantileTransformer, OrdinalEncoder\n",
    "from sklearn.compose import make_column_transformer, make_column_selector\n",
    "from sklearn.impute import SimpleImputer\n",
    "from sklearn.model_selection import train_test_split\n",
    "from sklearn.pipeline import make_pipeline"
   ]
  },
  {
   "cell_type": "markdown",
   "metadata": {},
   "source": [
    "## 2. Viewing The Data\n",
    "\n",
    "Taking a look in our training dataset and getting more familiar with it. Remember that the training dataset and test dataset are already separated."
   ]
  },
  {
   "cell_type": "code",
   "execution_count": 2,
   "metadata": {},
   "outputs": [],
   "source": [
    "df_train = pd.read_csv('train.csv')\n",
    "df_test = pd.read_csv('test.csv')"
   ]
  },
  {
   "cell_type": "markdown",
   "metadata": {},
   "source": [
    "Looking at the first five examples of the dataset."
   ]
  },
  {
   "cell_type": "code",
   "execution_count": 3,
   "metadata": {
    "scrolled": true
   },
   "outputs": [
    {
     "data": {
      "text/html": [
       "<div>\n",
       "<style scoped>\n",
       "    .dataframe tbody tr th:only-of-type {\n",
       "        vertical-align: middle;\n",
       "    }\n",
       "\n",
       "    .dataframe tbody tr th {\n",
       "        vertical-align: top;\n",
       "    }\n",
       "\n",
       "    .dataframe thead th {\n",
       "        text-align: right;\n",
       "    }\n",
       "</style>\n",
       "<table border=\"1\" class=\"dataframe\">\n",
       "  <thead>\n",
       "    <tr style=\"text-align: right;\">\n",
       "      <th></th>\n",
       "      <th>PassengerId</th>\n",
       "      <th>HomePlanet</th>\n",
       "      <th>CryoSleep</th>\n",
       "      <th>Cabin</th>\n",
       "      <th>Destination</th>\n",
       "      <th>Age</th>\n",
       "      <th>VIP</th>\n",
       "      <th>RoomService</th>\n",
       "      <th>FoodCourt</th>\n",
       "      <th>ShoppingMall</th>\n",
       "      <th>Spa</th>\n",
       "      <th>VRDeck</th>\n",
       "      <th>Name</th>\n",
       "      <th>Transported</th>\n",
       "    </tr>\n",
       "  </thead>\n",
       "  <tbody>\n",
       "    <tr>\n",
       "      <th>0</th>\n",
       "      <td>0001_01</td>\n",
       "      <td>Europa</td>\n",
       "      <td>False</td>\n",
       "      <td>B/0/P</td>\n",
       "      <td>TRAPPIST-1e</td>\n",
       "      <td>39.0</td>\n",
       "      <td>False</td>\n",
       "      <td>0.0</td>\n",
       "      <td>0.0</td>\n",
       "      <td>0.0</td>\n",
       "      <td>0.0</td>\n",
       "      <td>0.0</td>\n",
       "      <td>Maham Ofracculy</td>\n",
       "      <td>False</td>\n",
       "    </tr>\n",
       "    <tr>\n",
       "      <th>1</th>\n",
       "      <td>0002_01</td>\n",
       "      <td>Earth</td>\n",
       "      <td>False</td>\n",
       "      <td>F/0/S</td>\n",
       "      <td>TRAPPIST-1e</td>\n",
       "      <td>24.0</td>\n",
       "      <td>False</td>\n",
       "      <td>109.0</td>\n",
       "      <td>9.0</td>\n",
       "      <td>25.0</td>\n",
       "      <td>549.0</td>\n",
       "      <td>44.0</td>\n",
       "      <td>Juanna Vines</td>\n",
       "      <td>True</td>\n",
       "    </tr>\n",
       "    <tr>\n",
       "      <th>2</th>\n",
       "      <td>0003_01</td>\n",
       "      <td>Europa</td>\n",
       "      <td>False</td>\n",
       "      <td>A/0/S</td>\n",
       "      <td>TRAPPIST-1e</td>\n",
       "      <td>58.0</td>\n",
       "      <td>True</td>\n",
       "      <td>43.0</td>\n",
       "      <td>3576.0</td>\n",
       "      <td>0.0</td>\n",
       "      <td>6715.0</td>\n",
       "      <td>49.0</td>\n",
       "      <td>Altark Susent</td>\n",
       "      <td>False</td>\n",
       "    </tr>\n",
       "    <tr>\n",
       "      <th>3</th>\n",
       "      <td>0003_02</td>\n",
       "      <td>Europa</td>\n",
       "      <td>False</td>\n",
       "      <td>A/0/S</td>\n",
       "      <td>TRAPPIST-1e</td>\n",
       "      <td>33.0</td>\n",
       "      <td>False</td>\n",
       "      <td>0.0</td>\n",
       "      <td>1283.0</td>\n",
       "      <td>371.0</td>\n",
       "      <td>3329.0</td>\n",
       "      <td>193.0</td>\n",
       "      <td>Solam Susent</td>\n",
       "      <td>False</td>\n",
       "    </tr>\n",
       "    <tr>\n",
       "      <th>4</th>\n",
       "      <td>0004_01</td>\n",
       "      <td>Earth</td>\n",
       "      <td>False</td>\n",
       "      <td>F/1/S</td>\n",
       "      <td>TRAPPIST-1e</td>\n",
       "      <td>16.0</td>\n",
       "      <td>False</td>\n",
       "      <td>303.0</td>\n",
       "      <td>70.0</td>\n",
       "      <td>151.0</td>\n",
       "      <td>565.0</td>\n",
       "      <td>2.0</td>\n",
       "      <td>Willy Santantines</td>\n",
       "      <td>True</td>\n",
       "    </tr>\n",
       "  </tbody>\n",
       "</table>\n",
       "</div>"
      ],
      "text/plain": [
       "  PassengerId HomePlanet CryoSleep  Cabin  Destination   Age    VIP  \\\n",
       "0     0001_01     Europa     False  B/0/P  TRAPPIST-1e  39.0  False   \n",
       "1     0002_01      Earth     False  F/0/S  TRAPPIST-1e  24.0  False   \n",
       "2     0003_01     Europa     False  A/0/S  TRAPPIST-1e  58.0   True   \n",
       "3     0003_02     Europa     False  A/0/S  TRAPPIST-1e  33.0  False   \n",
       "4     0004_01      Earth     False  F/1/S  TRAPPIST-1e  16.0  False   \n",
       "\n",
       "   RoomService  FoodCourt  ShoppingMall     Spa  VRDeck               Name  \\\n",
       "0          0.0        0.0           0.0     0.0     0.0    Maham Ofracculy   \n",
       "1        109.0        9.0          25.0   549.0    44.0       Juanna Vines   \n",
       "2         43.0     3576.0           0.0  6715.0    49.0      Altark Susent   \n",
       "3          0.0     1283.0         371.0  3329.0   193.0       Solam Susent   \n",
       "4        303.0       70.0         151.0   565.0     2.0  Willy Santantines   \n",
       "\n",
       "   Transported  \n",
       "0        False  \n",
       "1         True  \n",
       "2        False  \n",
       "3        False  \n",
       "4         True  "
      ]
     },
     "execution_count": 3,
     "metadata": {},
     "output_type": "execute_result"
    }
   ],
   "source": [
    "df_train.head()"
   ]
  },
  {
   "cell_type": "markdown",
   "metadata": {},
   "source": [
    "Seeing the shape of our dataset."
   ]
  },
  {
   "cell_type": "code",
   "execution_count": 4,
   "metadata": {},
   "outputs": [
    {
     "name": "stdout",
     "output_type": "stream",
     "text": [
      "The number of rows is: 8693\n",
      "The number of columns is: 14\n"
     ]
    }
   ],
   "source": [
    "n_rows = df_train.shape[0]\n",
    "n_columns = df_train.shape[1]\n",
    "\n",
    "print(f\"The number of rows is: {n_rows}\")\n",
    "print(f\"The number of columns is: {n_columns}\")"
   ]
  },
  {
   "cell_type": "code",
   "execution_count": 5,
   "metadata": {
    "scrolled": true
   },
   "outputs": [
    {
     "data": {
      "text/plain": [
       "PassengerId      object\n",
       "HomePlanet       object\n",
       "CryoSleep        object\n",
       "Cabin            object\n",
       "Destination      object\n",
       "Age             float64\n",
       "VIP              object\n",
       "RoomService     float64\n",
       "FoodCourt       float64\n",
       "ShoppingMall    float64\n",
       "Spa             float64\n",
       "VRDeck          float64\n",
       "Name             object\n",
       "Transported        bool\n",
       "dtype: object"
      ]
     },
     "execution_count": 5,
     "metadata": {},
     "output_type": "execute_result"
    }
   ],
   "source": [
    "df_train.dtypes"
   ]
  },
  {
   "cell_type": "markdown",
   "metadata": {},
   "source": [
    "Checking if the dataframe has some null value."
   ]
  },
  {
   "cell_type": "code",
   "execution_count": 6,
   "metadata": {
    "scrolled": true
   },
   "outputs": [
    {
     "data": {
      "text/plain": [
       "PassengerId       0\n",
       "HomePlanet      201\n",
       "CryoSleep       217\n",
       "Cabin           199\n",
       "Destination     182\n",
       "Age             179\n",
       "VIP             203\n",
       "RoomService     181\n",
       "FoodCourt       183\n",
       "ShoppingMall    208\n",
       "Spa             183\n",
       "VRDeck          188\n",
       "Name            200\n",
       "Transported       0\n",
       "dtype: int64"
      ]
     },
     "execution_count": 6,
     "metadata": {},
     "output_type": "execute_result"
    }
   ],
   "source": [
    "df_train.isnull().sum()"
   ]
  },
  {
   "cell_type": "markdown",
   "metadata": {},
   "source": [
    "Notice that we have some columns with null values, then, posteriorly, we have we will have to treat these columns."
   ]
  },
  {
   "cell_type": "markdown",
   "metadata": {},
   "source": [
    "#### Summary of each categorical feature"
   ]
  },
  {
   "cell_type": "code",
   "execution_count": 7,
   "metadata": {},
   "outputs": [
    {
     "data": {
      "text/html": [
       "<div>\n",
       "<style scoped>\n",
       "    .dataframe tbody tr th:only-of-type {\n",
       "        vertical-align: middle;\n",
       "    }\n",
       "\n",
       "    .dataframe tbody tr th {\n",
       "        vertical-align: top;\n",
       "    }\n",
       "\n",
       "    .dataframe thead th {\n",
       "        text-align: right;\n",
       "    }\n",
       "</style>\n",
       "<table border=\"1\" class=\"dataframe\">\n",
       "  <thead>\n",
       "    <tr style=\"text-align: right;\">\n",
       "      <th></th>\n",
       "      <th>PassengerId</th>\n",
       "      <th>HomePlanet</th>\n",
       "      <th>CryoSleep</th>\n",
       "      <th>Cabin</th>\n",
       "      <th>Destination</th>\n",
       "      <th>VIP</th>\n",
       "      <th>Name</th>\n",
       "    </tr>\n",
       "  </thead>\n",
       "  <tbody>\n",
       "    <tr>\n",
       "      <th>count</th>\n",
       "      <td>8693</td>\n",
       "      <td>8492</td>\n",
       "      <td>8476</td>\n",
       "      <td>8494</td>\n",
       "      <td>8511</td>\n",
       "      <td>8490</td>\n",
       "      <td>8493</td>\n",
       "    </tr>\n",
       "    <tr>\n",
       "      <th>unique</th>\n",
       "      <td>8693</td>\n",
       "      <td>3</td>\n",
       "      <td>2</td>\n",
       "      <td>6560</td>\n",
       "      <td>3</td>\n",
       "      <td>2</td>\n",
       "      <td>8473</td>\n",
       "    </tr>\n",
       "    <tr>\n",
       "      <th>top</th>\n",
       "      <td>0001_01</td>\n",
       "      <td>Earth</td>\n",
       "      <td>False</td>\n",
       "      <td>G/734/S</td>\n",
       "      <td>TRAPPIST-1e</td>\n",
       "      <td>False</td>\n",
       "      <td>Gollux Reedall</td>\n",
       "    </tr>\n",
       "    <tr>\n",
       "      <th>freq</th>\n",
       "      <td>1</td>\n",
       "      <td>4602</td>\n",
       "      <td>5439</td>\n",
       "      <td>8</td>\n",
       "      <td>5915</td>\n",
       "      <td>8291</td>\n",
       "      <td>2</td>\n",
       "    </tr>\n",
       "  </tbody>\n",
       "</table>\n",
       "</div>"
      ],
      "text/plain": [
       "       PassengerId HomePlanet CryoSleep    Cabin  Destination    VIP  \\\n",
       "count         8693       8492      8476     8494         8511   8490   \n",
       "unique        8693          3         2     6560            3      2   \n",
       "top        0001_01      Earth     False  G/734/S  TRAPPIST-1e  False   \n",
       "freq             1       4602      5439        8         5915   8291   \n",
       "\n",
       "                  Name  \n",
       "count             8493  \n",
       "unique            8473  \n",
       "top     Gollux Reedall  \n",
       "freq                 2  "
      ]
     },
     "execution_count": 7,
     "metadata": {},
     "output_type": "execute_result"
    }
   ],
   "source": [
    "df_train.describe(include=object)"
   ]
  },
  {
   "cell_type": "markdown",
   "metadata": {},
   "source": [
    "#### Summary measures of each numerical feature"
   ]
  },
  {
   "cell_type": "code",
   "execution_count": 8,
   "metadata": {
    "scrolled": true
   },
   "outputs": [
    {
     "data": {
      "text/html": [
       "<div>\n",
       "<style scoped>\n",
       "    .dataframe tbody tr th:only-of-type {\n",
       "        vertical-align: middle;\n",
       "    }\n",
       "\n",
       "    .dataframe tbody tr th {\n",
       "        vertical-align: top;\n",
       "    }\n",
       "\n",
       "    .dataframe thead th {\n",
       "        text-align: right;\n",
       "    }\n",
       "</style>\n",
       "<table border=\"1\" class=\"dataframe\">\n",
       "  <thead>\n",
       "    <tr style=\"text-align: right;\">\n",
       "      <th></th>\n",
       "      <th>Age</th>\n",
       "      <th>RoomService</th>\n",
       "      <th>FoodCourt</th>\n",
       "      <th>ShoppingMall</th>\n",
       "      <th>Spa</th>\n",
       "      <th>VRDeck</th>\n",
       "    </tr>\n",
       "  </thead>\n",
       "  <tbody>\n",
       "    <tr>\n",
       "      <th>count</th>\n",
       "      <td>8514.000000</td>\n",
       "      <td>8512.000000</td>\n",
       "      <td>8510.000000</td>\n",
       "      <td>8485.000000</td>\n",
       "      <td>8510.000000</td>\n",
       "      <td>8505.000000</td>\n",
       "    </tr>\n",
       "    <tr>\n",
       "      <th>mean</th>\n",
       "      <td>28.827930</td>\n",
       "      <td>224.687617</td>\n",
       "      <td>458.077203</td>\n",
       "      <td>173.729169</td>\n",
       "      <td>311.138778</td>\n",
       "      <td>304.854791</td>\n",
       "    </tr>\n",
       "    <tr>\n",
       "      <th>std</th>\n",
       "      <td>14.489021</td>\n",
       "      <td>666.717663</td>\n",
       "      <td>1611.489240</td>\n",
       "      <td>604.696458</td>\n",
       "      <td>1136.705535</td>\n",
       "      <td>1145.717189</td>\n",
       "    </tr>\n",
       "    <tr>\n",
       "      <th>min</th>\n",
       "      <td>0.000000</td>\n",
       "      <td>0.000000</td>\n",
       "      <td>0.000000</td>\n",
       "      <td>0.000000</td>\n",
       "      <td>0.000000</td>\n",
       "      <td>0.000000</td>\n",
       "    </tr>\n",
       "    <tr>\n",
       "      <th>25%</th>\n",
       "      <td>19.000000</td>\n",
       "      <td>0.000000</td>\n",
       "      <td>0.000000</td>\n",
       "      <td>0.000000</td>\n",
       "      <td>0.000000</td>\n",
       "      <td>0.000000</td>\n",
       "    </tr>\n",
       "    <tr>\n",
       "      <th>50%</th>\n",
       "      <td>27.000000</td>\n",
       "      <td>0.000000</td>\n",
       "      <td>0.000000</td>\n",
       "      <td>0.000000</td>\n",
       "      <td>0.000000</td>\n",
       "      <td>0.000000</td>\n",
       "    </tr>\n",
       "    <tr>\n",
       "      <th>75%</th>\n",
       "      <td>38.000000</td>\n",
       "      <td>47.000000</td>\n",
       "      <td>76.000000</td>\n",
       "      <td>27.000000</td>\n",
       "      <td>59.000000</td>\n",
       "      <td>46.000000</td>\n",
       "    </tr>\n",
       "    <tr>\n",
       "      <th>max</th>\n",
       "      <td>79.000000</td>\n",
       "      <td>14327.000000</td>\n",
       "      <td>29813.000000</td>\n",
       "      <td>23492.000000</td>\n",
       "      <td>22408.000000</td>\n",
       "      <td>24133.000000</td>\n",
       "    </tr>\n",
       "  </tbody>\n",
       "</table>\n",
       "</div>"
      ],
      "text/plain": [
       "               Age   RoomService     FoodCourt  ShoppingMall           Spa  \\\n",
       "count  8514.000000   8512.000000   8510.000000   8485.000000   8510.000000   \n",
       "mean     28.827930    224.687617    458.077203    173.729169    311.138778   \n",
       "std      14.489021    666.717663   1611.489240    604.696458   1136.705535   \n",
       "min       0.000000      0.000000      0.000000      0.000000      0.000000   \n",
       "25%      19.000000      0.000000      0.000000      0.000000      0.000000   \n",
       "50%      27.000000      0.000000      0.000000      0.000000      0.000000   \n",
       "75%      38.000000     47.000000     76.000000     27.000000     59.000000   \n",
       "max      79.000000  14327.000000  29813.000000  23492.000000  22408.000000   \n",
       "\n",
       "             VRDeck  \n",
       "count   8505.000000  \n",
       "mean     304.854791  \n",
       "std     1145.717189  \n",
       "min        0.000000  \n",
       "25%        0.000000  \n",
       "50%        0.000000  \n",
       "75%       46.000000  \n",
       "max    24133.000000  "
      ]
     },
     "execution_count": 8,
     "metadata": {},
     "output_type": "execute_result"
    }
   ],
   "source": [
    "df_train.describe(include=[int, float])"
   ]
  },
  {
   "cell_type": "markdown",
   "metadata": {},
   "source": [
    "## 3. Exploratory Analysis"
   ]
  },
  {
   "cell_type": "markdown",
   "metadata": {},
   "source": [
    "### 3.1. Viewing our `target`"
   ]
  },
  {
   "cell_type": "markdown",
   "metadata": {},
   "source": [
    "Our target is the column `Transported`, which tell us if a passenger were transported to another dimension or not. We can see that with the values of this column, that are:\n",
    "\n",
    "- `False`: The passenger were not transported.\n",
    "- `True`: The passenger were transported.\n",
    "\n",
    "Let's take a look in the proportion of the values."
   ]
  },
  {
   "cell_type": "code",
   "execution_count": 9,
   "metadata": {},
   "outputs": [
    {
     "data": {
      "text/plain": [
       "True     0.504\n",
       "False    0.496\n",
       "Name: Transported, dtype: float64"
      ]
     },
     "execution_count": 9,
     "metadata": {},
     "output_type": "execute_result"
    }
   ],
   "source": [
    "df_train['Transported'].value_counts(normalize=True).round(3)"
   ]
  },
  {
   "cell_type": "markdown",
   "metadata": {},
   "source": [
    "That is great, this showns that the proportion between the two possibilities it's practically the same. This mean that the dataset is balanced, which avoids **overffiting**, is able to **not overestimate performance and generalize more**."
   ]
  },
  {
   "cell_type": "markdown",
   "metadata": {},
   "source": [
    "### 3.2.  Bar relations\n",
    "\n",
    "Let's try verify some relations that the others columns have with our target."
   ]
  },
  {
   "cell_type": "code",
   "execution_count": 10,
   "metadata": {
    "scrolled": false
   },
   "outputs": [
    {
     "data": {
      "image/png": "[encoded data removed]",
      "text/plain": [
       "<Figure size 720x432 with 1 Axes>"
      ]
     },
     "metadata": {
      "needs_background": "light"
     },
     "output_type": "display_data"
    },
    {
     "data": {
      "image/png": "[encoded data removed]",
      "text/plain": [
       "<Figure size 720x432 with 1 Axes>"
      ]
     },
     "metadata": {
      "needs_background": "light"
     },
     "output_type": "display_data"
    }
   ],
   "source": [
    "# ploting bar of CryoSleep and VIP (only two values)\n",
    "colors1 = ['lightblue','darkblue']\n",
    "\n",
    "relation = pd.crosstab(df_train['CryoSleep'], df_train['Transported'])\n",
    "relation.plot.bar(color = colors1, figsize=(10,6))\n",
    "plt.ylabel('Count')\n",
    "plt.legend(loc='center')\n",
    "plt.legend(bbox_to_anchor=(1.3, 0.95)); # Coloca legenda para fora da janela gráfica\n",
    "plt.title('Transported x CryoSleep')\n",
    "plt.show()\n",
    "\n",
    "relation = pd.crosstab(df_train['VIP'], df_train['Transported'])\n",
    "relation.plot.bar(color = colors1, figsize=(10,6))\n",
    "plt.ylabel('Count')\n",
    "plt.legend(loc='center')\n",
    "plt.legend(bbox_to_anchor=(1.3, 0.95)); # Coloca legenda para fora da janela gráfica\n",
    "plt.title('Transported x VIP')\n",
    "plt.show()"
   ]
  },
  {
   "cell_type": "code",
   "execution_count": 11,
   "metadata": {},
   "outputs": [
    {
     "data": {
      "image/png": "[encoded data removed]",
      "text/plain": [
       "<Figure size 720x432 with 1 Axes>"
      ]
     },
     "metadata": {
      "needs_background": "light"
     },
     "output_type": "display_data"
    },
    {
     "data": {
      "image/png": "[encoded data removed]",
      "text/plain": [
       "<Figure size 720x432 with 1 Axes>"
      ]
     },
     "metadata": {
      "needs_background": "light"
     },
     "output_type": "display_data"
    }
   ],
   "source": [
    "# ploting bar of CryoSleep and VIP (only three values)\n",
    "colors2 = ['pink','darkred']\n",
    "\n",
    "relation = pd.crosstab(df_train['Destination'], df_train['Transported'])\n",
    "relation.plot.bar(color = colors2, figsize=(10,6))\n",
    "plt.ylabel('Count')\n",
    "plt.legend(loc='center')\n",
    "plt.legend(bbox_to_anchor=(1.3, 0.95)); # Coloca legenda para fora da janela gráfica\n",
    "plt.title('Transported x CryoSleep')\n",
    "plt.show()\n",
    "\n",
    "relation = pd.crosstab(df_train['HomePlanet'], df_train['Transported'])\n",
    "relation.plot.bar(color = colors2, figsize=(10,6))\n",
    "plt.ylabel('Count')\n",
    "plt.legend(loc='center')\n",
    "plt.legend(bbox_to_anchor=(1.3, 0.95)); # Coloca legenda para fora da janela gráfica\n",
    "plt.title('Transported x VIP')\n",
    "plt.show()"
   ]
  },
  {
   "cell_type": "markdown",
   "metadata": {},
   "source": [
    "### 3.3. Boxplot's"
   ]
  },
  {
   "cell_type": "code",
   "execution_count": 12,
   "metadata": {},
   "outputs": [
    {
     "data": {
      "image/png": "[encoded data removed]",
      "text/plain": [
       "<Figure size 1080x504 with 1 Axes>"
      ]
     },
     "metadata": {
      "needs_background": "light"
     },
     "output_type": "display_data"
    }
   ],
   "source": [
    "# taking numerical columns without age \n",
    "num_columns = ['RoomService', 'FoodCourt', 'ShoppingMall', 'Spa', 'VRDeck']\n",
    "numerical = df_train.loc[:, num_columns]\n",
    "\n",
    "# figure size\n",
    "plt.figure(figsize=(15, 7))\n",
    "\n",
    "# Create simultaneous boxplot with Seaborn\n",
    "sns.boxplot(data=numerical)\n",
    "plt.xlabel('Ways to spend')\n",
    "plt.ylabel('Expenses')\n",
    "plt.title('Boxplot of expenses',loc=\"center\", fontsize=18)\n",
    "\n",
    "# Show the figure\n",
    "plt.show()"
   ]
  },
  {
   "cell_type": "markdown",
   "metadata": {},
   "source": [
    "Although we observe that there are extreme and different values in each of the types of expenses, we can say that these values **make sense**, since:\n",
    "\n",
    "- For example, by bar graphs, in this case in relation to \"Transported x VIP\", the overwhelming majority does not adhere to the VIP service, which can demonstrate that **the vast majority either do not need or are not able to pay for it**.\n",
    "\n",
    "- If we analyze the bar graph of \"Transported x CryoSleep\", a reasonable proportion of people were placed in cryogenic cabins, which we can **infer that basically people in a cryogenic state will not have expenses during the trip**.\n",
    "\n",
    "\n",
    "Thus, it is really intuitive that these values ​​make sense, since the vast majority are not interested in, do not need or cannot pay for the VIP service, in addition to the fact that a reasonable number of passengers are in a cryogenic state.\n",
    "\n",
    "\n",
    "therefore, we **will not** remove the outliers."
   ]
  },
  {
   "cell_type": "markdown",
   "metadata": {},
   "source": [
    "## 4. Feature Engineering"
   ]
  },
  {
   "cell_type": "markdown",
   "metadata": {},
   "source": [
    "### 4.1. Column \"Surname\"\n",
    "\n",
    "We can observe that passengers of the same group, tends to have the same last name. So, we will create the column \"Surname\" for keep this information."
   ]
  },
  {
   "cell_type": "code",
   "execution_count": 13,
   "metadata": {},
   "outputs": [],
   "source": [
    "df_train['Surname'] = df_train.loc[df_train['Name'].notnull(), 'Name'].apply(lambda x: x.split()[1])"
   ]
  },
  {
   "cell_type": "markdown",
   "metadata": {},
   "source": [
    "### 4.2. Column \"GroupNumber\"\n",
    "\n",
    "Let's assume that for the sake of simplification, the part that really contains important information is just the number that refers to the group with which the passenger is traveling in `PassengerId`.  If you noticed too, **there are no null values** ​​for the `PassengerId` column, which can help filtering out null values."
   ]
  },
  {
   "cell_type": "code",
   "execution_count": 14,
   "metadata": {},
   "outputs": [],
   "source": [
    "df_train['GroupNumber'] = df_train.PassengerId.str.split('_').str[0].astype(int)"
   ]
  },
  {
   "cell_type": "markdown",
   "metadata": {},
   "source": [
    "### 4.3. Column \"TotalSpend\"\n",
    "\n",
    "This column will keep the sum of all expenses of each passenger."
   ]
  },
  {
   "cell_type": "code",
   "execution_count": 15,
   "metadata": {},
   "outputs": [],
   "source": [
    "df_train['TotalSpend'] = df_train[num_columns].sum(axis=1)\n",
    "\n",
    "# Assume that if passenger didn't spend any money in non-missing expense columns then he popably didn't in a missing columns (most often there is only 1 column missing so propability of that is high)\n",
    "df_train.loc[df_train['TotalSpend'] == 0, num_columns] = 0"
   ]
  },
  {
   "cell_type": "markdown",
   "metadata": {},
   "source": [
    "## 5. Treatment of Null Values\n",
    "\n",
    "Firstly, let's fill missing values of `Cabin`, `Surname`, `HomePlanet` and `Destination` based on `GroupNumber`. We will assume that passengers in one room have the same cabin, destination, surname and home planet."
   ]
  },
  {
   "cell_type": "code",
   "execution_count": 16,
   "metadata": {},
   "outputs": [],
   "source": [
    "room_related_columns = ['Cabin', 'Surname', 'Destination', 'HomePlanet']\n",
    "\n",
    "for col in room_related_columns:\n",
    "    room_to_col = df_train[['GroupNumber', col]].dropna().groupby('GroupNumber')[col].apply(lambda x: x.mode()[0]) # without dropna mode for single person rooms with nan col would be empty and mode()[0] will raise an error\n",
    "    df_train[col] = df_train.apply(lambda row: room_to_col[row['GroupNumber']] if pd.isna(row[col]) and row['GroupNumber'] in room_to_col.index else row[col], axis=1)\n",
    "    df_train[col] = df_train.groupby('GroupNumber')[col].ffill().bfill()"
   ]
  },
  {
   "cell_type": "markdown",
   "metadata": {},
   "source": [
    "Let's split the column `Cabin` in 3 new columns:\n",
    "\n",
    "- `CabDeck`\n",
    "- `CabNum`\n",
    "- `CabSide`"
   ]
  },
  {
   "cell_type": "code",
   "execution_count": 17,
   "metadata": {},
   "outputs": [],
   "source": [
    "df_train[['CabDeck', 'CabNum', 'CabSide']] = df_train['Cabin'].str.split('/', expand=True)\n",
    "\n",
    "# After Cabin split, CabNumber is a object type column so we will convert it to int \n",
    "df_train['CabNum'] = pd.to_numeric(df_train['CabNum']).astype(int)"
   ]
  },
  {
   "cell_type": "markdown",
   "metadata": {},
   "source": [
    "Now, remembering the intuition acquired in 3.3., let's consider 3 cases:\n",
    "\n",
    "- if the passenger is in a cryogenic sleep, his total spending should be 0 and any expense.\n",
    "\n",
    "- if the passenger has spent a certain amount of money, then he is not in cryogenic sleep.\n",
    "\n",
    "- if the passenger has not spent, then he is in cryogenic sleep."
   ]
  },
  {
   "cell_type": "code",
   "execution_count": 18,
   "metadata": {},
   "outputs": [],
   "source": [
    "# first case\n",
    "df_train.loc[df_train['CryoSleep'] == True, ['TotalSpend'] + num_columns] = 0\n",
    "\n",
    "# second case\n",
    "df_train.loc[df_train['CryoSleep'].isnull() & df_train['TotalSpend'] > 0, 'CryoSleep'] = False\n",
    "\n",
    "# third case \n",
    "df_train.loc[df_train['CryoSleep'].isnull() & df_train['TotalSpend'] == 0, 'CryoSleep'] = True"
   ]
  },
  {
   "cell_type": "markdown",
   "metadata": {},
   "source": [
    "**Drop Columns**\n",
    "\n",
    "Now that we've managed to extract important information, the `Name` and `Cabin` columns are no longer relevant. Let's drop them."
   ]
  },
  {
   "cell_type": "code",
   "execution_count": 19,
   "metadata": {},
   "outputs": [],
   "source": [
    "df_train.drop(columns=['Cabin', 'Name'], inplace=True)"
   ]
  },
  {
   "cell_type": "markdown",
   "metadata": {},
   "source": [
    "Let's see which null values still have."
   ]
  },
  {
   "cell_type": "code",
   "execution_count": 20,
   "metadata": {},
   "outputs": [
    {
     "data": {
      "text/plain": [
       "PassengerId       0\n",
       "HomePlanet        0\n",
       "CryoSleep         0\n",
       "Destination       0\n",
       "Age             179\n",
       "VIP             203\n",
       "RoomService     103\n",
       "FoodCourt       102\n",
       "ShoppingMall    100\n",
       "Spa             112\n",
       "VRDeck          102\n",
       "Transported       0\n",
       "Surname           0\n",
       "GroupNumber       0\n",
       "TotalSpend        0\n",
       "CabDeck           0\n",
       "CabNum            0\n",
       "CabSide           0\n",
       "dtype: int64"
      ]
     },
     "execution_count": 20,
     "metadata": {},
     "output_type": "execute_result"
    }
   ],
   "source": [
    "df_train.isnull().sum()"
   ]
  },
  {
   "cell_type": "markdown",
   "metadata": {},
   "source": [
    "Apparently, what's left is to filter out null values ​​from numeric columns.\n"
   ]
  },
  {
   "cell_type": "markdown",
   "metadata": {},
   "source": [
    "## 6. Data Preprocessing"
   ]
  },
  {
   "cell_type": "markdown",
   "metadata": {},
   "source": [
    "### 6.1. Spliting the dataframe `df_train` in `X` and `y` dataframes."
   ]
  },
  {
   "cell_type": "code",
   "execution_count": 22,
   "metadata": {},
   "outputs": [],
   "source": [
    "X = df_train.drop(columns='Transported', inplace=False)\n",
    "y = df_train.loc[:, 'Transported']"
   ]
  },
  {
   "cell_type": "markdown",
   "metadata": {},
   "source": [
    "### 6.2. Pre-processing numerical data\n",
    "\n",
    "**Numerical columns**\n",
    "- `StandardImputer()` fills missing values with mean\n",
    "- `QuantileTransformer()` is used so the data follows normal distribution\n",
    "- `StandartScaler()` normalizes the data, mean = 0, std = 1\n"
   ]
  },
  {
   "cell_type": "markdown",
   "metadata": {},
   "source": [
    "First, let's start separating the numerical features of our `X` dataframe."
   ]
  },
  {
   "cell_type": "code",
   "execution_count": 23,
   "metadata": {},
   "outputs": [],
   "source": [
    "numerical_features = []\n",
    "for column in X.columns:\n",
    "    if X[column].dtypes == 'float64' or X[column].dtypes == 'int32':\n",
    "        numerical_features.append(column)\n",
    "\n",
    "df_num = X.loc[:, numerical_features]"
   ]
  },
  {
   "cell_type": "markdown",
   "metadata": {},
   "source": [
    "With the `SimpleImputer`, let's fill the missing values by the strategy `mean`."
   ]
  },
  {
   "cell_type": "code",
   "execution_count": 24,
   "metadata": {},
   "outputs": [],
   "source": [
    "# Create a instance of SimpleImputer with strategy of mean\n",
    "imputer = SimpleImputer(strategy='mean')\n",
    "\n",
    "# Apply the SimpleImputer\n",
    "df_impute = imputer.fit_transform(df_num)"
   ]
  },
  {
   "cell_type": "markdown",
   "metadata": {},
   "source": [
    "Now, we will make the features follow a normal distribution with the transformer `QuantileTransformer`."
   ]
  },
  {
   "cell_type": "code",
   "execution_count": 25,
   "metadata": {},
   "outputs": [],
   "source": [
    "# Create a instance of QuantileTransformer\n",
    "transformer = QuantileTransformer(output_distribution='normal', random_state=2137)\n",
    "\n",
    "# Apply the QuantileTransformer to df_impute\n",
    "df_transf = transformer.fit_transform(df_impute)"
   ]
  },
  {
   "cell_type": "markdown",
   "metadata": {},
   "source": [
    "Finally, we will scale the values ​​obtained with `StandardScaler`."
   ]
  },
  {
   "cell_type": "code",
   "execution_count": 26,
   "metadata": {},
   "outputs": [],
   "source": [
    "# Create a instance of StandardScaler\n",
    "scaler = StandardScaler()\n",
    "\n",
    "# apply the StandardScaler to df_transf\n",
    "df_scaler = scaler.fit_transform(df_transf)"
   ]
  },
  {
   "cell_type": "code",
   "execution_count": 27,
   "metadata": {},
   "outputs": [],
   "source": [
    "df_num = pd.DataFrame(df_scaler, columns=numerical_features)"
   ]
  },
  {
   "cell_type": "code",
   "execution_count": 28,
   "metadata": {},
   "outputs": [
    {
     "data": {
      "text/html": [
       "<div>\n",
       "<style scoped>\n",
       "    .dataframe tbody tr th:only-of-type {\n",
       "        vertical-align: middle;\n",
       "    }\n",
       "\n",
       "    .dataframe tbody tr th {\n",
       "        vertical-align: top;\n",
       "    }\n",
       "\n",
       "    .dataframe thead th {\n",
       "        text-align: right;\n",
       "    }\n",
       "</style>\n",
       "<table border=\"1\" class=\"dataframe\">\n",
       "  <thead>\n",
       "    <tr style=\"text-align: right;\">\n",
       "      <th></th>\n",
       "      <th>Age</th>\n",
       "      <th>RoomService</th>\n",
       "      <th>FoodCourt</th>\n",
       "      <th>ShoppingMall</th>\n",
       "      <th>Spa</th>\n",
       "      <th>VRDeck</th>\n",
       "      <th>GroupNumber</th>\n",
       "      <th>TotalSpend</th>\n",
       "      <th>CabNum</th>\n",
       "    </tr>\n",
       "  </thead>\n",
       "  <tbody>\n",
       "    <tr>\n",
       "      <th>0</th>\n",
       "      <td>0.687314</td>\n",
       "      <td>-0.728833</td>\n",
       "      <td>-0.750479</td>\n",
       "      <td>-0.721543</td>\n",
       "      <td>-0.776926</td>\n",
       "      <td>-0.742384</td>\n",
       "      <td>-5.184648</td>\n",
       "      <td>-1.158301</td>\n",
       "      <td>-5.099170</td>\n",
       "    </tr>\n",
       "    <tr>\n",
       "      <th>1</th>\n",
       "      <td>-0.161416</td>\n",
       "      <td>1.251290</td>\n",
       "      <td>1.134122</td>\n",
       "      <td>1.231545</td>\n",
       "      <td>1.309369</td>\n",
       "      <td>1.201219</td>\n",
       "      <td>-3.606217</td>\n",
       "      <td>0.621619</td>\n",
       "      <td>-5.099170</td>\n",
       "    </tr>\n",
       "    <tr>\n",
       "      <th>2</th>\n",
       "      <td>1.549540</td>\n",
       "      <td>1.218752</td>\n",
       "      <td>1.569770</td>\n",
       "      <td>-0.721543</td>\n",
       "      <td>1.765332</td>\n",
       "      <td>1.204310</td>\n",
       "      <td>-3.423109</td>\n",
       "      <td>1.309495</td>\n",
       "      <td>-5.099170</td>\n",
       "    </tr>\n",
       "    <tr>\n",
       "      <th>3</th>\n",
       "      <td>0.401203</td>\n",
       "      <td>-0.728833</td>\n",
       "      <td>1.426241</td>\n",
       "      <td>1.383480</td>\n",
       "      <td>1.598274</td>\n",
       "      <td>1.266890</td>\n",
       "      <td>-3.423109</td>\n",
       "      <td>1.113858</td>\n",
       "      <td>-5.099170</td>\n",
       "    </tr>\n",
       "    <tr>\n",
       "      <th>4</th>\n",
       "      <td>-0.814420</td>\n",
       "      <td>1.319495</td>\n",
       "      <td>1.188760</td>\n",
       "      <td>1.309119</td>\n",
       "      <td>1.314234</td>\n",
       "      <td>1.123672</td>\n",
       "      <td>-3.311901</td>\n",
       "      <td>0.782533</td>\n",
       "      <td>-2.692718</td>\n",
       "    </tr>\n",
       "  </tbody>\n",
       "</table>\n",
       "</div>"
      ],
      "text/plain": [
       "        Age  RoomService  FoodCourt  ShoppingMall       Spa    VRDeck  \\\n",
       "0  0.687314    -0.728833  -0.750479     -0.721543 -0.776926 -0.742384   \n",
       "1 -0.161416     1.251290   1.134122      1.231545  1.309369  1.201219   \n",
       "2  1.549540     1.218752   1.569770     -0.721543  1.765332  1.204310   \n",
       "3  0.401203    -0.728833   1.426241      1.383480  1.598274  1.266890   \n",
       "4 -0.814420     1.319495   1.188760      1.309119  1.314234  1.123672   \n",
       "\n",
       "   GroupNumber  TotalSpend    CabNum  \n",
       "0    -5.184648   -1.158301 -5.099170  \n",
       "1    -3.606217    0.621619 -5.099170  \n",
       "2    -3.423109    1.309495 -5.099170  \n",
       "3    -3.423109    1.113858 -5.099170  \n",
       "4    -3.311901    0.782533 -2.692718  "
      ]
     },
     "execution_count": 28,
     "metadata": {},
     "output_type": "execute_result"
    }
   ],
   "source": [
    "df_num.head()"
   ]
  },
  {
   "cell_type": "markdown",
   "metadata": {},
   "source": [
    "### 6.3. Pre-processing categorical data\n",
    "\n",
    "**Categorical columns**\n",
    "- `StandardImputer()` fills missing values with most frequent ones\n",
    "- `OneHotEncoder()` one-hot encodes the data\n",
    "- Categorical one-hot encoded columns are already binary so performing `QuantileTransformer()` and `StandartScaler()` won't change much"
   ]
  },
  {
   "cell_type": "markdown",
   "metadata": {},
   "source": [
    "First, let's start separating the numerical features of our `X` dataframe."
   ]
  },
  {
   "cell_type": "code",
   "execution_count": 29,
   "metadata": {},
   "outputs": [],
   "source": [
    "categorical_features = ['HomePlanet', 'CryoSleep', 'Destination', 'VIP', 'CabDeck', 'CabSide']\n",
    "\n",
    "df_cat = X.loc[:, categorical_features]"
   ]
  },
  {
   "cell_type": "markdown",
   "metadata": {},
   "source": [
    "With the `SimpleImputer`, let's fill the missing values by the strategy `most_frequenty`."
   ]
  },
  {
   "cell_type": "code",
   "execution_count": 30,
   "metadata": {},
   "outputs": [],
   "source": [
    "# Create a instance of SimpleImputer with the strategy of \"most_frequent\"\n",
    "imputer_cat = SimpleImputer(strategy='most_frequent')\n",
    "\n",
    "# Apply the SimpleImputer to categorical data\n",
    "df_cat_imput = imputer_cat.fit_transform(df_cat)\n",
    "\n",
    "# Convert the imputed data to a DataFrame\n",
    "df_imput = pd.DataFrame(df_cat_imput, columns=categorical_features)"
   ]
  },
  {
   "cell_type": "markdown",
   "metadata": {},
   "source": [
    "Now, we will apply the `OneHotEncoder` to impute data."
   ]
  },
  {
   "cell_type": "code",
   "execution_count": 31,
   "metadata": {},
   "outputs": [
    {
     "name": "stderr",
     "output_type": "stream",
     "text": [
      "C:\\Users\\samue\\anaconda3\\lib\\site-packages\\sklearn\\utils\\deprecation.py:87: FutureWarning: Function get_feature_names is deprecated; get_feature_names is deprecated in 1.0 and will be removed in 1.2. Please use get_feature_names_out instead.\n",
      "  warnings.warn(msg, category=FutureWarning)\n"
     ]
    },
    {
     "data": {
      "text/html": [
       "<div>\n",
       "<style scoped>\n",
       "    .dataframe tbody tr th:only-of-type {\n",
       "        vertical-align: middle;\n",
       "    }\n",
       "\n",
       "    .dataframe tbody tr th {\n",
       "        vertical-align: top;\n",
       "    }\n",
       "\n",
       "    .dataframe thead th {\n",
       "        text-align: right;\n",
       "    }\n",
       "</style>\n",
       "<table border=\"1\" class=\"dataframe\">\n",
       "  <thead>\n",
       "    <tr style=\"text-align: right;\">\n",
       "      <th></th>\n",
       "      <th>HomePlanet_Earth</th>\n",
       "      <th>HomePlanet_Europa</th>\n",
       "      <th>HomePlanet_Mars</th>\n",
       "      <th>CryoSleep_True</th>\n",
       "      <th>Destination_55 Cancri e</th>\n",
       "      <th>Destination_PSO J318.5-22</th>\n",
       "      <th>Destination_TRAPPIST-1e</th>\n",
       "      <th>VIP_False</th>\n",
       "      <th>VIP_True</th>\n",
       "      <th>CabDeck_A</th>\n",
       "      <th>CabDeck_B</th>\n",
       "      <th>CabDeck_C</th>\n",
       "      <th>CabDeck_D</th>\n",
       "      <th>CabDeck_E</th>\n",
       "      <th>CabDeck_F</th>\n",
       "      <th>CabDeck_G</th>\n",
       "      <th>CabDeck_T</th>\n",
       "      <th>CabSide_P</th>\n",
       "      <th>CabSide_S</th>\n",
       "    </tr>\n",
       "  </thead>\n",
       "  <tbody>\n",
       "    <tr>\n",
       "      <th>0</th>\n",
       "      <td>0.0</td>\n",
       "      <td>1.0</td>\n",
       "      <td>0.0</td>\n",
       "      <td>1.0</td>\n",
       "      <td>0.0</td>\n",
       "      <td>0.0</td>\n",
       "      <td>1.0</td>\n",
       "      <td>1.0</td>\n",
       "      <td>0.0</td>\n",
       "      <td>0.0</td>\n",
       "      <td>1.0</td>\n",
       "      <td>0.0</td>\n",
       "      <td>0.0</td>\n",
       "      <td>0.0</td>\n",
       "      <td>0.0</td>\n",
       "      <td>0.0</td>\n",
       "      <td>0.0</td>\n",
       "      <td>1.0</td>\n",
       "      <td>0.0</td>\n",
       "    </tr>\n",
       "    <tr>\n",
       "      <th>1</th>\n",
       "      <td>1.0</td>\n",
       "      <td>0.0</td>\n",
       "      <td>0.0</td>\n",
       "      <td>1.0</td>\n",
       "      <td>0.0</td>\n",
       "      <td>0.0</td>\n",
       "      <td>1.0</td>\n",
       "      <td>1.0</td>\n",
       "      <td>0.0</td>\n",
       "      <td>0.0</td>\n",
       "      <td>0.0</td>\n",
       "      <td>0.0</td>\n",
       "      <td>0.0</td>\n",
       "      <td>0.0</td>\n",
       "      <td>1.0</td>\n",
       "      <td>0.0</td>\n",
       "      <td>0.0</td>\n",
       "      <td>0.0</td>\n",
       "      <td>1.0</td>\n",
       "    </tr>\n",
       "    <tr>\n",
       "      <th>2</th>\n",
       "      <td>0.0</td>\n",
       "      <td>1.0</td>\n",
       "      <td>0.0</td>\n",
       "      <td>1.0</td>\n",
       "      <td>0.0</td>\n",
       "      <td>0.0</td>\n",
       "      <td>1.0</td>\n",
       "      <td>0.0</td>\n",
       "      <td>1.0</td>\n",
       "      <td>1.0</td>\n",
       "      <td>0.0</td>\n",
       "      <td>0.0</td>\n",
       "      <td>0.0</td>\n",
       "      <td>0.0</td>\n",
       "      <td>0.0</td>\n",
       "      <td>0.0</td>\n",
       "      <td>0.0</td>\n",
       "      <td>0.0</td>\n",
       "      <td>1.0</td>\n",
       "    </tr>\n",
       "    <tr>\n",
       "      <th>3</th>\n",
       "      <td>0.0</td>\n",
       "      <td>1.0</td>\n",
       "      <td>0.0</td>\n",
       "      <td>1.0</td>\n",
       "      <td>0.0</td>\n",
       "      <td>0.0</td>\n",
       "      <td>1.0</td>\n",
       "      <td>1.0</td>\n",
       "      <td>0.0</td>\n",
       "      <td>1.0</td>\n",
       "      <td>0.0</td>\n",
       "      <td>0.0</td>\n",
       "      <td>0.0</td>\n",
       "      <td>0.0</td>\n",
       "      <td>0.0</td>\n",
       "      <td>0.0</td>\n",
       "      <td>0.0</td>\n",
       "      <td>0.0</td>\n",
       "      <td>1.0</td>\n",
       "    </tr>\n",
       "    <tr>\n",
       "      <th>4</th>\n",
       "      <td>1.0</td>\n",
       "      <td>0.0</td>\n",
       "      <td>0.0</td>\n",
       "      <td>1.0</td>\n",
       "      <td>0.0</td>\n",
       "      <td>0.0</td>\n",
       "      <td>1.0</td>\n",
       "      <td>1.0</td>\n",
       "      <td>0.0</td>\n",
       "      <td>0.0</td>\n",
       "      <td>0.0</td>\n",
       "      <td>0.0</td>\n",
       "      <td>0.0</td>\n",
       "      <td>0.0</td>\n",
       "      <td>1.0</td>\n",
       "      <td>0.0</td>\n",
       "      <td>0.0</td>\n",
       "      <td>0.0</td>\n",
       "      <td>1.0</td>\n",
       "    </tr>\n",
       "  </tbody>\n",
       "</table>\n",
       "</div>"
      ],
      "text/plain": [
       "   HomePlanet_Earth  HomePlanet_Europa  HomePlanet_Mars  CryoSleep_True  \\\n",
       "0               0.0                1.0              0.0             1.0   \n",
       "1               1.0                0.0              0.0             1.0   \n",
       "2               0.0                1.0              0.0             1.0   \n",
       "3               0.0                1.0              0.0             1.0   \n",
       "4               1.0                0.0              0.0             1.0   \n",
       "\n",
       "   Destination_55 Cancri e  Destination_PSO J318.5-22  \\\n",
       "0                      0.0                        0.0   \n",
       "1                      0.0                        0.0   \n",
       "2                      0.0                        0.0   \n",
       "3                      0.0                        0.0   \n",
       "4                      0.0                        0.0   \n",
       "\n",
       "   Destination_TRAPPIST-1e  VIP_False  VIP_True  CabDeck_A  CabDeck_B  \\\n",
       "0                      1.0        1.0       0.0        0.0        1.0   \n",
       "1                      1.0        1.0       0.0        0.0        0.0   \n",
       "2                      1.0        0.0       1.0        1.0        0.0   \n",
       "3                      1.0        1.0       0.0        1.0        0.0   \n",
       "4                      1.0        1.0       0.0        0.0        0.0   \n",
       "\n",
       "   CabDeck_C  CabDeck_D  CabDeck_E  CabDeck_F  CabDeck_G  CabDeck_T  \\\n",
       "0        0.0        0.0        0.0        0.0        0.0        0.0   \n",
       "1        0.0        0.0        0.0        1.0        0.0        0.0   \n",
       "2        0.0        0.0        0.0        0.0        0.0        0.0   \n",
       "3        0.0        0.0        0.0        0.0        0.0        0.0   \n",
       "4        0.0        0.0        0.0        1.0        0.0        0.0   \n",
       "\n",
       "   CabSide_P  CabSide_S  \n",
       "0        1.0        0.0  \n",
       "1        0.0        1.0  \n",
       "2        0.0        1.0  \n",
       "3        0.0        1.0  \n",
       "4        0.0        1.0  "
      ]
     },
     "execution_count": 31,
     "metadata": {},
     "output_type": "execute_result"
    }
   ],
   "source": [
    "# Create a instance of OneHotEncoder\n",
    "encoder = OneHotEncoder()\n",
    "\n",
    "# Apply the OneHotEncoder to categorical impute data\n",
    "df_cat_encoded = encoder.fit_transform(df_imput).toarray()\n",
    "\n",
    "# Converter os dados one-hot encoded em um DataFrame\n",
    "df_cat = pd.DataFrame(df_cat_encoded, columns=encoder.get_feature_names(categorical_features))\n",
    "\n",
    "df_cat.head()"
   ]
  },
  {
   "cell_type": "markdown",
   "metadata": {},
   "source": [
    "**Column `Surname`**\n",
    "\n",
    "\n",
    "Despite being a categorical column, it is not binary, so we will use numeric column transformers"
   ]
  },
  {
   "cell_type": "code",
   "execution_count": 32,
   "metadata": {},
   "outputs": [],
   "source": [
    "surname_col = df_train['Surname']\n",
    "\n",
    "# Apply the SimpleImputer with the strategy 'most_frequent'\n",
    "surn_imputer = SimpleImputer(strategy='most_frequent')\n",
    "surname_coluna_imputado = surn_imputer.fit_transform(surname_col.values.reshape(-1, 1))\n",
    "\n",
    "# Apply the OrdinalEncoder\n",
    "encoder = OrdinalEncoder(handle_unknown='use_encoded_value', unknown_value=-1)\n",
    "surname_col_encoded = encoder.fit_transform(surname_coluna_imputado)\n",
    "\n",
    "# pd.Series\n",
    "surname_series = pd.Series(surname_col_encoded.flatten())"
   ]
  },
  {
   "cell_type": "code",
   "execution_count": 33,
   "metadata": {
    "scrolled": true
   },
   "outputs": [
    {
     "data": {
      "text/html": [
       "<div>\n",
       "<style scoped>\n",
       "    .dataframe tbody tr th:only-of-type {\n",
       "        vertical-align: middle;\n",
       "    }\n",
       "\n",
       "    .dataframe tbody tr th {\n",
       "        vertical-align: top;\n",
       "    }\n",
       "\n",
       "    .dataframe thead th {\n",
       "        text-align: right;\n",
       "    }\n",
       "</style>\n",
       "<table border=\"1\" class=\"dataframe\">\n",
       "  <thead>\n",
       "    <tr style=\"text-align: right;\">\n",
       "      <th></th>\n",
       "      <th>Age</th>\n",
       "      <th>RoomService</th>\n",
       "      <th>FoodCourt</th>\n",
       "      <th>ShoppingMall</th>\n",
       "      <th>Spa</th>\n",
       "      <th>VRDeck</th>\n",
       "      <th>GroupNumber</th>\n",
       "      <th>TotalSpend</th>\n",
       "      <th>CabNum</th>\n",
       "      <th>HomePlanet_Earth</th>\n",
       "      <th>...</th>\n",
       "      <th>CabDeck_B</th>\n",
       "      <th>CabDeck_C</th>\n",
       "      <th>CabDeck_D</th>\n",
       "      <th>CabDeck_E</th>\n",
       "      <th>CabDeck_F</th>\n",
       "      <th>CabDeck_G</th>\n",
       "      <th>CabDeck_T</th>\n",
       "      <th>CabSide_P</th>\n",
       "      <th>CabSide_S</th>\n",
       "      <th>Surname</th>\n",
       "    </tr>\n",
       "  </thead>\n",
       "  <tbody>\n",
       "    <tr>\n",
       "      <th>0</th>\n",
       "      <td>0.687314</td>\n",
       "      <td>-0.728833</td>\n",
       "      <td>-0.750479</td>\n",
       "      <td>-0.721543</td>\n",
       "      <td>-0.776926</td>\n",
       "      <td>-0.742384</td>\n",
       "      <td>-5.184648</td>\n",
       "      <td>-1.158301</td>\n",
       "      <td>-5.099170</td>\n",
       "      <td>0.0</td>\n",
       "      <td>...</td>\n",
       "      <td>1.0</td>\n",
       "      <td>0.0</td>\n",
       "      <td>0.0</td>\n",
       "      <td>0.0</td>\n",
       "      <td>0.0</td>\n",
       "      <td>0.0</td>\n",
       "      <td>0.0</td>\n",
       "      <td>1.0</td>\n",
       "      <td>0.0</td>\n",
       "      <td>1431.0</td>\n",
       "    </tr>\n",
       "    <tr>\n",
       "      <th>1</th>\n",
       "      <td>-0.161416</td>\n",
       "      <td>1.251290</td>\n",
       "      <td>1.134122</td>\n",
       "      <td>1.231545</td>\n",
       "      <td>1.309369</td>\n",
       "      <td>1.201219</td>\n",
       "      <td>-3.606217</td>\n",
       "      <td>0.621619</td>\n",
       "      <td>-5.099170</td>\n",
       "      <td>1.0</td>\n",
       "      <td>...</td>\n",
       "      <td>0.0</td>\n",
       "      <td>0.0</td>\n",
       "      <td>0.0</td>\n",
       "      <td>0.0</td>\n",
       "      <td>1.0</td>\n",
       "      <td>0.0</td>\n",
       "      <td>0.0</td>\n",
       "      <td>0.0</td>\n",
       "      <td>1.0</td>\n",
       "      <td>2109.0</td>\n",
       "    </tr>\n",
       "    <tr>\n",
       "      <th>2</th>\n",
       "      <td>1.549540</td>\n",
       "      <td>1.218752</td>\n",
       "      <td>1.569770</td>\n",
       "      <td>-0.721543</td>\n",
       "      <td>1.765332</td>\n",
       "      <td>1.204310</td>\n",
       "      <td>-3.423109</td>\n",
       "      <td>1.309495</td>\n",
       "      <td>-5.099170</td>\n",
       "      <td>0.0</td>\n",
       "      <td>...</td>\n",
       "      <td>0.0</td>\n",
       "      <td>0.0</td>\n",
       "      <td>0.0</td>\n",
       "      <td>0.0</td>\n",
       "      <td>0.0</td>\n",
       "      <td>0.0</td>\n",
       "      <td>0.0</td>\n",
       "      <td>0.0</td>\n",
       "      <td>1.0</td>\n",
       "      <td>1990.0</td>\n",
       "    </tr>\n",
       "    <tr>\n",
       "      <th>3</th>\n",
       "      <td>0.401203</td>\n",
       "      <td>-0.728833</td>\n",
       "      <td>1.426241</td>\n",
       "      <td>1.383480</td>\n",
       "      <td>1.598274</td>\n",
       "      <td>1.266890</td>\n",
       "      <td>-3.423109</td>\n",
       "      <td>1.113858</td>\n",
       "      <td>-5.099170</td>\n",
       "      <td>0.0</td>\n",
       "      <td>...</td>\n",
       "      <td>0.0</td>\n",
       "      <td>0.0</td>\n",
       "      <td>0.0</td>\n",
       "      <td>0.0</td>\n",
       "      <td>0.0</td>\n",
       "      <td>0.0</td>\n",
       "      <td>0.0</td>\n",
       "      <td>0.0</td>\n",
       "      <td>1.0</td>\n",
       "      <td>1990.0</td>\n",
       "    </tr>\n",
       "    <tr>\n",
       "      <th>4</th>\n",
       "      <td>-0.814420</td>\n",
       "      <td>1.319495</td>\n",
       "      <td>1.188760</td>\n",
       "      <td>1.309119</td>\n",
       "      <td>1.314234</td>\n",
       "      <td>1.123672</td>\n",
       "      <td>-3.311901</td>\n",
       "      <td>0.782533</td>\n",
       "      <td>-2.692718</td>\n",
       "      <td>1.0</td>\n",
       "      <td>...</td>\n",
       "      <td>0.0</td>\n",
       "      <td>0.0</td>\n",
       "      <td>0.0</td>\n",
       "      <td>0.0</td>\n",
       "      <td>1.0</td>\n",
       "      <td>0.0</td>\n",
       "      <td>0.0</td>\n",
       "      <td>0.0</td>\n",
       "      <td>1.0</td>\n",
       "      <td>1778.0</td>\n",
       "    </tr>\n",
       "  </tbody>\n",
       "</table>\n",
       "<p>5 rows × 29 columns</p>\n",
       "</div>"
      ],
      "text/plain": [
       "        Age  RoomService  FoodCourt  ShoppingMall       Spa    VRDeck  \\\n",
       "0  0.687314    -0.728833  -0.750479     -0.721543 -0.776926 -0.742384   \n",
       "1 -0.161416     1.251290   1.134122      1.231545  1.309369  1.201219   \n",
       "2  1.549540     1.218752   1.569770     -0.721543  1.765332  1.204310   \n",
       "3  0.401203    -0.728833   1.426241      1.383480  1.598274  1.266890   \n",
       "4 -0.814420     1.319495   1.188760      1.309119  1.314234  1.123672   \n",
       "\n",
       "   GroupNumber  TotalSpend    CabNum  HomePlanet_Earth  ...  CabDeck_B  \\\n",
       "0    -5.184648   -1.158301 -5.099170               0.0  ...        1.0   \n",
       "1    -3.606217    0.621619 -5.099170               1.0  ...        0.0   \n",
       "2    -3.423109    1.309495 -5.099170               0.0  ...        0.0   \n",
       "3    -3.423109    1.113858 -5.099170               0.0  ...        0.0   \n",
       "4    -3.311901    0.782533 -2.692718               1.0  ...        0.0   \n",
       "\n",
       "   CabDeck_C  CabDeck_D  CabDeck_E  CabDeck_F  CabDeck_G  CabDeck_T  \\\n",
       "0        0.0        0.0        0.0        0.0        0.0        0.0   \n",
       "1        0.0        0.0        0.0        1.0        0.0        0.0   \n",
       "2        0.0        0.0        0.0        0.0        0.0        0.0   \n",
       "3        0.0        0.0        0.0        0.0        0.0        0.0   \n",
       "4        0.0        0.0        0.0        1.0        0.0        0.0   \n",
       "\n",
       "   CabSide_P  CabSide_S  Surname  \n",
       "0        1.0        0.0   1431.0  \n",
       "1        0.0        1.0   2109.0  \n",
       "2        0.0        1.0   1990.0  \n",
       "3        0.0        1.0   1990.0  \n",
       "4        0.0        1.0   1778.0  \n",
       "\n",
       "[5 rows x 29 columns]"
      ]
     },
     "execution_count": 33,
     "metadata": {},
     "output_type": "execute_result"
    }
   ],
   "source": [
    "X_new = pd.concat([df_num, df_cat], axis=1)\n",
    "X_new['Surname'] = surname_series\n",
    "X_new.head()"
   ]
  },
  {
   "cell_type": "markdown",
   "metadata": {},
   "source": [
    "### 6.4. Final adjustments\n",
    "\n",
    "Let's take a look in the values of each column."
   ]
  },
  {
   "cell_type": "code",
   "execution_count": 34,
   "metadata": {},
   "outputs": [
    {
     "name": "stdout",
     "output_type": "stream",
     "text": [
      "-0.161416    324\n",
      "-0.667227    320\n",
      "-0.396146    311\n",
      "-0.566586    293\n",
      "-0.238070    292\n",
      "            ... \n",
      " 2.342037      4\n",
      " 2.889312      3\n",
      " 4.390025      3\n",
      " 2.628102      2\n",
      " 2.727068      2\n",
      "Name: Age, Length: 81, dtype: int64\n",
      "------------------------\n",
      "-0.728833    5655\n",
      " 1.138478     117\n",
      " 1.294073     103\n",
      " 1.148982      79\n",
      " 1.156374      61\n",
      "             ... \n",
      " 1.605094       1\n",
      " 1.733052       1\n",
      " 1.399220       1\n",
      " 1.334860       1\n",
      " 1.431461       1\n",
      "Name: RoomService, Length: 1274, dtype: int64\n",
      "------------------------\n",
      "-0.750479    5537\n",
      " 1.095839     116\n",
      " 1.285371     102\n",
      " 1.105689      75\n",
      " 1.112471      53\n",
      "             ... \n",
      " 1.587081       1\n",
      " 1.656339       1\n",
      " 1.254800       1\n",
      " 1.373091       1\n",
      " 1.635782       1\n",
      "Name: FoodCourt, Length: 1508, dtype: int64\n",
      "------------------------\n",
      "-0.721543    5695\n",
      " 1.155450     153\n",
      " 1.322480     100\n",
      " 1.167921      80\n",
      " 1.174942      59\n",
      "             ... \n",
      " 1.895021       1\n",
      " 1.756684       1\n",
      " 1.543696       1\n",
      " 1.495096       1\n",
      " 1.723204       1\n",
      "Name: ShoppingMall, Length: 1116, dtype: int64\n",
      "------------------------\n",
      "-0.776926    5395\n",
      " 1.048363     146\n",
      " 1.253048     112\n",
      " 1.060686     105\n",
      " 1.068696      53\n",
      "             ... \n",
      " 1.233886       1\n",
      " 1.555892       1\n",
      " 1.578869       1\n",
      " 1.621906       1\n",
      " 1.489476       1\n",
      "Name: Spa, Length: 1328, dtype: int64\n",
      "------------------------\n",
      "-0.742384    5581\n",
      " 1.112828     139\n",
      " 1.298158     102\n",
      " 1.123672      70\n",
      " 1.130066      56\n",
      "             ... \n",
      " 1.289571       1\n",
      " 1.560378       1\n",
      " 1.483680       1\n",
      " 1.871237       1\n",
      " 1.651079       1\n",
      "Name: VRDeck, Length: 1307, dtype: int64\n",
      "------------------------\n",
      "-0.035234    8\n",
      " 1.175770    8\n",
      " 1.544862    8\n",
      " 1.611060    8\n",
      " 1.784305    8\n",
      "            ..\n",
      "-0.323679    1\n",
      "-0.324663    1\n",
      "-0.325541    1\n",
      "-0.327917    1\n",
      "-0.003923    1\n",
      "Name: GroupNumber, Length: 6217, dtype: int64\n",
      "------------------------\n",
      "-1.158301    3653\n",
      " 0.682321      54\n",
      " 0.655030      40\n",
      " 0.673615      39\n",
      " 0.670145      34\n",
      "             ... \n",
      " 1.025741       1\n",
      " 0.558094       1\n",
      " 1.270873       1\n",
      " 1.197201       1\n",
      " 1.089078       1\n",
      "Name: TotalSpend, Length: 2336, dtype: int64\n",
      "------------------------\n",
      "-1.105743    28\n",
      "-1.071429    23\n",
      "-0.620768    22\n",
      "-1.827453    22\n",
      "-1.326813    21\n",
      "             ..\n",
      " 1.831966     1\n",
      " 0.639771     1\n",
      " 1.822263     1\n",
      " 1.817978     1\n",
      " 5.106823     1\n",
      "Name: CabNum, Length: 1817, dtype: int64\n",
      "------------------------\n",
      "1.0    4695\n",
      "0.0    3998\n",
      "Name: HomePlanet_Earth, dtype: int64\n",
      "------------------------\n",
      "0.0    6507\n",
      "1.0    2186\n",
      "Name: HomePlanet_Europa, dtype: int64\n",
      "------------------------\n",
      "0.0    6881\n",
      "1.0    1812\n",
      "Name: HomePlanet_Mars, dtype: int64\n",
      "------------------------\n",
      "1.0    8693\n",
      "Name: CryoSleep_True, dtype: int64\n",
      "------------------------\n",
      "0.0    6861\n",
      "1.0    1832\n",
      "Name: Destination_55 Cancri e, dtype: int64\n",
      "------------------------\n",
      "0.0    7877\n",
      "1.0     816\n",
      "Name: Destination_PSO J318.5-22, dtype: int64\n",
      "------------------------\n",
      "1.0    6045\n",
      "0.0    2648\n",
      "Name: Destination_TRAPPIST-1e, dtype: int64\n",
      "------------------------\n",
      "1.0    8494\n",
      "0.0     199\n",
      "Name: VIP_False, dtype: int64\n",
      "------------------------\n",
      "0.0    8494\n",
      "1.0     199\n",
      "Name: VIP_True, dtype: int64\n",
      "------------------------\n",
      "0.0    8428\n",
      "1.0     265\n",
      "Name: CabDeck_A, dtype: int64\n",
      "------------------------\n",
      "0.0    7891\n",
      "1.0     802\n",
      "Name: CabDeck_B, dtype: int64\n",
      "------------------------\n",
      "0.0    7926\n",
      "1.0     767\n",
      "Name: CabDeck_C, dtype: int64\n",
      "------------------------\n",
      "0.0    8204\n",
      "1.0     489\n",
      "Name: CabDeck_D, dtype: int64\n",
      "------------------------\n",
      "0.0    7801\n",
      "1.0     892\n",
      "Name: CabDeck_E, dtype: int64\n",
      "------------------------\n",
      "0.0    5830\n",
      "1.0    2863\n",
      "Name: CabDeck_F, dtype: int64\n",
      "------------------------\n",
      "0.0    6084\n",
      "1.0    2609\n",
      "Name: CabDeck_G, dtype: int64\n",
      "------------------------\n",
      "0.0    8687\n",
      "1.0       6\n",
      "Name: CabDeck_T, dtype: int64\n",
      "------------------------\n",
      "0.0    4385\n",
      "1.0    4308\n",
      "Name: CabSide_P, dtype: int64\n",
      "------------------------\n",
      "1.0    4385\n",
      "0.0    4308\n",
      "Name: CabSide_S, dtype: int64\n",
      "------------------------\n",
      "356.0     18\n",
      "1447.0    16\n",
      "1205.0    16\n",
      "347.0     15\n",
      "604.0     15\n",
      "          ..\n",
      "635.0      1\n",
      "453.0      1\n",
      "774.0      1\n",
      "494.0      1\n",
      "1860.0     1\n",
      "Name: Surname, Length: 2217, dtype: int64\n",
      "------------------------\n"
     ]
    }
   ],
   "source": [
    "for column in X_new.columns:\n",
    "    print(X_new[column].value_counts())\n",
    "    print(\"------------------------\")"
   ]
  },
  {
   "cell_type": "markdown",
   "metadata": {},
   "source": [
    "If you noticed well, the column `CryoSleep`"
   ]
  }
 ],
 "metadata": {
  "kernelspec": {
   "display_name": "Python 3 (ipykernel)",
   "language": "python",
   "name": "python3"
  },
  "language_info": {
   "codemirror_mode": {
    "name": "ipython",
    "version": 3
   },
   "file_extension": ".py",
   "mimetype": "text/x-python",
   "name": "python",
   "nbconvert_exporter": "python",
   "pygments_lexer": "ipython3",
   "version": "3.9.12"
  }
 },
 "nbformat": 4,
 "nbformat_minor": 2
}
